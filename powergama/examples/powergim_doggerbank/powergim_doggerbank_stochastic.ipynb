{
 "cells": [
  {
   "cell_type": "markdown",
   "metadata": {},
   "source": [
    "# PowerGIM stochastic optimisation\n",
    "## example Doggerbank\n",
    "\n",
    "This optimsation problem extends the deterministic one\n",
    "\n"
   ]
  },
  {
   "cell_type": "code",
   "execution_count": 79,
   "metadata": {},
   "outputs": [
    {
     "name": "stdout",
     "output_type": "stream",
     "text": [
      "The autoreload extension is already loaded. To reload it, use:\n",
      "  %reload_ext autoreload\n"
     ]
    }
   ],
   "source": [
    "%matplotlib inline\n",
    "%load_ext autoreload\n",
    "%autoreload 2\n",
    "import ipywidgets\n",
    "import IPython.display\n",
    "import pyomo.pysp.util.rapper as rapper\n",
    "import pyomo.pysp.plugins.csvsolutionwriter as csvw\n",
    "import pyomo.environ as pyo\n",
    "import pandas as pd\n",
    "import copy\n",
    "import powergama\n",
    "import powergama.powergim as pgim\n",
    "import powergama.plots"
   ]
  },
  {
   "cell_type": "code",
   "execution_count": null,
   "metadata": {},
   "outputs": [],
   "source": []
  },
  {
   "cell_type": "markdown",
   "metadata": {},
   "source": [
    "## Read input data"
   ]
  },
  {
   "cell_type": "code",
   "execution_count": 207,
   "metadata": {},
   "outputs": [
    {
     "name": "stdout",
     "output_type": "stream",
     "text": [
      "Computing B and DA matrices...\n",
      "Creating B and DA coefficients...\n"
     ]
    }
   ],
   "source": [
    "grid_data = powergama.GridData()\n",
    "grid_data.readSipData(nodes = \"data/dog_nodes.csv\",\n",
    "    branches = \"data/dog_branches_min.csv\",\n",
    "    generators = \"data/dog_generators.csv\",\n",
    "    consumers = \"data/dog_consumers.csv\")\n",
    "# Profiles:\n",
    "samplesize = 100\n",
    "grid_data.readProfileData(\n",
    "    filename= \"data/timeseries_sample_100_rnd2016.csv\",\n",
    "    timerange=range(samplesize), timedelta=1.0)\n",
    "sip = pgim.SipModel()\n",
    "dict_data = sip.createModelData(grid_data,\n",
    "    datafile='data/dog_data_irpwind.xml',\n",
    "    maxNewBranchNum=5,maxNewBranchCap=5000)\n",
    "\n",
    "with open('data/dog_data_irpwind.xml',\"r\") as file:\n",
    "    parameters_xml = file.read()"
   ]
  },
  {
   "cell_type": "code",
   "execution_count": 212,
   "metadata": {},
   "outputs": [
    {
     "data": {
      "application/vnd.jupyter.widget-view+json": {
       "model_id": "3934e9514bae4752bb88d7f73c700ba0",
       "version_major": 2,
       "version_minor": 0
      },
      "text/plain": [
       "interactive(children=(Dropdown(description='data', options=('', 'node', 'branch', 'generator', 'consumer', 'PA…"
      ]
     },
     "metadata": {},
     "output_type": "display_data"
    }
   ],
   "source": [
    "@ipywidgets.interact(\n",
    "    data=['','node','branch','generator','consumer','PARAMETERS'])\n",
    "def showdata(data):\n",
    "    if data=='': print(\"Select data to display\")\n",
    "    elif data=='PARAMETERS': print(parameters_xml)\n",
    "    else: display(getattr(grid_data,data))"
   ]
  },
  {
   "cell_type": "code",
   "execution_count": null,
   "metadata": {},
   "outputs": [],
   "source": []
  },
  {
   "cell_type": "markdown",
   "metadata": {},
   "source": [
    "## Define scenario tree\n",
    "### including call-back function for scenario creation"
   ]
  },
  {
   "cell_type": "code",
   "execution_count": 210,
   "metadata": {},
   "outputs": [],
   "source": [
    "scenario_numberof=3\n",
    "scenario_probability = [0.50,0.25,0.25]\n",
    "stm = sip.createScenarioTreeModel(num_scenarios=scenario_numberof,\n",
    "    probabilities=scenario_probability)"
   ]
  },
  {
   "cell_type": "code",
   "execution_count": 77,
   "metadata": {},
   "outputs": [],
   "source": [
    "def _scenario_data(scenario_name,return_var='dict_data'):\n",
    "    \"\"\"Modify data according to scenario\"\"\"\n",
    "    global dict_data\n",
    "    global grid_data\n",
    "\n",
    "    # Uncertain wind farm capacity (coming in stage 2)\n",
    "    # deterministic: 1200\n",
    "    # Deterministicv solution connects NO-GB via Teeside C (indxC)\n",
    "    \n",
    "    indxD = grid_data.generator[grid_data.generator['desc']=='Teeside D'].index[0]\n",
    "    capD = {'Scenario1': 1200,\n",
    "            'Scenario2': 600,\n",
    "            'Scenario3': 0}\n",
    "    if return_var=='dict_data':\n",
    "        dict_data['powergim']['genCapacity2'][indxD] = capD[scenario_name]\n",
    "        return dict_data\n",
    "    elif return_var=='grid_data':\n",
    "        grid_data2 = copy.deepcopy(grid_data)\n",
    "        grid_data2.generator.loc[indxD,'pmax'] = capD[scenario_name]\n",
    "        return grid_data2\n",
    "    else:\n",
    "        raise Exception(\"Wrong return_var\")\n",
    "\n",
    "def pysp_instance_creation_callback(xxx,scenario_name, node_names):\n",
    "    '''call-back function to create model instance'''\n",
    "    #print(\"Creating model instance for scenario={}\".format(scenario_name))\n",
    "    #print(\"Arguments:\",xxx,scenario_name,node_names)\n",
    "    dict_data = _scenario_data(scenario_name)\n",
    "    instance = sip.createConcreteModel(dict_data=dict_data)\n",
    "    #instance.write('sto_model_{}.lp'.format(scenario_name))\n",
    "    #instance.pprint('sto_prob_{}.txt'.format(scenario_name))\n",
    "    return instance"
   ]
  },
  {
   "cell_type": "code",
   "execution_count": 11,
   "metadata": {},
   "outputs": [],
   "source": [
    "# test call-back function:\n",
    "#inst=pysp_instance_creation_callback('hei','Scenario1', ['root','Scenario1'])"
   ]
  },
  {
   "cell_type": "code",
   "execution_count": null,
   "metadata": {},
   "outputs": [],
   "source": []
  },
  {
   "cell_type": "markdown",
   "metadata": {},
   "source": [
    "## Solve"
   ]
  },
  {
   "cell_type": "code",
   "execution_count": 17,
   "metadata": {},
   "outputs": [],
   "source": [
    "solvername='cbc'\n",
    "sopts = {}\n",
    "sopts['--drop-proximal-terms'] = None\n",
    "sopts['--linearize-nonbinary-penalty-terms'] = 5\n",
    "sopts = None\n",
    "\n",
    "phopts = {}\n",
    "phopts['--output-solver-log'] = None\n",
    "phopts['--max-iterations'] = '3'\n",
    "\n",
    "stsolver = rapper.StochSolver(\n",
    "    fsfile=None,fsfct=pysp_instance_creation_callback, \n",
    "    tree_model = stm,\n",
    "    phopts=phopts)"
   ]
  },
  {
   "cell_type": "markdown",
   "metadata": {},
   "source": [
    "### Solve - alternative 1: Extesive form (ef)"
   ]
  },
  {
   "cell_type": "code",
   "execution_count": 18,
   "metadata": {},
   "outputs": [],
   "source": [
    "ef_sol = stsolver.solve_ef(subsolver=solvername,sopts=sopts)"
   ]
  },
  {
   "cell_type": "code",
   "execution_count": 19,
   "metadata": {},
   "outputs": [
    {
     "name": "stdout",
     "output_type": "stream",
     "text": [
      "-5.6002680225\n"
     ]
    }
   ],
   "source": [
    "print(stsolver.root_E_obj()/1e9)"
   ]
  },
  {
   "cell_type": "code",
   "execution_count": 20,
   "metadata": {},
   "outputs": [
    {
     "name": "stdout",
     "output_type": "stream",
     "text": [
      "Scenario tree solution written to file=sto_doggerbank_smaller.csv\n",
      "Scenario stage costs written to file=sto_doggerbank_smaller_StageCostDetail.csv\n"
     ]
    }
   ],
   "source": [
    "csvw.write_csv_soln(stsolver.scenario_tree, \"sto_doggerbank_smaller\") "
   ]
  },
  {
   "cell_type": "markdown",
   "metadata": {},
   "source": [
    "### Solve - alternative 2: Progressive hedging (ph)\n",
    "Ref: https://pyomo.readthedocs.io/en/stable/advanced_topics/pysp_rapper/demorapper.html#ph"
   ]
  },
  {
   "cell_type": "code",
   "execution_count": null,
   "metadata": {},
   "outputs": [],
   "source": [
    "#ph_sol = stsolver.solve_ph(subsolver=solvername, default_rho=1,phopts=phopts,sopts=sopts)"
   ]
  },
  {
   "cell_type": "code",
   "execution_count": null,
   "metadata": {},
   "outputs": [],
   "source": [
    "# With PH, it is important to be careful to distinguish x-bar from x-hat.\n",
    "#obj, xhat = rapper.xhat_from_ph(ph_sol)"
   ]
  },
  {
   "cell_type": "code",
   "execution_count": null,
   "metadata": {},
   "outputs": [],
   "source": []
  },
  {
   "cell_type": "markdown",
   "metadata": {},
   "source": [
    "## Investigate solution\n",
    "\n",
    "* create maps (```m_opt``` dictionary)\n",
    "* load results into dataframes (```allres``` dictionary)"
   ]
  },
  {
   "cell_type": "code",
   "execution_count": 22,
   "metadata": {},
   "outputs": [],
   "source": [
    "# spread coordinates for better plotting\n",
    "grid_data.spreadNodeCoordinates(radius=0.04,inplace=True)"
   ]
  },
  {
   "cell_type": "code",
   "execution_count": 162,
   "metadata": {},
   "outputs": [
    {
     "name": "stdout",
     "output_type": "stream",
     "text": [
      "Scenario: Scenario1_1\n",
      "Scenario: Scenario1_2\n",
      "Warning! powergim.computeSTOcosts is not fully implemented yet.\n",
      "Scenario: Scenario2_1\n",
      "Scenario: Scenario2_2\n",
      "Warning! powergim.computeSTOcosts is not fully implemented yet.\n",
      "Scenario: Scenario3_1\n",
      "Scenario: Scenario3_2\n",
      "Warning! powergim.computeSTOcosts is not fully implemented yet.\n"
     ]
    }
   ],
   "source": [
    "m_opt={}\n",
    "grid_res={}\n",
    "allres={}\n",
    "costs=pd.DataFrame()\n",
    "\n",
    "m_opt['input'] = powergama.plots.plotMap(pg_data=grid_data,pg_res=None,\n",
    "    nodetype='powergim_type',branchtype='powergim_type')\n",
    "\n",
    "for scen in stsolver.scenario_tree.subproblems:\n",
    "    scen_name=scen.name\n",
    "    inst = scen.instance\n",
    "    # Update data according to scenario (affects stage 2)\n",
    "    grid_data = _scenario_data(scen_name,return_var='grid_data')\n",
    "    for stage in stm.Stages:\n",
    "        res = sip.extractResultingGridData(\n",
    "            grid_data=grid_data,\n",
    "            model=inst,stage=stage,scenario=scen_name)\n",
    "        m = powergama.plots.plotMap(\n",
    "            pg_data=res,res=None,\n",
    "            nodetype='powergim_type',branchtype='powergim_type')\n",
    "        k = '{}_{}'.format(scen_name,stage)\n",
    "        m_opt[k] = m\n",
    "        grid_res[k] = res\n",
    "    #    res.writeGridDataToFiles(\"sto_{}_\".format(k))\n",
    "\n",
    "        print('Scenario: {}'.format(k))\n",
    "\n",
    "    # Storing all results in dataframes\n",
    "    for v in inst.component_objects(pyo.Var,active=True):\n",
    "        #print(v,end=\": \")\n",
    "        df = pd.DataFrame.from_dict(v.get_values(),orient=\"index\")\n",
    "        df = df.reset_index()\n",
    "        vi = v.index_set()\n",
    "        if hasattr(vi,'_sets'):\n",
    "            cols=[str(k) for k in vi._sets]\n",
    "        else:\n",
    "            cols=[str(v.index_set())]\n",
    "        #print(cols)\n",
    "        df1 = pd.DataFrame(df['index'].tolist(),index=df.index,columns=cols)\n",
    "        df1['value'] = df[0]\n",
    "        allres[v.name] = df1\n",
    "    \n",
    "    # Compute costs (investment+operation)\n",
    "    df=allres['{}.generation'.format(scen_name)]\n",
    "    df.columns=['gen','time','stage','value']\n",
    "    generation = [ df[df['stage']==1], df[df['stage']==2]]\n",
    "    cost = pgim.computeSTOcosts(\n",
    "        grid_res[k],dict_data,generation=generation)\n",
    "    costs = pd.concat([costs,pd.DataFrame.from_dict(\n",
    "        cost,orient=\"index\",columns=[scen_name])],axis=1)"
   ]
  },
  {
   "cell_type": "code",
   "execution_count": 163,
   "metadata": {},
   "outputs": [
    {
     "data": {
      "text/html": [
       "<div>\n",
       "<style scoped>\n",
       "    .dataframe tbody tr th:only-of-type {\n",
       "        vertical-align: middle;\n",
       "    }\n",
       "\n",
       "    .dataframe tbody tr th {\n",
       "        vertical-align: top;\n",
       "    }\n",
       "\n",
       "    .dataframe thead th {\n",
       "        text-align: right;\n",
       "    }\n",
       "</style>\n",
       "<table border=\"1\" class=\"dataframe\">\n",
       "  <thead>\n",
       "    <tr style=\"text-align: right;\">\n",
       "      <th></th>\n",
       "      <th>Scenario1</th>\n",
       "      <th>Scenario2</th>\n",
       "      <th>Scenario3</th>\n",
       "    </tr>\n",
       "  </thead>\n",
       "  <tbody>\n",
       "    <tr>\n",
       "      <th>(1, invest)</th>\n",
       "      <td>9.038486e+09</td>\n",
       "      <td>9.038486e+09</td>\n",
       "      <td>9.038486e+09</td>\n",
       "    </tr>\n",
       "    <tr>\n",
       "      <th>(1, op)</th>\n",
       "      <td>0.000000e+00</td>\n",
       "      <td>0.000000e+00</td>\n",
       "      <td>0.000000e+00</td>\n",
       "    </tr>\n",
       "    <tr>\n",
       "      <th>(2, invest)</th>\n",
       "      <td>1.071958e+09</td>\n",
       "      <td>9.835806e+08</td>\n",
       "      <td>1.497586e+08</td>\n",
       "    </tr>\n",
       "    <tr>\n",
       "      <th>(2, op)</th>\n",
       "      <td>-1.555478e+10</td>\n",
       "      <td>-1.559269e+10</td>\n",
       "      <td>-1.512568e+10</td>\n",
       "    </tr>\n",
       "  </tbody>\n",
       "</table>\n",
       "</div>"
      ],
      "text/plain": [
       "                Scenario1     Scenario2     Scenario3\n",
       "(1, invest)  9.038486e+09  9.038486e+09  9.038486e+09\n",
       "(1, op)      0.000000e+00  0.000000e+00  0.000000e+00\n",
       "(2, invest)  1.071958e+09  9.835806e+08  1.497586e+08\n",
       "(2, op)     -1.555478e+10 -1.559269e+10 -1.512568e+10"
      ]
     },
     "execution_count": 163,
     "metadata": {},
     "output_type": "execute_result"
    }
   ],
   "source": [
    "costs"
   ]
  },
  {
   "cell_type": "code",
   "execution_count": 164,
   "metadata": {},
   "outputs": [
    {
     "data": {
      "text/plain": [
       "Scenario1   -5.444332e+09\n",
       "Scenario2   -5.570623e+09\n",
       "Scenario3   -5.937439e+09\n",
       "dtype: float64"
      ]
     },
     "execution_count": 164,
     "metadata": {},
     "output_type": "execute_result"
    }
   ],
   "source": [
    "costs.sum()"
   ]
  },
  {
   "cell_type": "code",
   "execution_count": 248,
   "metadata": {},
   "outputs": [
    {
     "data": {
      "text/html": [
       "<div>\n",
       "<style scoped>\n",
       "    .dataframe tbody tr th:only-of-type {\n",
       "        vertical-align: middle;\n",
       "    }\n",
       "\n",
       "    .dataframe tbody tr th {\n",
       "        vertical-align: top;\n",
       "    }\n",
       "\n",
       "    .dataframe thead th {\n",
       "        text-align: right;\n",
       "    }\n",
       "</style>\n",
       "<table border=\"1\" class=\"dataframe\">\n",
       "  <thead>\n",
       "    <tr style=\"text-align: right;\">\n",
       "      <th></th>\n",
       "      <th>opex</th>\n",
       "      <th>capex</th>\n",
       "    </tr>\n",
       "  </thead>\n",
       "  <tbody>\n",
       "    <tr>\n",
       "      <th>1</th>\n",
       "      <td>-9.370928e+08</td>\n",
       "      <td>9.037656e+09</td>\n",
       "    </tr>\n",
       "    <tr>\n",
       "      <th>2</th>\n",
       "      <td>-1.418859e+10</td>\n",
       "      <td>1.497665e+08</td>\n",
       "    </tr>\n",
       "  </tbody>\n",
       "</table>\n",
       "</div>"
      ],
      "text/plain": [
       "           opex         capex\n",
       "1 -9.370928e+08  9.037656e+09\n",
       "2 -1.418859e+10  1.497665e+08"
      ]
     },
     "execution_count": 248,
     "metadata": {},
     "output_type": "execute_result"
    }
   ],
   "source": [
    "dfcost=pd.concat([pd.DataFrame.from_dict(inst.opCost.get_values(),orient=\"index\"),\n",
    "    pd.DataFrame.from_dict(inst.investmentCost.get_values(),orient=\"index\")],axis=1)\n",
    "dfcost.columns=['opex','capex']\n",
    "dfcost"
   ]
  },
  {
   "cell_type": "code",
   "execution_count": 165,
   "metadata": {},
   "outputs": [
    {
     "data": {
      "text/plain": [
       "dict_keys(['Scenario1.branchNewCapacity', 'Scenario1.branchNewCables', 'Scenario1.newNodes', 'Scenario1.genNewCapacity', 'Scenario1.branchFlow12', 'Scenario1.branchFlow21', 'Scenario1.voltageAngle', 'Scenario1.generation', 'Scenario1.loadShed', 'Scenario1.investmentCost', 'Scenario1.opCost', 'Scenario2.branchNewCapacity', 'Scenario2.branchNewCables', 'Scenario2.newNodes', 'Scenario2.genNewCapacity', 'Scenario2.branchFlow12', 'Scenario2.branchFlow21', 'Scenario2.voltageAngle', 'Scenario2.generation', 'Scenario2.loadShed', 'Scenario2.investmentCost', 'Scenario2.opCost', 'Scenario3.branchNewCapacity', 'Scenario3.branchNewCables', 'Scenario3.newNodes', 'Scenario3.genNewCapacity', 'Scenario3.branchFlow12', 'Scenario3.branchFlow21', 'Scenario3.voltageAngle', 'Scenario3.generation', 'Scenario3.loadShed', 'Scenario3.investmentCost', 'Scenario3.opCost'])"
      ]
     },
     "execution_count": 165,
     "metadata": {},
     "output_type": "execute_result"
    }
   ],
   "source": [
    "allres.keys()"
   ]
  },
  {
   "cell_type": "code",
   "execution_count": null,
   "metadata": {},
   "outputs": [],
   "source": []
  },
  {
   "cell_type": "markdown",
   "metadata": {},
   "source": [
    "## Maps"
   ]
  },
  {
   "cell_type": "code",
   "execution_count": 170,
   "metadata": {},
   "outputs": [
    {
     "data": {
      "application/vnd.jupyter.widget-view+json": {
       "model_id": "d3566a3c298b4e3c85fae8ee4572996e",
       "version_major": 2,
       "version_minor": 0
      },
      "text/plain": [
       "interactive(children=(Dropdown(description='x', options=('input', 'Scenario1_1', 'Scenario1_2', 'Scenario2_1',…"
      ]
     },
     "metadata": {},
     "output_type": "display_data"
    }
   ],
   "source": [
    "@ipywidgets.interact(x= m_opt.keys())\n",
    "def plotmap(x):\n",
    "    print(\"Offshore grid - {}\".format(x))\n",
    "    display(m_opt[x])"
   ]
  },
  {
   "cell_type": "code",
   "execution_count": null,
   "metadata": {},
   "outputs": [],
   "source": []
  },
  {
   "cell_type": "code",
   "execution_count": null,
   "metadata": {},
   "outputs": [],
   "source": []
  },
  {
   "cell_type": "markdown",
   "metadata": {},
   "source": [
    "### Reading results from file\n",
    "This is useful when wanting to re-processing previous results without running the optimisation again"
   ]
  },
  {
   "cell_type": "code",
   "execution_count": 73,
   "metadata": {},
   "outputs": [
    {
     "name": "stdout",
     "output_type": "stream",
     "text": [
      "{(1, 'invest'): 9038485798.41918, (1, 'op'): 0.0, (2, 'invest'): 0.0, (2, 'op'): 0.0}\n",
      "Scenario 1\n",
      "Scenario 2\n",
      "Scenario 3\n"
     ]
    }
   ],
   "source": [
    "res_file=\"sto_doggerbank_smaller.csv\"\n",
    "\n",
    "grid_data.spreadNodeCoordinates(radius=0.04,inplace=True)\n",
    "grid_res = sip.extractResultingGridData(grid_data=grid_data,\n",
    "                                    file_ph=res_file,stage=1)\n",
    "grid_res.writeGridDataToFiles(\"sto_smaller_\")\n",
    "\n",
    "m_input = powergama.plots.plotMap(pg_data=grid_data,pg_res=None,\n",
    "    nodetype='powergim_type',branchtype='powergim_type')\n",
    "\n",
    "m_opt1 = powergama.plots.plotMap(pg_data=grid_res,pg_res=None,\n",
    "    nodetype='powergim_type',branchtype='powergim_type')\n",
    "\n",
    "for s in range(scenario_numberof):\n",
    "    scen_name = 'Scenario{}'.format(s+1)\n",
    "    _scenario_data()\n",
    "    dict_data = _scenario_data(scen_name,return_var='grid_data')\n",
    "    grid_res = sip.extractResultingGridData(grid_data=grid_data,\n",
    "                                        file_ph=res_file,stage=2,\n",
    "                                        scenario=s+1)\n",
    "    grid_res.writeGridDataToFiles(\"sto_{}_\".format(s+1))\n",
    "    m_opt2[s]=powergama.plots.plotMap(pg_data=grid_res,res=None,\n",
    "        nodetype='powergim_type',branchtype='powergim_type')\n",
    "    print('Scenario {}'.format(s+1))"
   ]
  },
  {
   "cell_type": "code",
   "execution_count": null,
   "metadata": {
    "scrolled": true
   },
   "outputs": [],
   "source": []
  },
  {
   "cell_type": "code",
   "execution_count": null,
   "metadata": {},
   "outputs": [],
   "source": []
  },
  {
   "cell_type": "code",
   "execution_count": null,
   "metadata": {
    "scrolled": true
   },
   "outputs": [],
   "source": []
  },
  {
   "cell_type": "code",
   "execution_count": null,
   "metadata": {},
   "outputs": [],
   "source": []
  },
  {
   "cell_type": "code",
   "execution_count": null,
   "metadata": {},
   "outputs": [],
   "source": []
  }
 ],
 "metadata": {
  "kernelspec": {
   "display_name": "Python 3",
   "language": "python",
   "name": "python3"
  },
  "language_info": {
   "codemirror_mode": {
    "name": "ipython",
    "version": 3
   },
   "file_extension": ".py",
   "mimetype": "text/x-python",
   "name": "python",
   "nbconvert_exporter": "python",
   "pygments_lexer": "ipython3",
   "version": "3.7.4"
  },
  "widgets": {
   "application/vnd.jupyter.widget-state+json": {
    "state": {
     "005bb0dec14a4076ad9d31fdceba150f": {
      "model_module": "@jupyter-widgets/base",
      "model_module_version": "1.2.0",
      "model_name": "LayoutModel",
      "state": {}
     },
     "0108f770126d494ab586a6b9e9189858": {
      "model_module": "@jupyter-widgets/base",
      "model_module_version": "1.2.0",
      "model_name": "LayoutModel",
      "state": {}
     },
     "030e7f560fd6430da389f341de15227b": {
      "model_module": "@jupyter-widgets/base",
      "model_module_version": "1.2.0",
      "model_name": "LayoutModel",
      "state": {}
     },
     "04c9c70e9da643649bf78ce7b8120193": {
      "model_module": "@jupyter-widgets/output",
      "model_module_version": "1.0.0",
      "model_name": "OutputModel",
      "state": {
       "layout": "IPY_MODEL_31906085b1464abdad0c75aefe9a4a2a",
       "outputs": [
        {
         "name": "stdout",
         "output_type": "stream",
         "text": "Offshore grid\n"
        },
        {
         "ename": "KeyError",
         "evalue": "'opt2_Scenario1'",
         "output_type": "error",
         "traceback": [
          "\u001b[1;31m---------------------------------------------------------------------------\u001b[0m",
          "\u001b[1;31mKeyError\u001b[0m                                  Traceback (most recent call last)",
          "\u001b[1;32m~\\AppData\\Local\\Continuum\\anaconda3\\lib\\site-packages\\ipywidgets\\widgets\\interaction.py\u001b[0m in \u001b[0;36mupdate\u001b[1;34m(self, *args)\u001b[0m\n\u001b[0;32m    254\u001b[0m                     \u001b[0mvalue\u001b[0m \u001b[1;33m=\u001b[0m \u001b[0mwidget\u001b[0m\u001b[1;33m.\u001b[0m\u001b[0mget_interact_value\u001b[0m\u001b[1;33m(\u001b[0m\u001b[1;33m)\u001b[0m\u001b[1;33m\u001b[0m\u001b[1;33m\u001b[0m\u001b[0m\n\u001b[0;32m    255\u001b[0m                     \u001b[0mself\u001b[0m\u001b[1;33m.\u001b[0m\u001b[0mkwargs\u001b[0m\u001b[1;33m[\u001b[0m\u001b[0mwidget\u001b[0m\u001b[1;33m.\u001b[0m\u001b[0m_kwarg\u001b[0m\u001b[1;33m]\u001b[0m \u001b[1;33m=\u001b[0m \u001b[0mvalue\u001b[0m\u001b[1;33m\u001b[0m\u001b[1;33m\u001b[0m\u001b[0m\n\u001b[1;32m--> 256\u001b[1;33m                 \u001b[0mself\u001b[0m\u001b[1;33m.\u001b[0m\u001b[0mresult\u001b[0m \u001b[1;33m=\u001b[0m \u001b[0mself\u001b[0m\u001b[1;33m.\u001b[0m\u001b[0mf\u001b[0m\u001b[1;33m(\u001b[0m\u001b[1;33m**\u001b[0m\u001b[0mself\u001b[0m\u001b[1;33m.\u001b[0m\u001b[0mkwargs\u001b[0m\u001b[1;33m)\u001b[0m\u001b[1;33m\u001b[0m\u001b[1;33m\u001b[0m\u001b[0m\n\u001b[0m\u001b[0;32m    257\u001b[0m                 \u001b[0mshow_inline_matplotlib_plots\u001b[0m\u001b[1;33m(\u001b[0m\u001b[1;33m)\u001b[0m\u001b[1;33m\u001b[0m\u001b[1;33m\u001b[0m\u001b[0m\n\u001b[0;32m    258\u001b[0m                 \u001b[1;32mif\u001b[0m \u001b[0mself\u001b[0m\u001b[1;33m.\u001b[0m\u001b[0mauto_display\u001b[0m \u001b[1;32mand\u001b[0m \u001b[0mself\u001b[0m\u001b[1;33m.\u001b[0m\u001b[0mresult\u001b[0m \u001b[1;32mis\u001b[0m \u001b[1;32mnot\u001b[0m \u001b[1;32mNone\u001b[0m\u001b[1;33m:\u001b[0m\u001b[1;33m\u001b[0m\u001b[1;33m\u001b[0m\u001b[0m\n",
          "\u001b[1;32m<ipython-input-63-4ea6a7ab2b7c>\u001b[0m in \u001b[0;36mplotmap\u001b[1;34m(x)\u001b[0m\n\u001b[0;32m      3\u001b[0m     \u001b[0mprint\u001b[0m\u001b[1;33m(\u001b[0m\u001b[1;34m\"Offshore grid\"\u001b[0m\u001b[1;33m)\u001b[0m\u001b[1;33m\u001b[0m\u001b[1;33m\u001b[0m\u001b[0m\n\u001b[0;32m      4\u001b[0m     \u001b[0mmapmap\u001b[0m \u001b[1;33m=\u001b[0m \u001b[1;33m{\u001b[0m\u001b[1;33m**\u001b[0m\u001b[1;33m{\u001b[0m\u001b[1;34m'input'\u001b[0m\u001b[1;33m:\u001b[0m\u001b[0mm_input\u001b[0m\u001b[1;33m,\u001b[0m\u001b[1;34m'opt1'\u001b[0m\u001b[1;33m:\u001b[0m\u001b[0mm_opt1\u001b[0m\u001b[1;33m}\u001b[0m\u001b[1;33m,\u001b[0m\u001b[1;33m**\u001b[0m\u001b[1;33m{\u001b[0m\u001b[1;34m'opt2_{}'\u001b[0m\u001b[1;33m.\u001b[0m\u001b[0mformat\u001b[0m\u001b[1;33m(\u001b[0m\u001b[0mi\u001b[0m\u001b[1;33m)\u001b[0m\u001b[1;33m:\u001b[0m\u001b[0mm_opt2\u001b[0m\u001b[1;33m[\u001b[0m\u001b[0mi\u001b[0m\u001b[1;33m]\u001b[0m \u001b[1;32mfor\u001b[0m \u001b[0mi\u001b[0m \u001b[1;32min\u001b[0m \u001b[0mrange\u001b[0m\u001b[1;33m(\u001b[0m\u001b[0mscenario_numberof\u001b[0m\u001b[1;33m)\u001b[0m\u001b[1;33m}\u001b[0m\u001b[1;33m}\u001b[0m\u001b[1;33m\u001b[0m\u001b[1;33m\u001b[0m\u001b[0m\n\u001b[1;32m----> 5\u001b[1;33m     \u001b[0mdisplay\u001b[0m\u001b[1;33m(\u001b[0m\u001b[0mmapmap\u001b[0m\u001b[1;33m[\u001b[0m\u001b[0mx\u001b[0m\u001b[1;33m]\u001b[0m\u001b[1;33m)\u001b[0m\u001b[1;33m\u001b[0m\u001b[1;33m\u001b[0m\u001b[0m\n\u001b[0m\u001b[0;32m      6\u001b[0m     \u001b[1;32mreturn\u001b[0m\u001b[1;33m\u001b[0m\u001b[1;33m\u001b[0m\u001b[0m\n",
          "\u001b[1;31mKeyError\u001b[0m: 'opt2_Scenario1'"
         ]
        }
       ]
      }
     },
     "06a2d916394e42c0a098d76d73834541": {
      "model_module": "@jupyter-widgets/base",
      "model_module_version": "1.2.0",
      "model_name": "LayoutModel",
      "state": {}
     },
     "07149d74a66742b4b93759855bac380a": {
      "model_module": "@jupyter-widgets/base",
      "model_module_version": "1.2.0",
      "model_name": "LayoutModel",
      "state": {}
     },
     "071f2d0525bc438792f64d53c8478f8b": {
      "model_module": "@jupyter-widgets/base",
      "model_module_version": "1.2.0",
      "model_name": "LayoutModel",
      "state": {}
     },
     "072c9174ad0d4de68cdd99f08cd6578e": {
      "model_module": "@jupyter-widgets/controls",
      "model_module_version": "1.5.0",
      "model_name": "VBoxModel",
      "state": {
       "_dom_classes": [
        "widget-interact"
       ],
       "children": [
        "IPY_MODEL_5f25dca4a75a413d848e65196b559fa8",
        "IPY_MODEL_b92cec3ef4b24ba18d7be0496e48235f"
       ],
       "layout": "IPY_MODEL_2cb22a7ec4fa4091a3d720faf4cbbed0"
      }
     },
     "08ad12bad893495e9523710d817d93b1": {
      "model_module": "@jupyter-widgets/controls",
      "model_module_version": "1.5.0",
      "model_name": "VBoxModel",
      "state": {
       "_dom_classes": [
        "widget-interact"
       ],
       "children": [
        "IPY_MODEL_35fd551435e34550a43660e2d3e7ac07",
        "IPY_MODEL_1f6058e81bad407eb8e367edb93e9421"
       ],
       "layout": "IPY_MODEL_247d545b45da42cfa255b35e52ebe522"
      }
     },
     "0933a0ff44a4400ea4a303d08744e826": {
      "model_module": "@jupyter-widgets/base",
      "model_module_version": "1.2.0",
      "model_name": "LayoutModel",
      "state": {}
     },
     "094412df60c646dea0bc5666d29c146e": {
      "model_module": "@jupyter-widgets/controls",
      "model_module_version": "1.5.0",
      "model_name": "DescriptionStyleModel",
      "state": {
       "description_width": ""
      }
     },
     "0a24bbdaae7f4e739f0595c31ed272cc": {
      "model_module": "@jupyter-widgets/base",
      "model_module_version": "1.2.0",
      "model_name": "LayoutModel",
      "state": {}
     },
     "0cb259cf525b465285f96be12f69203d": {
      "model_module": "@jupyter-widgets/base",
      "model_module_version": "1.2.0",
      "model_name": "LayoutModel",
      "state": {}
     },
     "0cbdac153d394b17b124566f65a7b727": {
      "model_module": "@jupyter-widgets/output",
      "model_module_version": "1.0.0",
      "model_name": "OutputModel",
      "state": {
       "layout": "IPY_MODEL_e899c0b5a2704d06b99b7212ac76c5e7",
       "outputs": [
        {
         "name": "stdout",
         "output_type": "stream",
         "text": "Offshore grid - input\n"
        },
        {
         "ename": "TypeError",
         "evalue": "'set' object is not subscriptable",
         "output_type": "error",
         "traceback": [
          "\u001b[1;31m---------------------------------------------------------------------------\u001b[0m",
          "\u001b[1;31mTypeError\u001b[0m                                 Traceback (most recent call last)",
          "\u001b[1;32m~\\AppData\\Local\\Continuum\\anaconda3\\lib\\site-packages\\ipywidgets\\widgets\\interaction.py\u001b[0m in \u001b[0;36mupdate\u001b[1;34m(self, *args)\u001b[0m\n\u001b[0;32m    254\u001b[0m                     \u001b[0mvalue\u001b[0m \u001b[1;33m=\u001b[0m \u001b[0mwidget\u001b[0m\u001b[1;33m.\u001b[0m\u001b[0mget_interact_value\u001b[0m\u001b[1;33m(\u001b[0m\u001b[1;33m)\u001b[0m\u001b[1;33m\u001b[0m\u001b[1;33m\u001b[0m\u001b[0m\n\u001b[0;32m    255\u001b[0m                     \u001b[0mself\u001b[0m\u001b[1;33m.\u001b[0m\u001b[0mkwargs\u001b[0m\u001b[1;33m[\u001b[0m\u001b[0mwidget\u001b[0m\u001b[1;33m.\u001b[0m\u001b[0m_kwarg\u001b[0m\u001b[1;33m]\u001b[0m \u001b[1;33m=\u001b[0m \u001b[0mvalue\u001b[0m\u001b[1;33m\u001b[0m\u001b[1;33m\u001b[0m\u001b[0m\n\u001b[1;32m--> 256\u001b[1;33m                 \u001b[0mself\u001b[0m\u001b[1;33m.\u001b[0m\u001b[0mresult\u001b[0m \u001b[1;33m=\u001b[0m \u001b[0mself\u001b[0m\u001b[1;33m.\u001b[0m\u001b[0mf\u001b[0m\u001b[1;33m(\u001b[0m\u001b[1;33m**\u001b[0m\u001b[0mself\u001b[0m\u001b[1;33m.\u001b[0m\u001b[0mkwargs\u001b[0m\u001b[1;33m)\u001b[0m\u001b[1;33m\u001b[0m\u001b[1;33m\u001b[0m\u001b[0m\n\u001b[0m\u001b[0;32m    257\u001b[0m                 \u001b[0mshow_inline_matplotlib_plots\u001b[0m\u001b[1;33m(\u001b[0m\u001b[1;33m)\u001b[0m\u001b[1;33m\u001b[0m\u001b[1;33m\u001b[0m\u001b[0m\n\u001b[0;32m    258\u001b[0m                 \u001b[1;32mif\u001b[0m \u001b[0mself\u001b[0m\u001b[1;33m.\u001b[0m\u001b[0mauto_display\u001b[0m \u001b[1;32mand\u001b[0m \u001b[0mself\u001b[0m\u001b[1;33m.\u001b[0m\u001b[0mresult\u001b[0m \u001b[1;32mis\u001b[0m \u001b[1;32mnot\u001b[0m \u001b[1;32mNone\u001b[0m\u001b[1;33m:\u001b[0m\u001b[1;33m\u001b[0m\u001b[1;33m\u001b[0m\u001b[0m\n",
          "\u001b[1;32m<ipython-input-167-df20c1529b97>\u001b[0m in \u001b[0;36mplotmap\u001b[1;34m(x)\u001b[0m\n\u001b[0;32m      3\u001b[0m     \u001b[0mprint\u001b[0m\u001b[1;33m(\u001b[0m\u001b[1;34m\"Offshore grid - {}\"\u001b[0m\u001b[1;33m.\u001b[0m\u001b[0mformat\u001b[0m\u001b[1;33m(\u001b[0m\u001b[0mx\u001b[0m\u001b[1;33m)\u001b[0m\u001b[1;33m)\u001b[0m\u001b[1;33m\u001b[0m\u001b[1;33m\u001b[0m\u001b[0m\n\u001b[0;32m      4\u001b[0m     \u001b[0mmapmap\u001b[0m \u001b[1;33m=\u001b[0m \u001b[1;33m{\u001b[0m\u001b[0mm_opt\u001b[0m\u001b[1;33m[\u001b[0m\u001b[0mi\u001b[0m\u001b[1;33m]\u001b[0m \u001b[1;32mfor\u001b[0m \u001b[0mi\u001b[0m \u001b[1;32min\u001b[0m \u001b[0mm_opt\u001b[0m\u001b[1;33m.\u001b[0m\u001b[0mkeys\u001b[0m\u001b[1;33m(\u001b[0m\u001b[1;33m)\u001b[0m\u001b[1;33m}\u001b[0m\u001b[1;33m\u001b[0m\u001b[1;33m\u001b[0m\u001b[0m\n\u001b[1;32m----> 5\u001b[1;33m     \u001b[0mdisplay\u001b[0m\u001b[1;33m(\u001b[0m\u001b[0mmapmap\u001b[0m\u001b[1;33m[\u001b[0m\u001b[0mx\u001b[0m\u001b[1;33m]\u001b[0m\u001b[1;33m)\u001b[0m\u001b[1;33m\u001b[0m\u001b[1;33m\u001b[0m\u001b[0m\n\u001b[0m\u001b[0;32m      6\u001b[0m     \u001b[1;32mreturn\u001b[0m\u001b[1;33m\u001b[0m\u001b[1;33m\u001b[0m\u001b[0m\n",
          "\u001b[1;31mTypeError\u001b[0m: 'set' object is not subscriptable"
         ]
        }
       ]
      }
     },
     "1192efd4529248b2994b9111169bc750": {
      "model_module": "@jupyter-widgets/base",
      "model_module_version": "1.2.0",
      "model_name": "LayoutModel",
      "state": {}
     },
     "131fd006983a4a619c6a194c7759ec6a": {
      "model_module": "@jupyter-widgets/output",
      "model_module_version": "1.0.0",
      "model_name": "OutputModel",
      "state": {
       "layout": "IPY_MODEL_bf64f2cbf9c94273b486020cd33b6222",
       "outputs": [
        {
         "name": "stdout",
         "output_type": "stream",
         "text": "Select data to display\n"
        }
       ]
      }
     },
     "1585f1d1173d4ac58c5bcc42c90ec605": {
      "model_module": "@jupyter-widgets/base",
      "model_module_version": "1.2.0",
      "model_name": "LayoutModel",
      "state": {}
     },
     "169be30b19c846299e34596b77669411": {
      "model_module": "@jupyter-widgets/base",
      "model_module_version": "1.2.0",
      "model_name": "LayoutModel",
      "state": {}
     },
     "1771dfd48a374f549e2aed8d04178373": {
      "model_module": "@jupyter-widgets/base",
      "model_module_version": "1.2.0",
      "model_name": "LayoutModel",
      "state": {}
     },
     "1bb2f55828d347d7b2ef96138edfb5a9": {
      "model_module": "@jupyter-widgets/output",
      "model_module_version": "1.0.0",
      "model_name": "OutputModel",
      "state": {
       "layout": "IPY_MODEL_a74ea6c704c549a9a3c5e1deb92fa211",
       "outputs": [
        {
         "name": "stdout",
         "output_type": "stream",
         "text": "Offshore grid\n"
        },
        {
         "data": {
          "text/html": "<div style=\"width:100%;\"><div style=\"position:relative;width:100%;height:0;padding-bottom:60%;\"><iframe src=\"data:text/html;charset=utf-8;base64,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\" style=\"position:absolute;width:100%;height:100%;left:0;top:0;border:none !important;\" allowfullscreen webkitallowfullscreen mozallowfullscreen></iframe></div></div>",
          "text/plain": "<folium.folium.Map at 0x276a41b4808>"
         },
         "metadata": {},
         "output_type": "display_data"
        }
       ]
      }
     },
     "1c0b66eb903d41b68da9a8110009a7ea": {
      "model_module": "@jupyter-widgets/controls",
      "model_module_version": "1.5.0",
      "model_name": "VBoxModel",
      "state": {
       "_dom_classes": [
        "widget-interact"
       ],
       "children": [
        "IPY_MODEL_af9b850798a64ce98424488dde94c702",
        "IPY_MODEL_d3a0f193b34e4d54b34748d588e1a42c"
       ],
       "layout": "IPY_MODEL_6ac807c667994819bd8bdc6f3456f98f"
      }
     },
     "1d756dbe7cd645fcac355a3ed57e5f3a": {
      "model_module": "@jupyter-widgets/output",
      "model_module_version": "1.0.0",
      "model_name": "OutputModel",
      "state": {
       "layout": "IPY_MODEL_e6e07f86519a4910879eacf4d06d5885",
       "outputs": [
        {
         "ename": "AttributeError",
         "evalue": "'GridData' object has no attribute 'branches'",
         "output_type": "error",
         "traceback": [
          "\u001b[1;31m---------------------------------------------------------------------------\u001b[0m",
          "\u001b[1;31mAttributeError\u001b[0m                            Traceback (most recent call last)",
          "\u001b[1;32m~\\AppData\\Local\\Continuum\\anaconda3\\lib\\site-packages\\ipywidgets\\widgets\\interaction.py\u001b[0m in \u001b[0;36mupdate\u001b[1;34m(self, *args)\u001b[0m\n\u001b[0;32m    254\u001b[0m                     \u001b[0mvalue\u001b[0m \u001b[1;33m=\u001b[0m \u001b[0mwidget\u001b[0m\u001b[1;33m.\u001b[0m\u001b[0mget_interact_value\u001b[0m\u001b[1;33m(\u001b[0m\u001b[1;33m)\u001b[0m\u001b[1;33m\u001b[0m\u001b[1;33m\u001b[0m\u001b[0m\n\u001b[0;32m    255\u001b[0m                     \u001b[0mself\u001b[0m\u001b[1;33m.\u001b[0m\u001b[0mkwargs\u001b[0m\u001b[1;33m[\u001b[0m\u001b[0mwidget\u001b[0m\u001b[1;33m.\u001b[0m\u001b[0m_kwarg\u001b[0m\u001b[1;33m]\u001b[0m \u001b[1;33m=\u001b[0m \u001b[0mvalue\u001b[0m\u001b[1;33m\u001b[0m\u001b[1;33m\u001b[0m\u001b[0m\n\u001b[1;32m--> 256\u001b[1;33m                 \u001b[0mself\u001b[0m\u001b[1;33m.\u001b[0m\u001b[0mresult\u001b[0m \u001b[1;33m=\u001b[0m \u001b[0mself\u001b[0m\u001b[1;33m.\u001b[0m\u001b[0mf\u001b[0m\u001b[1;33m(\u001b[0m\u001b[1;33m**\u001b[0m\u001b[0mself\u001b[0m\u001b[1;33m.\u001b[0m\u001b[0mkwargs\u001b[0m\u001b[1;33m)\u001b[0m\u001b[1;33m\u001b[0m\u001b[1;33m\u001b[0m\u001b[0m\n\u001b[0m\u001b[0;32m    257\u001b[0m                 \u001b[0mshow_inline_matplotlib_plots\u001b[0m\u001b[1;33m(\u001b[0m\u001b[1;33m)\u001b[0m\u001b[1;33m\u001b[0m\u001b[1;33m\u001b[0m\u001b[0m\n\u001b[0;32m    258\u001b[0m                 \u001b[1;32mif\u001b[0m \u001b[0mself\u001b[0m\u001b[1;33m.\u001b[0m\u001b[0mauto_display\u001b[0m \u001b[1;32mand\u001b[0m \u001b[0mself\u001b[0m\u001b[1;33m.\u001b[0m\u001b[0mresult\u001b[0m \u001b[1;32mis\u001b[0m \u001b[1;32mnot\u001b[0m \u001b[1;32mNone\u001b[0m\u001b[1;33m:\u001b[0m\u001b[1;33m\u001b[0m\u001b[1;33m\u001b[0m\u001b[0m\n",
          "\u001b[1;32m<ipython-input-177-7c273cfe6013>\u001b[0m in \u001b[0;36mshowdata\u001b[1;34m(x)\u001b[0m\n\u001b[0;32m      1\u001b[0m \u001b[1;33m@\u001b[0m\u001b[0mipywidgets\u001b[0m\u001b[1;33m.\u001b[0m\u001b[0minteract\u001b[0m\u001b[1;33m(\u001b[0m\u001b[0mx\u001b[0m\u001b[1;33m=\u001b[0m\u001b[1;33m[\u001b[0m\u001b[1;34m''\u001b[0m\u001b[1;33m,\u001b[0m\u001b[1;34m'node'\u001b[0m\u001b[1;33m,\u001b[0m\u001b[1;34m'branches'\u001b[0m\u001b[1;33m,\u001b[0m\u001b[1;34m'generators'\u001b[0m\u001b[1;33m,\u001b[0m\u001b[1;34m'consumers'\u001b[0m\u001b[1;33m]\u001b[0m\u001b[1;33m)\u001b[0m\u001b[1;33m\u001b[0m\u001b[1;33m\u001b[0m\u001b[0m\n\u001b[0;32m      2\u001b[0m \u001b[1;32mdef\u001b[0m \u001b[0mshowdata\u001b[0m\u001b[1;33m(\u001b[0m\u001b[0mx\u001b[0m\u001b[1;33m)\u001b[0m\u001b[1;33m:\u001b[0m\u001b[1;33m\u001b[0m\u001b[1;33m\u001b[0m\u001b[0m\n\u001b[1;32m----> 3\u001b[1;33m     \u001b[1;32mif\u001b[0m \u001b[0mx\u001b[0m\u001b[1;33m!=\u001b[0m\u001b[1;34m''\u001b[0m\u001b[1;33m:\u001b[0m \u001b[0mdisplay\u001b[0m\u001b[1;33m(\u001b[0m\u001b[0mgetattr\u001b[0m\u001b[1;33m(\u001b[0m\u001b[0mgrid_data\u001b[0m\u001b[1;33m,\u001b[0m\u001b[0mx\u001b[0m\u001b[1;33m)\u001b[0m\u001b[1;33m)\u001b[0m\u001b[1;33m\u001b[0m\u001b[1;33m\u001b[0m\u001b[0m\n\u001b[0m",
          "\u001b[1;31mAttributeError\u001b[0m: 'GridData' object has no attribute 'branches'"
         ]
        }
       ]
      }
     },
     "1e161f86b6b2416b94ea99ed8fe88098": {
      "model_module": "@jupyter-widgets/controls",
      "model_module_version": "1.5.0",
      "model_name": "DescriptionStyleModel",
      "state": {
       "description_width": ""
      }
     },
     "1f6058e81bad407eb8e367edb93e9421": {
      "model_module": "@jupyter-widgets/output",
      "model_module_version": "1.0.0",
      "model_name": "OutputModel",
      "state": {
       "layout": "IPY_MODEL_f83727a0d5694d369e4a8eede98dec3f",
       "outputs": [
        {
         "ename": "AttributeError",
         "evalue": "'GridData' object has no attribute ''",
         "output_type": "error",
         "traceback": [
          "\u001b[1;31m---------------------------------------------------------------------------\u001b[0m",
          "\u001b[1;31mAttributeError\u001b[0m                            Traceback (most recent call last)",
          "\u001b[1;32m~\\AppData\\Local\\Continuum\\anaconda3\\lib\\site-packages\\ipywidgets\\widgets\\interaction.py\u001b[0m in \u001b[0;36mupdate\u001b[1;34m(self, *args)\u001b[0m\n\u001b[0;32m    254\u001b[0m                     \u001b[0mvalue\u001b[0m \u001b[1;33m=\u001b[0m \u001b[0mwidget\u001b[0m\u001b[1;33m.\u001b[0m\u001b[0mget_interact_value\u001b[0m\u001b[1;33m(\u001b[0m\u001b[1;33m)\u001b[0m\u001b[1;33m\u001b[0m\u001b[1;33m\u001b[0m\u001b[0m\n\u001b[0;32m    255\u001b[0m                     \u001b[0mself\u001b[0m\u001b[1;33m.\u001b[0m\u001b[0mkwargs\u001b[0m\u001b[1;33m[\u001b[0m\u001b[0mwidget\u001b[0m\u001b[1;33m.\u001b[0m\u001b[0m_kwarg\u001b[0m\u001b[1;33m]\u001b[0m \u001b[1;33m=\u001b[0m \u001b[0mvalue\u001b[0m\u001b[1;33m\u001b[0m\u001b[1;33m\u001b[0m\u001b[0m\n\u001b[1;32m--> 256\u001b[1;33m                 \u001b[0mself\u001b[0m\u001b[1;33m.\u001b[0m\u001b[0mresult\u001b[0m \u001b[1;33m=\u001b[0m \u001b[0mself\u001b[0m\u001b[1;33m.\u001b[0m\u001b[0mf\u001b[0m\u001b[1;33m(\u001b[0m\u001b[1;33m**\u001b[0m\u001b[0mself\u001b[0m\u001b[1;33m.\u001b[0m\u001b[0mkwargs\u001b[0m\u001b[1;33m)\u001b[0m\u001b[1;33m\u001b[0m\u001b[1;33m\u001b[0m\u001b[0m\n\u001b[0m\u001b[0;32m    257\u001b[0m                 \u001b[0mshow_inline_matplotlib_plots\u001b[0m\u001b[1;33m(\u001b[0m\u001b[1;33m)\u001b[0m\u001b[1;33m\u001b[0m\u001b[1;33m\u001b[0m\u001b[0m\n\u001b[0;32m    258\u001b[0m                 \u001b[1;32mif\u001b[0m \u001b[0mself\u001b[0m\u001b[1;33m.\u001b[0m\u001b[0mauto_display\u001b[0m \u001b[1;32mand\u001b[0m \u001b[0mself\u001b[0m\u001b[1;33m.\u001b[0m\u001b[0mresult\u001b[0m \u001b[1;32mis\u001b[0m \u001b[1;32mnot\u001b[0m \u001b[1;32mNone\u001b[0m\u001b[1;33m:\u001b[0m\u001b[1;33m\u001b[0m\u001b[1;33m\u001b[0m\u001b[0m\n",
          "\u001b[1;32m<ipython-input-176-29bb5070eb41>\u001b[0m in \u001b[0;36mshowdata\u001b[1;34m(x)\u001b[0m\n\u001b[0;32m      1\u001b[0m \u001b[1;33m@\u001b[0m\u001b[0mipywidgets\u001b[0m\u001b[1;33m.\u001b[0m\u001b[0minteract\u001b[0m\u001b[1;33m(\u001b[0m\u001b[0mx\u001b[0m\u001b[1;33m=\u001b[0m\u001b[1;33m[\u001b[0m\u001b[1;34m''\u001b[0m\u001b[1;33m,\u001b[0m\u001b[1;34m'node'\u001b[0m\u001b[1;33m,\u001b[0m\u001b[1;34m'branches'\u001b[0m\u001b[1;33m,\u001b[0m\u001b[1;34m'generators'\u001b[0m\u001b[1;33m,\u001b[0m\u001b[1;34m'consumers'\u001b[0m\u001b[1;33m]\u001b[0m\u001b[1;33m)\u001b[0m\u001b[1;33m\u001b[0m\u001b[1;33m\u001b[0m\u001b[0m\n\u001b[0;32m      2\u001b[0m \u001b[1;32mdef\u001b[0m \u001b[0mshowdata\u001b[0m\u001b[1;33m(\u001b[0m\u001b[0mx\u001b[0m\u001b[1;33m)\u001b[0m\u001b[1;33m:\u001b[0m\u001b[1;33m\u001b[0m\u001b[1;33m\u001b[0m\u001b[0m\n\u001b[1;32m----> 3\u001b[1;33m     \u001b[0mdisplay\u001b[0m\u001b[1;33m(\u001b[0m\u001b[0mgetattr\u001b[0m\u001b[1;33m(\u001b[0m\u001b[0mgrid_data\u001b[0m\u001b[1;33m,\u001b[0m\u001b[0mx\u001b[0m\u001b[1;33m)\u001b[0m\u001b[1;33m)\u001b[0m\u001b[1;33m\u001b[0m\u001b[1;33m\u001b[0m\u001b[0m\n\u001b[0m",
          "\u001b[1;31mAttributeError\u001b[0m: 'GridData' object has no attribute ''"
         ]
        }
       ]
      }
     },
     "2026786b215646a99b1c5ef7a054a2a7": {
      "model_module": "@jupyter-widgets/output",
      "model_module_version": "1.0.0",
      "model_name": "OutputModel",
      "state": {
       "layout": "IPY_MODEL_0108f770126d494ab586a6b9e9189858",
       "outputs": [
        {
         "name": "stdout",
         "output_type": "stream",
         "text": "Offshore grid\n"
        },
        {
         "ename": "KeyError",
         "evalue": "'opt_Scenario1_2'",
         "output_type": "error",
         "traceback": [
          "\u001b[1;31m---------------------------------------------------------------------------\u001b[0m",
          "\u001b[1;31mKeyError\u001b[0m                                  Traceback (most recent call last)",
          "\u001b[1;32m~\\AppData\\Local\\Continuum\\anaconda3\\lib\\site-packages\\ipywidgets\\widgets\\interaction.py\u001b[0m in \u001b[0;36mupdate\u001b[1;34m(self, *args)\u001b[0m\n\u001b[0;32m    254\u001b[0m                     \u001b[0mvalue\u001b[0m \u001b[1;33m=\u001b[0m \u001b[0mwidget\u001b[0m\u001b[1;33m.\u001b[0m\u001b[0mget_interact_value\u001b[0m\u001b[1;33m(\u001b[0m\u001b[1;33m)\u001b[0m\u001b[1;33m\u001b[0m\u001b[1;33m\u001b[0m\u001b[0m\n\u001b[0;32m    255\u001b[0m                     \u001b[0mself\u001b[0m\u001b[1;33m.\u001b[0m\u001b[0mkwargs\u001b[0m\u001b[1;33m[\u001b[0m\u001b[0mwidget\u001b[0m\u001b[1;33m.\u001b[0m\u001b[0m_kwarg\u001b[0m\u001b[1;33m]\u001b[0m \u001b[1;33m=\u001b[0m \u001b[0mvalue\u001b[0m\u001b[1;33m\u001b[0m\u001b[1;33m\u001b[0m\u001b[0m\n\u001b[1;32m--> 256\u001b[1;33m                 \u001b[0mself\u001b[0m\u001b[1;33m.\u001b[0m\u001b[0mresult\u001b[0m \u001b[1;33m=\u001b[0m \u001b[0mself\u001b[0m\u001b[1;33m.\u001b[0m\u001b[0mf\u001b[0m\u001b[1;33m(\u001b[0m\u001b[1;33m**\u001b[0m\u001b[0mself\u001b[0m\u001b[1;33m.\u001b[0m\u001b[0mkwargs\u001b[0m\u001b[1;33m)\u001b[0m\u001b[1;33m\u001b[0m\u001b[1;33m\u001b[0m\u001b[0m\n\u001b[0m\u001b[0;32m    257\u001b[0m                 \u001b[0mshow_inline_matplotlib_plots\u001b[0m\u001b[1;33m(\u001b[0m\u001b[1;33m)\u001b[0m\u001b[1;33m\u001b[0m\u001b[1;33m\u001b[0m\u001b[0m\n\u001b[0;32m    258\u001b[0m                 \u001b[1;32mif\u001b[0m \u001b[0mself\u001b[0m\u001b[1;33m.\u001b[0m\u001b[0mauto_display\u001b[0m \u001b[1;32mand\u001b[0m \u001b[0mself\u001b[0m\u001b[1;33m.\u001b[0m\u001b[0mresult\u001b[0m \u001b[1;32mis\u001b[0m \u001b[1;32mnot\u001b[0m \u001b[1;32mNone\u001b[0m\u001b[1;33m:\u001b[0m\u001b[1;33m\u001b[0m\u001b[1;33m\u001b[0m\u001b[0m\n",
          "\u001b[1;32m<ipython-input-88-ab71ab0a89cc>\u001b[0m in \u001b[0;36mplotmap\u001b[1;34m(x)\u001b[0m\n\u001b[0;32m      4\u001b[0m     \u001b[0mprint\u001b[0m\u001b[1;33m(\u001b[0m\u001b[1;34m\"Offshore grid\"\u001b[0m\u001b[1;33m)\u001b[0m\u001b[1;33m\u001b[0m\u001b[1;33m\u001b[0m\u001b[0m\n\u001b[0;32m      5\u001b[0m     \u001b[0mmapmap\u001b[0m \u001b[1;33m=\u001b[0m \u001b[1;33m{\u001b[0m\u001b[1;33m**\u001b[0m\u001b[1;33m{\u001b[0m\u001b[1;34m'input'\u001b[0m\u001b[1;33m:\u001b[0m\u001b[0mm_input\u001b[0m\u001b[1;33m,\u001b[0m\u001b[1;34m'opt1'\u001b[0m\u001b[1;33m:\u001b[0m\u001b[0mm_opt1\u001b[0m\u001b[1;33m}\u001b[0m\u001b[1;33m,\u001b[0m\u001b[1;33m**\u001b[0m\u001b[1;33m{\u001b[0m\u001b[1;34m'opt_{}'\u001b[0m\u001b[1;33m.\u001b[0m\u001b[0mformat\u001b[0m\u001b[1;33m(\u001b[0m\u001b[0mi\u001b[0m\u001b[1;33m)\u001b[0m\u001b[1;33m:\u001b[0m\u001b[0mm_opt\u001b[0m\u001b[1;33m[\u001b[0m\u001b[0mi\u001b[0m\u001b[1;33m]\u001b[0m \u001b[1;32mfor\u001b[0m \u001b[0mi\u001b[0m \u001b[1;32min\u001b[0m \u001b[0mm_opt2\u001b[0m\u001b[1;33m.\u001b[0m\u001b[0mkeys\u001b[0m\u001b[1;33m(\u001b[0m\u001b[1;33m)\u001b[0m\u001b[1;33m}\u001b[0m\u001b[1;33m}\u001b[0m\u001b[1;33m\u001b[0m\u001b[1;33m\u001b[0m\u001b[0m\n\u001b[1;32m----> 6\u001b[1;33m     \u001b[0mdisplay\u001b[0m\u001b[1;33m(\u001b[0m\u001b[0mmapmap\u001b[0m\u001b[1;33m[\u001b[0m\u001b[0mx\u001b[0m\u001b[1;33m]\u001b[0m\u001b[1;33m)\u001b[0m\u001b[1;33m\u001b[0m\u001b[1;33m\u001b[0m\u001b[0m\n\u001b[0m\u001b[0;32m      7\u001b[0m     \u001b[1;32mreturn\u001b[0m\u001b[1;33m\u001b[0m\u001b[1;33m\u001b[0m\u001b[0m\n",
          "\u001b[1;31mKeyError\u001b[0m: 'opt_Scenario1_2'"
         ]
        }
       ]
      }
     },
     "204162cfaac74e788d12bac391a9e986": {
      "model_module": "@jupyter-widgets/base",
      "model_module_version": "1.2.0",
      "model_name": "LayoutModel",
      "state": {}
     },
     "20d892dd42da4643ab5327172bcb3974": {
      "model_module": "@jupyter-widgets/controls",
      "model_module_version": "1.5.0",
      "model_name": "DropdownModel",
      "state": {
       "_options_labels": [
        "input",
        "opt1",
        "opt_Scenario1_1",
        "opt_Scenario2_1",
        "opt_Scenario3_1",
        "opt_Scenario1_2",
        "opt_Scenario2_2",
        "opt_Scenario3_2"
       ],
       "description": "x",
       "index": 5,
       "layout": "IPY_MODEL_69f4bda5518b41eb972cacbbd68392ea",
       "style": "IPY_MODEL_4870db666e22419595c8bb3c9fac8b91"
      }
     },
     "2260a30200594bb793ce378896bb89c8": {
      "model_module": "@jupyter-widgets/base",
      "model_module_version": "1.2.0",
      "model_name": "LayoutModel",
      "state": {}
     },
     "22c6a74e43ad4d4b96f4fcf5ff58b4f3": {
      "model_module": "@jupyter-widgets/controls",
      "model_module_version": "1.5.0",
      "model_name": "VBoxModel",
      "state": {
       "_dom_classes": [
        "widget-interact"
       ],
       "children": [
        "IPY_MODEL_9743e37b66c5470a8f094520fc8eac37",
        "IPY_MODEL_c0724e43e8d54d508b25b338d526fcf8"
       ],
       "layout": "IPY_MODEL_78112d87c0da4b719da0cf92440a6f25"
      }
     },
     "234f0f22abef4ed486e488d7777147a1": {
      "model_module": "@jupyter-widgets/base",
      "model_module_version": "1.2.0",
      "model_name": "LayoutModel",
      "state": {}
     },
     "247d545b45da42cfa255b35e52ebe522": {
      "model_module": "@jupyter-widgets/base",
      "model_module_version": "1.2.0",
      "model_name": "LayoutModel",
      "state": {}
     },
     "264882009ca44415b97c18fad84a34c0": {
      "model_module": "@jupyter-widgets/output",
      "model_module_version": "1.0.0",
      "model_name": "OutputModel",
      "state": {
       "layout": "IPY_MODEL_a1116885c1a34602953d54437e63fdcc",
       "outputs": [
        {
         "name": "stdout",
         "output_type": "stream",
         "text": "Offshore grid\n"
        },
        {
         "data": {
          "text/html": "<div style=\"width:100%;\"><div style=\"position:relative;width:100%;height:0;padding-bottom:60%;\"><iframe src=\"data:text/html;charset=utf-8;base64,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\" style=\"position:absolute;width:100%;height:100%;left:0;top:0;border:none !important;\" allowfullscreen webkitallowfullscreen mozallowfullscreen></iframe></div></div>",
          "text/plain": "<folium.folium.Map at 0x2769f15b108>"
         },
         "metadata": {},
         "output_type": "display_data"
        }
       ]
      }
     },
     "268015eab42e40ea8676c3b456ef1820": {
      "model_module": "@jupyter-widgets/output",
      "model_module_version": "1.0.0",
      "model_name": "OutputModel",
      "state": {
       "layout": "IPY_MODEL_2c78d79873a44a0cb1ad77356559c33e",
       "outputs": [
        {
         "name": "stdout",
         "output_type": "stream",
         "text": "Offshore grid - opt_Scenario2_2\n"
        },
        {
         "data": {
          "text/html": "<div style=\"width:100%;\"><div style=\"position:relative;width:100%;height:0;padding-bottom:60%;\"><iframe src=\"data:text/html;charset=utf-8;base64,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\" style=\"position:absolute;width:100%;height:100%;left:0;top:0;border:none !important;\" allowfullscreen webkitallowfullscreen mozallowfullscreen></iframe></div></div>",
          "text/plain": "<folium.folium.Map at 0x276ae601b08>"
         },
         "metadata": {},
         "output_type": "display_data"
        }
       ]
      }
     },
     "26ba569f95cf4f16a61fbf477ada536a": {
      "model_module": "@jupyter-widgets/base",
      "model_module_version": "1.2.0",
      "model_name": "LayoutModel",
      "state": {}
     },
     "2873f8273c72481d84846c35f680134e": {
      "model_module": "@jupyter-widgets/controls",
      "model_module_version": "1.5.0",
      "model_name": "DescriptionStyleModel",
      "state": {
       "description_width": ""
      }
     },
     "2a8a08bd9b8841f3ab684480c889d951": {
      "model_module": "@jupyter-widgets/controls",
      "model_module_version": "1.5.0",
      "model_name": "DropdownModel",
      "state": {
       "_options_labels": [
        "",
        "node",
        "branch",
        "generator",
        "consumer",
        "PARAMETERS"
       ],
       "description": "x",
       "index": 1,
       "layout": "IPY_MODEL_f06a1d7b26dd43978ebd837ea960113e",
       "style": "IPY_MODEL_f1d223906c8a45b5ba76355cf7b00527"
      }
     },
     "2acbd0513e0b418a85c37b46b321b72a": {
      "model_module": "@jupyter-widgets/controls",
      "model_module_version": "1.5.0",
      "model_name": "VBoxModel",
      "state": {
       "_dom_classes": [
        "widget-interact"
       ],
       "children": [
        "IPY_MODEL_4c29e6f126da4913b6887eb53f72b545",
        "IPY_MODEL_131fd006983a4a619c6a194c7759ec6a"
       ],
       "layout": "IPY_MODEL_2b364ac68a654cafabd8b005e6c0ea37"
      }
     },
     "2b364ac68a654cafabd8b005e6c0ea37": {
      "model_module": "@jupyter-widgets/base",
      "model_module_version": "1.2.0",
      "model_name": "LayoutModel",
      "state": {}
     },
     "2c78d79873a44a0cb1ad77356559c33e": {
      "model_module": "@jupyter-widgets/base",
      "model_module_version": "1.2.0",
      "model_name": "LayoutModel",
      "state": {}
     },
     "2cb22a7ec4fa4091a3d720faf4cbbed0": {
      "model_module": "@jupyter-widgets/base",
      "model_module_version": "1.2.0",
      "model_name": "LayoutModel",
      "state": {}
     },
     "2e0249023c6d42afa6e5026dd13896a7": {
      "model_module": "@jupyter-widgets/base",
      "model_module_version": "1.2.0",
      "model_name": "LayoutModel",
      "state": {}
     },
     "2e4a3a3a467a4d0eb94f46c54840090e": {
      "model_module": "@jupyter-widgets/controls",
      "model_module_version": "1.5.0",
      "model_name": "DescriptionStyleModel",
      "state": {
       "description_width": ""
      }
     },
     "2f4b3358551546b0b94ff08bc233d56d": {
      "model_module": "@jupyter-widgets/controls",
      "model_module_version": "1.5.0",
      "model_name": "DropdownModel",
      "state": {
       "_options_labels": [
        "",
        "node",
        "branch",
        "generator",
        "consumer",
        "PARAMETERS"
       ],
       "description": "x",
       "index": 0,
       "layout": "IPY_MODEL_07149d74a66742b4b93759855bac380a",
       "style": "IPY_MODEL_355efc6b0fb140649afc83687fe68783"
      }
     },
     "31906085b1464abdad0c75aefe9a4a2a": {
      "model_module": "@jupyter-widgets/base",
      "model_module_version": "1.2.0",
      "model_name": "LayoutModel",
      "state": {}
     },
     "35126c3291be48fb88bc22f4883515bd": {
      "model_module": "@jupyter-widgets/base",
      "model_module_version": "1.2.0",
      "model_name": "LayoutModel",
      "state": {}
     },
     "355efc6b0fb140649afc83687fe68783": {
      "model_module": "@jupyter-widgets/controls",
      "model_module_version": "1.5.0",
      "model_name": "DescriptionStyleModel",
      "state": {
       "description_width": ""
      }
     },
     "358e01d5eac541f98a52a473d4f9b788": {
      "model_module": "@jupyter-widgets/controls",
      "model_module_version": "1.5.0",
      "model_name": "DropdownModel",
      "state": {
       "_options_labels": [
        "input",
        "opt1",
        "opt2_0",
        "opt2_1",
        "opt2_2"
       ],
       "description": "x",
       "index": 3,
       "layout": "IPY_MODEL_7e5b04069b2b4198b2229f1a2af2dc11",
       "style": "IPY_MODEL_922bfef247d54c99b9c25d30323d139a"
      }
     },
     "35fd551435e34550a43660e2d3e7ac07": {
      "model_module": "@jupyter-widgets/controls",
      "model_module_version": "1.5.0",
      "model_name": "DropdownModel",
      "state": {
       "_options_labels": [
        "",
        "node",
        "branches",
        "generators",
        "consumers"
       ],
       "description": "x",
       "index": 0,
       "layout": "IPY_MODEL_fbf05e5100aa46479c7f3226549fbd5d",
       "style": "IPY_MODEL_62bfbfd38d4a4ffcac57fdf6cb93b269"
      }
     },
     "3934e9514bae4752bb88d7f73c700ba0": {
      "model_module": "@jupyter-widgets/controls",
      "model_module_version": "1.5.0",
      "model_name": "VBoxModel",
      "state": {
       "_dom_classes": [
        "widget-interact"
       ],
       "children": [
        "IPY_MODEL_64eae397aadc484fbf90feb0f610d451",
        "IPY_MODEL_41968db1fa1f47f3b46c4a1834768985"
       ],
       "layout": "IPY_MODEL_bd9138b309d846fa8118100b73c6ab74"
      }
     },
     "3aed099135484feeb09808a490563698": {
      "model_module": "@jupyter-widgets/controls",
      "model_module_version": "1.5.0",
      "model_name": "DescriptionStyleModel",
      "state": {
       "description_width": ""
      }
     },
     "3b97ff99b7ac496ca2f8b02d1b08f1fc": {
      "model_module": "@jupyter-widgets/base",
      "model_module_version": "1.2.0",
      "model_name": "LayoutModel",
      "state": {}
     },
     "3c09dd962b05407da41a3feca120e570": {
      "model_module": "@jupyter-widgets/controls",
      "model_module_version": "1.5.0",
      "model_name": "DropdownModel",
      "state": {
       "_options_labels": [
        "",
        "node",
        "branch",
        "generator",
        "consumer"
       ],
       "description": "x",
       "index": 2,
       "layout": "IPY_MODEL_2260a30200594bb793ce378896bb89c8",
       "style": "IPY_MODEL_2873f8273c72481d84846c35f680134e"
      }
     },
     "3d32fa0fffa145d8a7e1241ebc841416": {
      "model_module": "@jupyter-widgets/controls",
      "model_module_version": "1.5.0",
      "model_name": "VBoxModel",
      "state": {
       "_dom_classes": [
        "widget-interact"
       ],
       "children": [
        "IPY_MODEL_20d892dd42da4643ab5327172bcb3974",
        "IPY_MODEL_2026786b215646a99b1c5ef7a054a2a7"
       ],
       "layout": "IPY_MODEL_de191224709448e7969745d9ae3cac77"
      }
     },
     "3d5a302b1493454fa10bcef5e2078e5a": {
      "model_module": "@jupyter-widgets/base",
      "model_module_version": "1.2.0",
      "model_name": "LayoutModel",
      "state": {}
     },
     "407c2ec114834f9d980425bcfc801aeb": {
      "model_module": "@jupyter-widgets/controls",
      "model_module_version": "1.5.0",
      "model_name": "VBoxModel",
      "state": {
       "_dom_classes": [
        "widget-interact"
       ],
       "children": [
        "IPY_MODEL_48101b74703b4784a6d419544b24efc0",
        "IPY_MODEL_45ec238b86d848bea7c94336d2039418"
       ],
       "layout": "IPY_MODEL_d9110392b4be4d3182d11cad1cbd7762"
      }
     },
     "417174e325ab4c70a9f83a6ad7bdf5aa": {
      "model_module": "@jupyter-widgets/controls",
      "model_module_version": "1.5.0",
      "model_name": "DropdownModel",
      "state": {
       "_options_labels": [
        "input",
        "opt1",
        "opt2_0",
        "opt2_1",
        "opt2_2",
        "opt2_Scenario1",
        "opt2_Scenario2",
        "opt2_Scenario3"
       ],
       "description": "x",
       "index": 2,
       "layout": "IPY_MODEL_7a39906ef5534053898f8ff1bf6180e9",
       "style": "IPY_MODEL_1e161f86b6b2416b94ea99ed8fe88098"
      }
     },
     "41968db1fa1f47f3b46c4a1834768985": {
      "model_module": "@jupyter-widgets/output",
      "model_module_version": "1.0.0",
      "model_name": "OutputModel",
      "state": {
       "layout": "IPY_MODEL_169be30b19c846299e34596b77669411",
       "outputs": [
        {
         "name": "stdout",
         "output_type": "stream",
         "text": "Select data to display\n"
        }
       ]
      }
     },
     "4203ed9677654f38a22742f6c812dd16": {
      "model_module": "@jupyter-widgets/base",
      "model_module_version": "1.2.0",
      "model_name": "LayoutModel",
      "state": {}
     },
     "454630401b9a427080ce01dba9c2695c": {
      "model_module": "@jupyter-widgets/base",
      "model_module_version": "1.2.0",
      "model_name": "LayoutModel",
      "state": {}
     },
     "45ec238b86d848bea7c94336d2039418": {
      "model_module": "@jupyter-widgets/output",
      "model_module_version": "1.0.0",
      "model_name": "OutputModel",
      "state": {
       "layout": "IPY_MODEL_005bb0dec14a4076ad9d31fdceba150f",
       "outputs": [
        {
         "ename": "NameError",
         "evalue": "name 'x' is not defined",
         "output_type": "error",
         "traceback": [
          "\u001b[1;31m---------------------------------------------------------------------------\u001b[0m",
          "\u001b[1;31mNameError\u001b[0m                                 Traceback (most recent call last)",
          "\u001b[1;32m~\\AppData\\Local\\Continuum\\anaconda3\\lib\\site-packages\\ipywidgets\\widgets\\interaction.py\u001b[0m in \u001b[0;36mupdate\u001b[1;34m(self, *args)\u001b[0m\n\u001b[0;32m    254\u001b[0m                     \u001b[0mvalue\u001b[0m \u001b[1;33m=\u001b[0m \u001b[0mwidget\u001b[0m\u001b[1;33m.\u001b[0m\u001b[0mget_interact_value\u001b[0m\u001b[1;33m(\u001b[0m\u001b[1;33m)\u001b[0m\u001b[1;33m\u001b[0m\u001b[1;33m\u001b[0m\u001b[0m\n\u001b[0;32m    255\u001b[0m                     \u001b[0mself\u001b[0m\u001b[1;33m.\u001b[0m\u001b[0mkwargs\u001b[0m\u001b[1;33m[\u001b[0m\u001b[0mwidget\u001b[0m\u001b[1;33m.\u001b[0m\u001b[0m_kwarg\u001b[0m\u001b[1;33m]\u001b[0m \u001b[1;33m=\u001b[0m \u001b[0mvalue\u001b[0m\u001b[1;33m\u001b[0m\u001b[1;33m\u001b[0m\u001b[0m\n\u001b[1;32m--> 256\u001b[1;33m                 \u001b[0mself\u001b[0m\u001b[1;33m.\u001b[0m\u001b[0mresult\u001b[0m \u001b[1;33m=\u001b[0m \u001b[0mself\u001b[0m\u001b[1;33m.\u001b[0m\u001b[0mf\u001b[0m\u001b[1;33m(\u001b[0m\u001b[1;33m**\u001b[0m\u001b[0mself\u001b[0m\u001b[1;33m.\u001b[0m\u001b[0mkwargs\u001b[0m\u001b[1;33m)\u001b[0m\u001b[1;33m\u001b[0m\u001b[1;33m\u001b[0m\u001b[0m\n\u001b[0m\u001b[0;32m    257\u001b[0m                 \u001b[0mshow_inline_matplotlib_plots\u001b[0m\u001b[1;33m(\u001b[0m\u001b[1;33m)\u001b[0m\u001b[1;33m\u001b[0m\u001b[1;33m\u001b[0m\u001b[0m\n\u001b[0;32m    258\u001b[0m                 \u001b[1;32mif\u001b[0m \u001b[0mself\u001b[0m\u001b[1;33m.\u001b[0m\u001b[0mauto_display\u001b[0m \u001b[1;32mand\u001b[0m \u001b[0mself\u001b[0m\u001b[1;33m.\u001b[0m\u001b[0mresult\u001b[0m \u001b[1;32mis\u001b[0m \u001b[1;32mnot\u001b[0m \u001b[1;32mNone\u001b[0m\u001b[1;33m:\u001b[0m\u001b[1;33m\u001b[0m\u001b[1;33m\u001b[0m\u001b[0m\n",
          "\u001b[1;32m<ipython-input-211-463f659e109a>\u001b[0m in \u001b[0;36mshowdata\u001b[1;34m(data)\u001b[0m\n\u001b[0;32m      4\u001b[0m     \u001b[1;32mif\u001b[0m \u001b[0mdata\u001b[0m\u001b[1;33m==\u001b[0m\u001b[1;34m''\u001b[0m\u001b[1;33m:\u001b[0m \u001b[0mprint\u001b[0m\u001b[1;33m(\u001b[0m\u001b[1;34m\"Select data to display\"\u001b[0m\u001b[1;33m)\u001b[0m\u001b[1;33m\u001b[0m\u001b[1;33m\u001b[0m\u001b[0m\n\u001b[0;32m      5\u001b[0m     \u001b[1;32melif\u001b[0m \u001b[0mdata\u001b[0m\u001b[1;33m==\u001b[0m\u001b[1;34m'PARAMETERS'\u001b[0m\u001b[1;33m:\u001b[0m \u001b[0mprint\u001b[0m\u001b[1;33m(\u001b[0m\u001b[0mparameters_xml\u001b[0m\u001b[1;33m)\u001b[0m\u001b[1;33m\u001b[0m\u001b[1;33m\u001b[0m\u001b[0m\n\u001b[1;32m----> 6\u001b[1;33m     \u001b[1;32melse\u001b[0m\u001b[1;33m:\u001b[0m \u001b[0mdisplay\u001b[0m\u001b[1;33m(\u001b[0m\u001b[0mgetattr\u001b[0m\u001b[1;33m(\u001b[0m\u001b[0mgrid_data\u001b[0m\u001b[1;33m,\u001b[0m\u001b[0mx\u001b[0m\u001b[1;33m)\u001b[0m\u001b[1;33m)\u001b[0m\u001b[1;33m\u001b[0m\u001b[1;33m\u001b[0m\u001b[0m\n\u001b[0m",
          "\u001b[1;31mNameError\u001b[0m: name 'x' is not defined"
         ]
        }
       ]
      }
     },
     "467666d8da534c3e82f2cf8cfbb00f6c": {
      "model_module": "@jupyter-widgets/base",
      "model_module_version": "1.2.0",
      "model_name": "LayoutModel",
      "state": {}
     },
     "48101b74703b4784a6d419544b24efc0": {
      "model_module": "@jupyter-widgets/controls",
      "model_module_version": "1.5.0",
      "model_name": "DropdownModel",
      "state": {
       "_options_labels": [
        "",
        "node",
        "branch",
        "generator",
        "consumer",
        "PARAMETERS"
       ],
       "description": "data",
       "index": 4,
       "layout": "IPY_MODEL_234f0f22abef4ed486e488d7777147a1",
       "style": "IPY_MODEL_6830e940f6cc4e868ee7e5ca8c87839e"
      }
     },
     "4870db666e22419595c8bb3c9fac8b91": {
      "model_module": "@jupyter-widgets/controls",
      "model_module_version": "1.5.0",
      "model_name": "DescriptionStyleModel",
      "state": {
       "description_width": ""
      }
     },
     "4c29e6f126da4913b6887eb53f72b545": {
      "model_module": "@jupyter-widgets/controls",
      "model_module_version": "1.5.0",
      "model_name": "DropdownModel",
      "state": {
       "_options_labels": [
        "",
        "node",
        "branch",
        "generator",
        "consumer",
        "PARAMETERS"
       ],
       "description": "x",
       "index": 0,
       "layout": "IPY_MODEL_0933a0ff44a4400ea4a303d08744e826",
       "style": "IPY_MODEL_afbc682cd0aa45ee8ff7deb0ac25532c"
      }
     },
     "4cb161730ffc40ed96e3aebe682b12df": {
      "model_module": "@jupyter-widgets/base",
      "model_module_version": "1.2.0",
      "model_name": "LayoutModel",
      "state": {}
     },
     "4f8ffdec53cf4eac90c535906a881766": {
      "model_module": "@jupyter-widgets/controls",
      "model_module_version": "1.5.0",
      "model_name": "DropdownModel",
      "state": {
       "_options_labels": [
        "node",
        "branches",
        "generators",
        "consumers"
       ],
       "description": "x",
       "index": 0,
       "layout": "IPY_MODEL_c86e12be4c6c49548f28d84438aebae7",
       "style": "IPY_MODEL_f16093b5a77f4b1ca38506aac687b670"
      }
     },
     "523a33ef07df4959887dabb16cbf6e98": {
      "model_module": "@jupyter-widgets/controls",
      "model_module_version": "1.5.0",
      "model_name": "VBoxModel",
      "state": {
       "_dom_classes": [
        "widget-interact"
       ],
       "children": [
        "IPY_MODEL_bf32922aacd744a0b164730a95f6e08d",
        "IPY_MODEL_0cbdac153d394b17b124566f65a7b727"
       ],
       "layout": "IPY_MODEL_f39568b5b2954956bcdab3af13a6d5a2"
      }
     },
     "5249d855fb8d4f93a94ee8dfe8b6c741": {
      "model_module": "@jupyter-widgets/controls",
      "model_module_version": "1.5.0",
      "model_name": "DescriptionStyleModel",
      "state": {
       "description_width": ""
      }
     },
     "542ee32b50464150ba28dfe0ecee66ef": {
      "model_module": "@jupyter-widgets/controls",
      "model_module_version": "1.5.0",
      "model_name": "VBoxModel",
      "state": {
       "_dom_classes": [
        "widget-interact"
       ],
       "children": [
        "IPY_MODEL_588abf564a234d1dbafc5af9293f7ff2",
        "IPY_MODEL_86122200f99a4ed4a819f4d464759f1b"
       ],
       "layout": "IPY_MODEL_8c748a6032a84fde96dbc6a18c49b3fc"
      }
     },
     "571cf5cd822645ba8bf02f991978ddae": {
      "model_module": "@jupyter-widgets/base",
      "model_module_version": "1.2.0",
      "model_name": "LayoutModel",
      "state": {}
     },
     "573745dce46f40bbac092c523b785ab4": {
      "model_module": "@jupyter-widgets/controls",
      "model_module_version": "1.5.0",
      "model_name": "VBoxModel",
      "state": {
       "_dom_classes": [
        "widget-interact"
       ],
       "children": [
        "IPY_MODEL_88c592376c674fecbf78f090cbad9cde",
        "IPY_MODEL_1d756dbe7cd645fcac355a3ed57e5f3a"
       ],
       "layout": "IPY_MODEL_e92cf6b31b79418c8618e1cecd65c6b2"
      }
     },
     "5756d65b916c4495a1d26a415ee51ca6": {
      "model_module": "@jupyter-widgets/base",
      "model_module_version": "1.2.0",
      "model_name": "LayoutModel",
      "state": {}
     },
     "57755f2639c6488ca0dad08a51fd7cca": {
      "model_module": "@jupyter-widgets/controls",
      "model_module_version": "1.5.0",
      "model_name": "VBoxModel",
      "state": {
       "_dom_classes": [
        "widget-interact"
       ],
       "children": [
        "IPY_MODEL_759f7c76bf564163bd5b1e474d3a93b7",
        "IPY_MODEL_7b32ac0067b34bb785bbd6d9a68127f0"
       ],
       "layout": "IPY_MODEL_06a2d916394e42c0a098d76d73834541"
      }
     },
     "584fb6fbde214a4a9338b397beaeafe2": {
      "model_module": "@jupyter-widgets/base",
      "model_module_version": "1.2.0",
      "model_name": "LayoutModel",
      "state": {}
     },
     "588abf564a234d1dbafc5af9293f7ff2": {
      "model_module": "@jupyter-widgets/controls",
      "model_module_version": "1.5.0",
      "model_name": "DropdownModel",
      "state": {
       "_options_labels": [
        "input",
        "opt1",
        "opt2_0",
        "opt2_1",
        "opt2_2"
       ],
       "description": "x",
       "index": 3,
       "layout": "IPY_MODEL_35126c3291be48fb88bc22f4883515bd",
       "style": "IPY_MODEL_96375ea69a074e23bc4079fb7bd932e0"
      }
     },
     "58c67f22a7dd4e1e88cf496ffd2e2f65": {
      "model_module": "@jupyter-widgets/base",
      "model_module_version": "1.2.0",
      "model_name": "LayoutModel",
      "state": {}
     },
     "5d73241ef18b4e579619347410e0a3a3": {
      "model_module": "@jupyter-widgets/controls",
      "model_module_version": "1.5.0",
      "model_name": "VBoxModel",
      "state": {
       "_dom_classes": [
        "widget-interact"
       ],
       "children": [
        "IPY_MODEL_c2d9f0476a984ffca256c34b722b8521",
        "IPY_MODEL_04c9c70e9da643649bf78ce7b8120193"
       ],
       "layout": "IPY_MODEL_584fb6fbde214a4a9338b397beaeafe2"
      }
     },
     "5f25dca4a75a413d848e65196b559fa8": {
      "model_module": "@jupyter-widgets/controls",
      "model_module_version": "1.5.0",
      "model_name": "DropdownModel",
      "state": {
       "_options_labels": [
        "input",
        "Scenario1_1",
        "Scenario1_2",
        "Scenario2_1",
        "Scenario2_2",
        "Scenario3_1",
        "Scenario3_2"
       ],
       "description": "x",
       "index": 1,
       "layout": "IPY_MODEL_a7dbb35ae5be4622a3e6424581343692",
       "style": "IPY_MODEL_094412df60c646dea0bc5666d29c146e"
      }
     },
     "6120f11d440e452f86e2ef597e8e9c93": {
      "model_module": "@jupyter-widgets/controls",
      "model_module_version": "1.5.0",
      "model_name": "DropdownModel",
      "state": {
       "_options_labels": [
        "",
        "node",
        "branch",
        "generator",
        "consumer",
        "PARAMETERS"
       ],
       "description": "x",
       "index": 0,
       "layout": "IPY_MODEL_2e0249023c6d42afa6e5026dd13896a7",
       "style": "IPY_MODEL_6c0bc5bb46e74e629d0f47c22abe0af0"
      }
     },
     "62bfbfd38d4a4ffcac57fdf6cb93b269": {
      "model_module": "@jupyter-widgets/controls",
      "model_module_version": "1.5.0",
      "model_name": "DescriptionStyleModel",
      "state": {
       "description_width": ""
      }
     },
     "63528f9045334438aed33c58d0763872": {
      "model_module": "@jupyter-widgets/base",
      "model_module_version": "1.2.0",
      "model_name": "LayoutModel",
      "state": {}
     },
     "6352ff8dc41f40fd9f40513e78fe3db0": {
      "model_module": "@jupyter-widgets/controls",
      "model_module_version": "1.5.0",
      "model_name": "VBoxModel",
      "state": {
       "_dom_classes": [
        "widget-interact"
       ],
       "children": [
        "IPY_MODEL_e7145960f73a4591acec4acd5ee445d7",
        "IPY_MODEL_268015eab42e40ea8676c3b456ef1820"
       ],
       "layout": "IPY_MODEL_8cdfa630ffca41d0abbeb27bafabb50e"
      }
     },
     "64eae397aadc484fbf90feb0f610d451": {
      "model_module": "@jupyter-widgets/controls",
      "model_module_version": "1.5.0",
      "model_name": "DropdownModel",
      "state": {
       "_options_labels": [
        "",
        "node",
        "branch",
        "generator",
        "consumer",
        "PARAMETERS"
       ],
       "description": "data",
       "index": 0,
       "layout": "IPY_MODEL_3b97ff99b7ac496ca2f8b02d1b08f1fc",
       "style": "IPY_MODEL_797dc7905d2d4a39b210f3b3b8a048d5"
      }
     },
     "65668fba8449485cabba6a23f3de964f": {
      "model_module": "@jupyter-widgets/base",
      "model_module_version": "1.2.0",
      "model_name": "LayoutModel",
      "state": {}
     },
     "67af105b7ced4786be4006a2e72a5c96": {
      "model_module": "@jupyter-widgets/controls",
      "model_module_version": "1.5.0",
      "model_name": "DescriptionStyleModel",
      "state": {
       "description_width": ""
      }
     },
     "6830e940f6cc4e868ee7e5ca8c87839e": {
      "model_module": "@jupyter-widgets/controls",
      "model_module_version": "1.5.0",
      "model_name": "DescriptionStyleModel",
      "state": {
       "description_width": ""
      }
     },
     "69f4bda5518b41eb972cacbbd68392ea": {
      "model_module": "@jupyter-widgets/base",
      "model_module_version": "1.2.0",
      "model_name": "LayoutModel",
      "state": {}
     },
     "6a32c0318af145cbbe8ec50d4609e330": {
      "model_module": "@jupyter-widgets/controls",
      "model_module_version": "1.5.0",
      "model_name": "VBoxModel",
      "state": {
       "_dom_classes": [
        "widget-interact"
       ],
       "children": [
        "IPY_MODEL_3c09dd962b05407da41a3feca120e570",
        "IPY_MODEL_dbfdfadb2c5d450ba065521e0e328d2a"
       ],
       "layout": "IPY_MODEL_d00a6e0dc89845838a928a043db80920"
      }
     },
     "6ac807c667994819bd8bdc6f3456f98f": {
      "model_module": "@jupyter-widgets/base",
      "model_module_version": "1.2.0",
      "model_name": "LayoutModel",
      "state": {}
     },
     "6b11f22e81f041428a08dae38a0a2afb": {
      "model_module": "@jupyter-widgets/controls",
      "model_module_version": "1.5.0",
      "model_name": "VBoxModel",
      "state": {
       "_dom_classes": [
        "widget-interact"
       ],
       "children": [
        "IPY_MODEL_4f8ffdec53cf4eac90c535906a881766",
        "IPY_MODEL_d7f232b6f5544b3a94ae04b8f8bd06c0"
       ],
       "layout": "IPY_MODEL_467666d8da534c3e82f2cf8cfbb00f6c"
      }
     },
     "6c0bc5bb46e74e629d0f47c22abe0af0": {
      "model_module": "@jupyter-widgets/controls",
      "model_module_version": "1.5.0",
      "model_name": "DescriptionStyleModel",
      "state": {
       "description_width": ""
      }
     },
     "6c4c4e2fa18f4fd18a5d3649862e5817": {
      "model_module": "@jupyter-widgets/controls",
      "model_module_version": "1.5.0",
      "model_name": "VBoxModel",
      "state": {
       "_dom_classes": [
        "widget-interact"
       ],
       "children": [
        "IPY_MODEL_dc04d91ee1a3432eb40030e2a2c007e1",
        "IPY_MODEL_cce2ecbccf4b4c1ca445aadd1be02c2b"
       ],
       "layout": "IPY_MODEL_841ce08a11c345df8fde34f8f7a5b4fc"
      }
     },
     "70b867d45f1d4f9ea6cd4f570483ebcb": {
      "model_module": "@jupyter-widgets/controls",
      "model_module_version": "1.5.0",
      "model_name": "VBoxModel",
      "state": {
       "_dom_classes": [
        "widget-interact"
       ],
       "children": [
        "IPY_MODEL_efee03225b3c4f1bb1fdf8c4a42f6de4",
        "IPY_MODEL_c92632311ae544cd97c378c375ff1f57"
       ],
       "layout": "IPY_MODEL_fc2a94af09ff492aa106ee5c780c028b"
      }
     },
     "73c7fd3d24904bada8590e2f250988da": {
      "model_module": "@jupyter-widgets/base",
      "model_module_version": "1.2.0",
      "model_name": "LayoutModel",
      "state": {}
     },
     "759f7c76bf564163bd5b1e474d3a93b7": {
      "model_module": "@jupyter-widgets/controls",
      "model_module_version": "1.5.0",
      "model_name": "DropdownModel",
      "state": {
       "_options_labels": [
        "input",
        "opt1",
        "opt2_0",
        "opt2_1",
        "opt2_2"
       ],
       "description": "x",
       "index": 2,
       "layout": "IPY_MODEL_fe4577a5bba2481881e120526c2ce63b",
       "style": "IPY_MODEL_b45e274e2267424488fb7484e73af7dc"
      }
     },
     "78112d87c0da4b719da0cf92440a6f25": {
      "model_module": "@jupyter-widgets/base",
      "model_module_version": "1.2.0",
      "model_name": "LayoutModel",
      "state": {}
     },
     "797dc7905d2d4a39b210f3b3b8a048d5": {
      "model_module": "@jupyter-widgets/controls",
      "model_module_version": "1.5.0",
      "model_name": "DescriptionStyleModel",
      "state": {
       "description_width": ""
      }
     },
     "7a39906ef5534053898f8ff1bf6180e9": {
      "model_module": "@jupyter-widgets/base",
      "model_module_version": "1.2.0",
      "model_name": "LayoutModel",
      "state": {}
     },
     "7b32ac0067b34bb785bbd6d9a68127f0": {
      "model_module": "@jupyter-widgets/output",
      "model_module_version": "1.0.0",
      "model_name": "OutputModel",
      "state": {
       "layout": "IPY_MODEL_9bc661a6b6cb47cbabb76e15d0238e97",
       "outputs": [
        {
         "name": "stdout",
         "output_type": "stream",
         "text": "Offshore grid\n"
        },
        {
         "data": {
          "text/html": "<div style=\"width:100%;\"><div style=\"position:relative;width:100%;height:0;padding-bottom:60%;\"><iframe src=\"data:text/html;charset=utf-8;base64,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\" style=\"position:absolute;width:100%;height:100%;left:0;top:0;border:none !important;\" allowfullscreen webkitallowfullscreen mozallowfullscreen></iframe></div></div>",
          "text/plain": "<folium.folium.Map at 0x2769db56388>"
         },
         "metadata": {},
         "output_type": "display_data"
        }
       ]
      }
     },
     "7c013fc2196b4cfaaa6d558466387ca5": {
      "model_module": "@jupyter-widgets/base",
      "model_module_version": "1.2.0",
      "model_name": "LayoutModel",
      "state": {}
     },
     "7de3d0d83c29413295374c4cbd189adc": {
      "model_module": "@jupyter-widgets/controls",
      "model_module_version": "1.5.0",
      "model_name": "VBoxModel",
      "state": {
       "_dom_classes": [
        "widget-interact"
       ],
       "children": [
        "IPY_MODEL_7edcddd0a0a740239e27a632c83d9713",
        "IPY_MODEL_948e7f5a64ee4a47ac0dd9df1aed860a"
       ],
       "layout": "IPY_MODEL_e1d96b06e88f4aba9775723ebab944e8"
      }
     },
     "7e5b04069b2b4198b2229f1a2af2dc11": {
      "model_module": "@jupyter-widgets/base",
      "model_module_version": "1.2.0",
      "model_name": "LayoutModel",
      "state": {}
     },
     "7edcddd0a0a740239e27a632c83d9713": {
      "model_module": "@jupyter-widgets/controls",
      "model_module_version": "1.5.0",
      "model_name": "DropdownModel",
      "state": {
       "_options_labels": [
        "",
        "node",
        "branch",
        "generator",
        "consumer"
       ],
       "description": "x",
       "index": 4,
       "layout": "IPY_MODEL_0a24bbdaae7f4e739f0595c31ed272cc",
       "style": "IPY_MODEL_3aed099135484feeb09808a490563698"
      }
     },
     "7fa2f503a18a4ea59c3e96b020c530dd": {
      "model_module": "@jupyter-widgets/output",
      "model_module_version": "1.0.0",
      "model_name": "OutputModel",
      "state": {
       "layout": "IPY_MODEL_d3bc182883774fe08366d3eb10a25cf6",
       "outputs": [
        {
         "ename": "AttributeError",
         "evalue": "'GridData' object has no attribute 'nodes'",
         "output_type": "error",
         "traceback": [
          "\u001b[1;31m---------------------------------------------------------------------------\u001b[0m",
          "\u001b[1;31mAttributeError\u001b[0m                            Traceback (most recent call last)",
          "\u001b[1;32m~\\AppData\\Local\\Continuum\\anaconda3\\lib\\site-packages\\ipywidgets\\widgets\\interaction.py\u001b[0m in \u001b[0;36mupdate\u001b[1;34m(self, *args)\u001b[0m\n\u001b[0;32m    254\u001b[0m                     \u001b[0mvalue\u001b[0m \u001b[1;33m=\u001b[0m \u001b[0mwidget\u001b[0m\u001b[1;33m.\u001b[0m\u001b[0mget_interact_value\u001b[0m\u001b[1;33m(\u001b[0m\u001b[1;33m)\u001b[0m\u001b[1;33m\u001b[0m\u001b[1;33m\u001b[0m\u001b[0m\n\u001b[0;32m    255\u001b[0m                     \u001b[0mself\u001b[0m\u001b[1;33m.\u001b[0m\u001b[0mkwargs\u001b[0m\u001b[1;33m[\u001b[0m\u001b[0mwidget\u001b[0m\u001b[1;33m.\u001b[0m\u001b[0m_kwarg\u001b[0m\u001b[1;33m]\u001b[0m \u001b[1;33m=\u001b[0m \u001b[0mvalue\u001b[0m\u001b[1;33m\u001b[0m\u001b[1;33m\u001b[0m\u001b[0m\n\u001b[1;32m--> 256\u001b[1;33m                 \u001b[0mself\u001b[0m\u001b[1;33m.\u001b[0m\u001b[0mresult\u001b[0m \u001b[1;33m=\u001b[0m \u001b[0mself\u001b[0m\u001b[1;33m.\u001b[0m\u001b[0mf\u001b[0m\u001b[1;33m(\u001b[0m\u001b[1;33m**\u001b[0m\u001b[0mself\u001b[0m\u001b[1;33m.\u001b[0m\u001b[0mkwargs\u001b[0m\u001b[1;33m)\u001b[0m\u001b[1;33m\u001b[0m\u001b[1;33m\u001b[0m\u001b[0m\n\u001b[0m\u001b[0;32m    257\u001b[0m                 \u001b[0mshow_inline_matplotlib_plots\u001b[0m\u001b[1;33m(\u001b[0m\u001b[1;33m)\u001b[0m\u001b[1;33m\u001b[0m\u001b[1;33m\u001b[0m\u001b[0m\n\u001b[0;32m    258\u001b[0m                 \u001b[1;32mif\u001b[0m \u001b[0mself\u001b[0m\u001b[1;33m.\u001b[0m\u001b[0mauto_display\u001b[0m \u001b[1;32mand\u001b[0m \u001b[0mself\u001b[0m\u001b[1;33m.\u001b[0m\u001b[0mresult\u001b[0m \u001b[1;32mis\u001b[0m \u001b[1;32mnot\u001b[0m \u001b[1;32mNone\u001b[0m\u001b[1;33m:\u001b[0m\u001b[1;33m\u001b[0m\u001b[1;33m\u001b[0m\u001b[0m\n",
          "\u001b[1;32m<ipython-input-174-76d312d6aef0>\u001b[0m in \u001b[0;36mshowdata\u001b[1;34m(x)\u001b[0m\n\u001b[0;32m      1\u001b[0m \u001b[1;33m@\u001b[0m\u001b[0mipywidgets\u001b[0m\u001b[1;33m.\u001b[0m\u001b[0minteract\u001b[0m\u001b[1;33m(\u001b[0m\u001b[0mx\u001b[0m\u001b[1;33m=\u001b[0m\u001b[1;33m[\u001b[0m\u001b[1;34m'nodes'\u001b[0m\u001b[1;33m,\u001b[0m\u001b[1;34m'branches'\u001b[0m\u001b[1;33m,\u001b[0m\u001b[1;34m'generators'\u001b[0m\u001b[1;33m,\u001b[0m\u001b[1;34m'consumers'\u001b[0m\u001b[1;33m]\u001b[0m\u001b[1;33m)\u001b[0m\u001b[1;33m\u001b[0m\u001b[1;33m\u001b[0m\u001b[0m\n\u001b[0;32m      2\u001b[0m \u001b[1;32mdef\u001b[0m \u001b[0mshowdata\u001b[0m\u001b[1;33m(\u001b[0m\u001b[0mx\u001b[0m\u001b[1;33m)\u001b[0m\u001b[1;33m:\u001b[0m\u001b[1;33m\u001b[0m\u001b[1;33m\u001b[0m\u001b[0m\n\u001b[1;32m----> 3\u001b[1;33m     \u001b[0mdisplay\u001b[0m\u001b[1;33m(\u001b[0m\u001b[0mgetattr\u001b[0m\u001b[1;33m(\u001b[0m\u001b[0mgrid_data\u001b[0m\u001b[1;33m,\u001b[0m\u001b[0mx\u001b[0m\u001b[1;33m)\u001b[0m\u001b[1;33m)\u001b[0m\u001b[1;33m\u001b[0m\u001b[1;33m\u001b[0m\u001b[0m\n\u001b[0m",
          "\u001b[1;31mAttributeError\u001b[0m: 'GridData' object has no attribute 'nodes'"
         ]
        }
       ]
      }
     },
     "82a9d0e411174cbaba4cba176d06c292": {
      "model_module": "@jupyter-widgets/controls",
      "model_module_version": "1.5.0",
      "model_name": "DescriptionStyleModel",
      "state": {
       "description_width": ""
      }
     },
     "841ce08a11c345df8fde34f8f7a5b4fc": {
      "model_module": "@jupyter-widgets/base",
      "model_module_version": "1.2.0",
      "model_name": "LayoutModel",
      "state": {}
     },
     "8556a6dbc7304ba0b13f6f10d81f0997": {
      "model_module": "@jupyter-widgets/base",
      "model_module_version": "1.2.0",
      "model_name": "LayoutModel",
      "state": {}
     },
     "86122200f99a4ed4a819f4d464759f1b": {
      "model_module": "@jupyter-widgets/output",
      "model_module_version": "1.0.0",
      "model_name": "OutputModel",
      "state": {
       "layout": "IPY_MODEL_fa400e62e0c94996ace7ea2fb05ac3fe",
       "outputs": [
        {
         "name": "stdout",
         "output_type": "stream",
         "text": "Offshore grid\n"
        },
        {
         "data": {
          "text/html": "<div style=\"width:100%;\"><div style=\"position:relative;width:100%;height:0;padding-bottom:60%;\"><iframe src=\"data:text/html;charset=utf-8;base64,PCFET0NUWVBFIGh0bWw+CjxoZWFkPiAgICAKICAgIDxtZXRhIGh0dHAtZXF1aXY9ImNvbnRlbnQtdHlwZSIgY29udGVudD0idGV4dC9odG1sOyBjaGFyc2V0PVVURi04IiAvPgogICAgCiAgICAgICAgPHNjcmlwdD4KICAgICAgICAgICAgTF9OT19UT1VDSCA9IGZhbHNlOwogICAgICAgICAgICBMX0RJU0FCTEVfM0QgPSBmYWxzZTsKICAgICAgICA8L3NjcmlwdD4KICAgIAogICAgPHNjcmlwdCBzcmM9Imh0dHBzOi8vY2RuLmpzZGVsaXZyLm5ldC9ucG0vbGVhZmxldEAxLjUuMS9kaXN0L2xlYWZsZXQuanMiPjwvc2NyaXB0PgogICAgPHNjcmlwdCBzcmM9Imh0dHBzOi8vY29kZS5qcXVlcnkuY29tL2pxdWVyeS0xLjEyLjQubWluLmpzIj48L3NjcmlwdD4KICAgIDxzY3JpcHQgc3JjPSJodHRwczovL21heGNkbi5ib290c3RyYXBjZG4uY29tL2Jvb3RzdHJhcC8zLjIuMC9qcy9ib290c3RyYXAubWluLmpzIj48L3NjcmlwdD4KICAgIDxzY3JpcHQgc3JjPSJodHRwczovL2NkbmpzLmNsb3VkZmxhcmUuY29tL2FqYXgvbGlicy9MZWFmbGV0LmF3ZXNvbWUtbWFya2Vycy8yLjAuMi9sZWFmbGV0LmF3ZXNvbWUtbWFya2Vycy5qcyI+PC9zY3JpcHQ+CiAgICA8bGluayByZWw9InN0eWxlc2hlZXQiIGhyZWY9Imh0dHBzOi8vY2RuLmpzZGVsaXZyLm5ldC9ucG0vbGVhZmxldEAxLjUuMS9kaXN0L2xlYWZsZXQuY3NzIi8+CiAgICA8bGluayByZWw9InN0eWxlc2hlZXQiIGhyZWY9Imh0dHBzOi8vbWF4Y2RuLmJvb3RzdHJhcGNkbi5jb20vYm9vdHN0cmFwLzMuMi4wL2Nzcy9ib290c3RyYXAubWluLmNzcyIvPgogICAgPGxpbmsgcmVsPSJzdHlsZXNoZWV0IiBocmVmPSJodHRwczovL21heGNkbi5ib290c3RyYXBjZG4uY29tL2Jvb3RzdHJhcC8zLjIuMC9jc3MvYm9vdHN0cmFwLXRoZW1lLm1pbi5jc3MiLz4KICAgIDxsaW5rIHJlbD0ic3R5bGVzaGVldCIgaHJlZj0iaHR0cHM6Ly9tYXhjZG4uYm9vdHN0cmFwY2RuLmNvbS9mb250LWF3ZXNvbWUvNC42LjMvY3NzL2ZvbnQtYXdlc29tZS5taW4uY3NzIi8+CiAgICA8bGluayByZWw9InN0eWxlc2hlZXQiIGhyZWY9Imh0dHBzOi8vY2RuanMuY2xvdWRmbGFyZS5jb20vYWpheC9saWJzL0xlYWZsZXQuYXdlc29tZS1tYXJrZXJzLzIuMC4yL2xlYWZsZXQuYXdlc29tZS1tYXJrZXJzLmNzcyIvPgogICAgPGxpbmsgcmVsPSJzdHlsZXNoZWV0IiBocmVmPSJodHRwczovL3Jhd2Nkbi5naXRoYWNrLmNvbS9weXRob24tdmlzdWFsaXphdGlvbi9mb2xpdW0vbWFzdGVyL2ZvbGl1bS90ZW1wbGF0ZXMvbGVhZmxldC5hd2Vzb21lLnJvdGF0ZS5jc3MiLz4KICAgIDxzdHlsZT5odG1sLCBib2R5IHt3aWR0aDogMTAwJTtoZWlnaHQ6IDEwMCU7bWFyZ2luOiAwO3BhZGRpbmc6IDA7fTwvc3R5bGU+CiAgICA8c3R5bGU+I21hcCB7cG9zaXRpb246YWJzb2x1dGU7dG9wOjA7Ym90dG9tOjA7cmlnaHQ6MDtsZWZ0OjA7fTwvc3R5bGU+CiAgICAKICAgICAgICAgICAgPG1ldGEgbmFtZT0idmlld3BvcnQiIGNvbnRlbnQ9IndpZHRoPWRldmljZS13aWR0aCwKICAgICAgICAgICAgICAgIGluaXRpYWwtc2NhbGU9MS4wLCBtYXhpbXVtLXNjYWxlPTEuMCwgdXNlci1zY2FsYWJsZT1ubyIgLz4KICAgICAgICAgICAgPHN0eWxlPgogICAgICAgICAgICAgICAgI21hcF8wZmJiZTUyNTA1YTI0ODdiOGVlZTdmMjE3NGQ0MGE5ZCB7CiAgICAgICAgICAgICAgICAgICAgcG9zaXRpb246IHJlbGF0aXZlOwogICAgICAgICAgICAgICAgICAgIHdpZHRoOiAxMDAuMCU7CiAgICAgICAgICAgICAgICAgICAgaGVpZ2h0OiAxMDAuMCU7CiAgICAgICAgICAgICAgICAgICAgbGVmdDogMC4wJTsKICAgICAgICAgICAgICAgICAgICB0b3A6IDAuMCU7CiAgICAgICAgICAgICAgICB9CiAgICAgICAgICAgIDwvc3R5bGU+CiAgICAgICAgCiAgICA8c2NyaXB0IHNyYz0iaHR0cHM6Ly9jZG5qcy5jbG91ZGZsYXJlLmNvbS9hamF4L2xpYnMvbGVhZmxldC5tYXJrZXJjbHVzdGVyLzEuMS4wL2xlYWZsZXQubWFya2VyY2x1c3Rlci5qcyI+PC9zY3JpcHQ+CiAgICA8bGluayByZWw9InN0eWxlc2hlZXQiIGhyZWY9Imh0dHBzOi8vY2RuanMuY2xvdWRmbGFyZS5jb20vYWpheC9saWJzL2xlYWZsZXQubWFya2VyY2x1c3Rlci8xLjEuMC9NYXJrZXJDbHVzdGVyLmNzcyIvPgogICAgPGxpbmsgcmVsPSJzdHlsZXNoZWV0IiBocmVmPSJodHRwczovL2NkbmpzLmNsb3VkZmxhcmUuY29tL2FqYXgvbGlicy9sZWFmbGV0Lm1hcmtlcmNsdXN0ZXIvMS4xLjAvTWFya2VyQ2x1c3Rlci5EZWZhdWx0LmNzcyIvPgo8L2hlYWQ+Cjxib2R5PiAgICAKICAgIAogICAgICAgICA8ZGl2IHN0eWxlPSJwb3NpdGlvbjogZml4ZWQ7CiAgICAgICAgICAgICBib3R0b206IDIwcHg7IGxlZnQ6IDIwcHg7CiAgICAgICAgICAgICBib3JkZXI6MnB4IHNvbGlkIGdyZXk7IHotaW5kZXg6OTk5OTsgZm9udC1zaXplOjEzcHg7CiAgICAgICAgICAgICBiYWNrZ3JvdW5kLWNvbG9yOiBsaWdodGdyYXkiPgogICAgICAgICAmbmJzcDsgPGI+R2VuZXJhdG9yczwvYj48YnI+ICZuYnNwOyA8aSBjbGFzcz0iZmEgZmEtY2lyY2xlIGZhLTF4IiBzdHlsZT0iY29sb3I6I2U0MWExYyI+Jm5ic3A7d2luZDwvaT48YnI+ICZuYnNwOyA8aSBjbGFzcz0iZmEgZmEtY2lyY2xlIGZhLTF4IiBzdHlsZT0iY29sb3I6IzRkYWY0YSI+Jm5ic3A7YWx0PC9pPjwvZGl2PgogICAgCiAgICAgICAgICAgIDxkaXYgY2xhc3M9ImZvbGl1bS1tYXAiIGlkPSJtYXBfMGZiYmU1MjUwNWEyNDg3YjhlZWU3ZjIxNzRkNDBhOWQiID48L2Rpdj4KICAgICAgICAKPC9ib2R5Pgo8c2NyaXB0PiAgICAKICAgIAogICAgICAgICAgICB2YXIgbWFwXzBmYmJlNTI1MDVhMjQ4N2I4ZWVlN2YyMTc0ZDQwYTlkID0gTC5tYXAoCiAgICAgICAgICAgICAgICAibWFwXzBmYmJlNTI1MDVhMjQ4N2I4ZWVlN2YyMTc0ZDQwYTlkIiwKICAgICAgICAgICAgICAgIHsKICAgICAgICAgICAgICAgICAgICBjZW50ZXI6IFs1NC45MTc4NTM3NzUsIDEuODc1NjQwOTI4MDAwMDAwMl0sCiAgICAgICAgICAgICAgICAgICAgY3JzOiBMLkNSUy5FUFNHMzg1NywKICAgICAgICAgICAgICAgICAgICB6b29tOiA0LAogICAgICAgICAgICAgICAgICAgIHpvb21Db250cm9sOiB0cnVlLAogICAgICAgICAgICAgICAgICAgIHByZWZlckNhbnZhczogZmFsc2UsCiAgICAgICAgICAgICAgICB9CiAgICAgICAgICAgICk7CgogICAgICAgICAgICAKCiAgICAgICAgCiAgICAKICAgICAgICAgICAgdmFyIHRpbGVfbGF5ZXJfMzM0MTU0MjNjYTliNDViMmFkNDkxNTQwZGIyMDk1YmMgPSBMLnRpbGVMYXllcigKICAgICAgICAgICAgICAgICJodHRwczovL3tzfS50aWxlLm9wZW5zdHJlZXRtYXAub3JnL3t6fS97eH0ve3l9LnBuZyIsCiAgICAgICAgICAgICAgICB7ImF0dHJpYnV0aW9uIjogIkRhdGEgYnkgXHUwMDI2Y29weTsgXHUwMDNjYSBocmVmPVwiaHR0cDovL29wZW5zdHJlZXRtYXAub3JnXCJcdTAwM2VPcGVuU3RyZWV0TWFwXHUwMDNjL2FcdTAwM2UsIHVuZGVyIFx1MDAzY2EgaHJlZj1cImh0dHA6Ly93d3cub3BlbnN0cmVldG1hcC5vcmcvY29weXJpZ2h0XCJcdTAwM2VPRGJMXHUwMDNjL2FcdTAwM2UuIiwgImRldGVjdFJldGluYSI6IGZhbHNlLCAibWF4TmF0aXZlWm9vbSI6IDE4LCAibWF4Wm9vbSI6IDE4LCAibWluWm9vbSI6IDAsICJub1dyYXAiOiBmYWxzZSwgIm9wYWNpdHkiOiAxLCAic3ViZG9tYWlucyI6ICJhYmMiLCAidG1zIjogZmFsc2V9CiAgICAgICAgICAgICkuYWRkVG8obWFwXzBmYmJlNTI1MDVhMjQ4N2I4ZWVlN2YyMTc0ZDQwYTlkKTsKICAgICAgICAKICAgIAogICAgICAgICAgICB2YXIgZmVhdHVyZV9ncm91cF9jMDdlZTVhZTJhYjk0YThmYTBkN2YwYjU5Njg5NmQ0MyA9IEwuZmVhdHVyZUdyb3VwKAogICAgICAgICAgICAgICAge30KICAgICAgICAgICAgKS5hZGRUbyhtYXBfMGZiYmU1MjUwNWEyNDg3YjhlZWU3ZjIxNzRkNDBhOWQpOwogICAgICAgIAogICAgCiAgICAgICAgICAgIHZhciBjYWxsYmFjazI2NiA9IGZ1bmN0aW9uIChyb3csY29sb3VyKSB7CiAgICAgICAgICAgICAgIGlmIChjb2xvdXI9PScnKSB7CiAgICAgICAgICAgICAgICAgICBjb2xvdXI9cm93WzNdCiAgICAgICAgICAgICAgIH0KICAgICAgICAgICAgICAgdmFyIG1hcmtlciA9IEwuY2lyY2xlTWFya2VyKG5ldyBMLkxhdExuZyhyb3dbMF0scm93WzFdKSwKICAgICAgICAgICAgICAgICAgICAgICAgICAgICAgICAgICAgICAgICAgIHsicmFkaXVzIjozLAogICAgICAgICAgICAgICAgICAgICAgICAgICAgICAgICAgICAgICAgICAgICJjb2xvciI6Y29sb3VyfSApOwogICAgICAgICAgICAgICAgICAgICAgbWFya2VyLmJpbmRQb3B1cChyb3dbMl0pOwogICAgICAgICAgICAgICAgICAgICAgcmV0dXJuIG1hcmtlcjsKICAgICAgICAgICAgfTsKICAgICAgICAgICAgKGZ1bmN0aW9uKCl7CiAgICAgICAgICAgICAgICB2YXIgZGF0YSA9IFtbNTQuNjYzMDMxOTk5OTk5OTk0LCAtMS4xMjQ0MTcsICdOb2RlPTQsIGFyZWE9VUsnXSwgWzUzLjgzNDg0NiwgLTAuNDA5NDIzLCAnTm9kZT01LCBhcmVhPVVLJ10sIFs1My4xMzE0OTksIDcuNjkyNDEwMDAwMDAwMDAxLCAnTm9kZT02LCBhcmVhPURFJ10sIFs1OC4xNTEzNjcsIDYuNzc3NDI1LCAnTm9kZT03LCBhcmVhPU5PJ10sIFs1Mi41LCAtMS4wLCAnTm9kZT0xLCBhcmVhPVVLJ10sIFs1MS4wLCA5LjAsICdOb2RlPTIsIGFyZWE9REUnXSwgWzYwLjUsIDExLjAsICdOb2RlPTMsIGFyZWE9Tk8nXSwgWzU0LjgxMzE4MjQ4LCAxLjg3NTY0MDkyODAwMDAwMDIsICdOb2RlPTY2LCBhcmVhPWRvZyddLCBbNTQuOTU4OTMzMTEsIDEuNjU5OTAzOTk2OTk5OTk5OCwgJ05vZGU9NjcsIGFyZWE9ZG9nJ10sIFs1NS4wNTk2MTE0OCwgMS42NTY5ODYwMTcsICdOb2RlPTYzLCBhcmVhPWRvZyddLCBbNTUuMDM2Nzc0NDQsIDIuMTk1Nzc0Mzk1LCAnTm9kZT02NSwgYXJlYT1kb2cnXSwgWzU1LjA3NTU1MSwgMi43Njk5MDcsICdOb2RlPTQwLCBhcmVhPWRvZyddLCBbNTUuMjc1MTg0OTk5OTk5OTksIDEuNzY5NTg1LCAnTm9kZT01MCwgYXJlYT1kb2cnXSwgWzU1LjMzMjk3NSwgMi4zNjM2NjE5OTk5OTk5OTk3LCAnTm9kZT02MCwgYXJlYT1kb2cnXSwgWzU0LjU4MzAzMTk5OTk5OTk5NiwgLTEuMTI0NDE3LCAnTm9kZT0xMDQsIGFyZWE9ZG9nJ10sIFs1My43NTQ4NDYsIC0wLjQwOTQyMywgJ05vZGU9MTA1LCBhcmVhPWRvZyddLCBbNTMuMDUxNDk5LCA3LjY5MjQxMDAwMDAwMDAwMSwgJ05vZGU9MTA2LCBhcmVhPWRvZyddLCBbNTQuOTk1NTUxLCAyLjc2OTkwNywgJ05vZGU9MTQwLCBhcmVhPWRvZyddLCBbNTQuOTc5NjExNDgsIDEuNjU2OTg2MDE3LCAnTm9kZT0xNjMsIGFyZWE9ZG9nJ10sIFs1NC45NTY3NzQ0NDAwMDAwMDQsIDIuMTk1Nzc0Mzk1LCAnTm9kZT0xNjUsIGFyZWE9ZG9nJ10sIFs1NC43MzMxODI0OCwgMS44NzU2NDA5MjgwMDAwMDAyLCAnTm9kZT0xNjYsIGFyZWE9ZG9nJ10sIFs1NC44Nzg5MzMxMSwgMS42NTk5MDM5OTY5OTk5OTk4LCAnTm9kZT0xNjcsIGFyZWE9ZG9nJ11dOwogICAgICAgICAgICAgICAgLy92YXIgbWFwID0gZmVhdHVyZV9ncm91cF9jMDdlZTVhZTJhYjk0YThmYTBkN2YwYjU5Njg5NmQ0MzsKICAgICAgICAgICAgICAgIHZhciBhZGR0byA9IGZlYXR1cmVfZ3JvdXBfYzA3ZWU1YWUyYWI5NGE4ZmEwZDdmMGI1OTY4OTZkNDM7CiAgICAgICAgICAgICAgICB2YXIgY29sb3VyID0gJ2JsdWUnOwogICAgICAgICAgICAgICAgZm9yICh2YXIgaSA9IDA7IGkgPCBkYXRhLmxlbmd0aDsgaSsrKSB7CiAgICAgICAgICAgICAgICAgICAgdmFyIHJvdyA9IGRhdGFbaV07CiAgICAgICAgICAgICAgICAgICAgdmFyIGZlYXR1cmUgPSBjYWxsYmFjazI2Nihyb3csY29sb3VyKTsKICAgICAgICAgICAgICAgICAgICBmZWF0dXJlLmFkZFRvKGFkZHRvKTsKICAgICAgICAgICAgICAgIH07CiAgICAgICAgICAgIH0pKCk7CiAgICAgICAgICAgIAogICAgCiAgICAgICAgICAgIHZhciBmZWF0dXJlX2dyb3VwXzAzMDBhNDQ3MzhlZTQxZmJiNTI1NmE0ZTc0MWM1NDc3ID0gTC5mZWF0dXJlR3JvdXAoCiAgICAgICAgICAgICAgICB7fQogICAgICAgICAgICApLmFkZFRvKG1hcF8wZmJiZTUyNTA1YTI0ODdiOGVlZTdmMjE3NGQ0MGE5ZCk7CiAgICAgICAgCiAgICAKICAgICAgICAgICAgdmFyIGNhbGxiYWNrMjY3ID0gZnVuY3Rpb24gKHJvdyxjb2xvdXIpIHsKICAgICAgICAgICAgICAgIGlmIChjb2xvdXI9PScnKSB7CiAgICAgICAgICAgICAgICAgICAgY29sb3VyPXJvd1szXQogICAgICAgICAgICAgICAgfQogICAgICAgICAgICAgICAgdmFyIHBvbHlsaW5lID0gTC5wb2x5bGluZShbcm93WzBdLHJvd1sxXV0sCiAgICAgICAgICAgICAgICAgICAgICAgICAgICAgICAgICAgICAgICAgIHsiY29sb3IiOmNvbG91cn0gKTsKICAgICAgICAgICAgICAgIHBvbHlsaW5lLmJpbmRQb3B1cChyb3dbMl0pOwogICAgICAgICAgICAgICAgcmV0dXJuIHBvbHlsaW5lOwogICAgICAgICAgICB9OwogICAgICAgICAgICAoZnVuY3Rpb24oKXsKICAgICAgICAgICAgICAgIHZhciBkYXRhID0gW1tbNTMuODM0ODQ2LCAtMC40MDk0MjNdLCBbNTIuNSwgLTEuMF0sICdBQyBCcmFuY2g9MCAoNS0xKSwgY2FwYWNpdHk9MzYwMCddLCBbWzU0LjY2MzAzMTk5OTk5OTk5NCwgLTEuMTI0NDE3XSwgWzUyLjUsIC0xLjBdLCAnQUMgQnJhbmNoPTEgKDQtMSksIGNhcGFjaXR5PTYwMDAnXSwgW1s1My4xMzE0OTksIDcuNjkyNDEwMDAwMDAwMDAxXSwgWzUxLjAsIDkuMF0sICdBQyBCcmFuY2g9MiAoNi0yKSwgY2FwYWNpdHk9MTUwMCddLCBbWzU4LjE1MTM2NywgNi43Nzc0MjVdLCBbNjAuNSwgMTEuMF0sICdBQyBCcmFuY2g9MyAoNy0zKSwgY2FwYWNpdHk9MTUwMCddLCBbWzU0Ljk1ODkzMzExLCAxLjY1OTkwMzk5Njk5OTk5OThdLCBbNTQuODEzMTgyNDgsIDEuODc1NjQwOTI4MDAwMDAwMl0sICdBQyBCcmFuY2g9NCAoNjctNjYpLCBjYXBhY2l0eT00MDAnXSwgW1s1NS4wNTk2MTE0OCwgMS42NTY5ODYwMTddLCBbNTQuOTU4OTMzMTEsIDEuNjU5OTAzOTk2OTk5OTk5OF0sICdBQyBCcmFuY2g9NSAoNjMtNjcpLCBjYXBhY2l0eT00MDAnXSwgW1s1NS4wNzU1NTEsIDIuNzY5OTA3XSwgWzU1LjAzNjc3NDQ0LCAyLjE5NTc3NDM5NV0sICdBQyBCcmFuY2g9NiAoNDAtNjUpLCBjYXBhY2l0eT00Mi44OTQzJ10sIFtbNTUuMjc1MTg0OTk5OTk5OTksIDEuNzY5NTg1XSwgWzU1LjA1OTYxMTQ4LCAxLjY1Njk4NjAxN10sICdBQyBCcmFuY2g9NyAoNTAtNjMpLCBjYXBhY2l0eT0xMDMyLjAyJ10sIFtbNTUuMDM2Nzc0NDQsIDIuMTk1Nzc0Mzk1XSwgWzU1LjMzMjk3NSwgMi4zNjM2NjE5OTk5OTk5OTk3XSwgJ0FDIEJyYW5jaD04ICg2NS02MCksIGNhcGFjaXR5PTUxNi4wMSddLCBbWzU0LjczMzE4MjQ4LCAxLjg3NTY0MDkyODAwMDAwMDJdLCBbNTQuOTU2Nzc0NDQwMDAwMDA0LCAyLjE5NTc3NDM5NV0sICdBQyBCcmFuY2g9OSAoMTY2LTE2NSksIGNhcGFjaXR5PTE0NDcuNjcnXSwgW1s1NC45Nzk2MTE0OCwgMS42NTY5ODYwMTddLCBbNTQuODc4OTMzMTEsIDEuNjU5OTAzOTk2OTk5OTk5OF0sICdBQyBCcmFuY2g9MTAgKDE2My0xNjcpLCBjYXBhY2l0eT0xNjE2LjcyJ10sIFtbNTQuOTk1NTUxLCAyLjc2OTkwN10sIFs1NC45NTY3NzQ0NDAwMDAwMDQsIDIuMTk1Nzc0Mzk1XSwgJ0FDIEJyYW5jaD0xMSAoMTQwLTE2NSksIGNhcGFjaXR5PTE2ODUuNjMnXSwgW1s1NC45NTY3NzQ0NDAwMDAwMDQsIDIuMTk1Nzc0Mzk1XSwgWzU0LjU4MzAzMTk5OTk5OTk5NiwgLTEuMTI0NDE3XSwgJ0FDIEJyYW5jaD0xMiAoMTY1LTEwNCksIGNhcGFjaXR5PTEzNjkuMTMnXSwgW1s1NC43MzMxODI0OCwgMS44NzU2NDA5MjgwMDAwMDAyXSwgWzUzLjc1NDg0NiwgLTAuNDA5NDIzXSwgJ0FDIEJyYW5jaD0xMyAoMTY2LTEwNSksIGNhcGFjaXR5PTIwMDAnXSwgW1s1NC44Nzg5MzMxMSwgMS42NTk5MDM5OTY5OTk5OTk4XSwgWzUzLjc1NDg0NiwgLTAuNDA5NDIzXSwgJ0FDIEJyYW5jaD0xNCAoMTY3LTEwNSksIGNhcGFjaXR5PTE2MTYuMTcnXSwgW1s1NC41ODMwMzE5OTk5OTk5OTYsIC0xLjEyNDQxN10sIFs1NC42NjMwMzE5OTk5OTk5OTQsIC0xLjEyNDQxN10sICdBQyBCcmFuY2g9MTUgKDEwNC00KSwgY2FwYWNpdHk9MTM2MC4yMiddLCBbWzUzLjc1NDg0NiwgLTAuNDA5NDIzXSwgWzUzLjgzNDg0NiwgLTAuNDA5NDIzXSwgJ0FDIEJyYW5jaD0xNiAoMTA1LTUpLCBjYXBhY2l0eT0zNTk2LjI1J10sIFtbNTQuOTk1NTUxLCAyLjc2OTkwN10sIFs1NS4wNzU1NTEsIDIuNzY5OTA3XSwgJ0FDIEJyYW5jaD0xNyAoMTQwLTQwKSwgY2FwYWNpdHk9MTA3MC4wMSddLCBbWzU0Ljk3OTYxMTQ4LCAxLjY1Njk4NjAxN10sIFs1NS4wNTk2MTE0OCwgMS42NTY5ODYwMTddLCAnQUMgQnJhbmNoPTE4ICgxNjMtNjMpLCBjYXBhY2l0eT0xNjQzLjAxJ10sIFtbNTQuOTU2Nzc0NDQwMDAwMDA0LCAyLjE5NTc3NDM5NV0sIFs1NS4wMzY3NzQ0NCwgMi4xOTU3NzQzOTVdLCAnQUMgQnJhbmNoPTE5ICgxNjUtNjUpLCBjYXBhY2l0eT0yMDAwJ10sIFtbNTQuNzMzMTgyNDgsIDEuODc1NjQwOTI4MDAwMDAwMl0sIFs1NC44MTMxODI0OCwgMS44NzU2NDA5MjgwMDAwMDAyXSwgJ0FDIEJyYW5jaD0yMCAoMTY2LTY2KSwgY2FwYWNpdHk9MTQxNy45J10sIFtbNTMuMDUxNDk5LCA3LjY5MjQxMDAwMDAwMDAwMV0sIFs1NC45OTU1NTEsIDIuNzY5OTA3XSwgJ0FDIEJyYW5jaD0yMSAoMTA2LTE0MCksIGNhcGFjaXR5PTk5MS45NCddLCBbWzUzLjA1MTQ5OSwgNy42OTI0MTAwMDAwMDAwMDFdLCBbNTMuMTMxNDk5LCA3LjY5MjQxMDAwMDAwMDAwMV0sICdBQyBCcmFuY2g9MjIgKDEwNi02KSwgY2FwYWNpdHk9MTAwOC4wNyddXTsKICAgICAgICAgICAgICAgIC8vdmFyIG1hcCA9IGZlYXR1cmVfZ3JvdXBfMDMwMGE0NDczOGVlNDFmYmI1MjU2YTRlNzQxYzU0Nzc7CiAgICAgICAgICAgICAgICB2YXIgYWRkdG8gPSBmZWF0dXJlX2dyb3VwXzAzMDBhNDQ3MzhlZTQxZmJiNTI1NmE0ZTc0MWM1NDc3OwogICAgICAgICAgICAgICAgdmFyIGNvbG91ciA9ICdibGFjayc7CiAgICAgICAgICAgICAgICBmb3IgKHZhciBpID0gMDsgaSA8IGRhdGEubGVuZ3RoOyBpKyspIHsKICAgICAgICAgICAgICAgICAgICB2YXIgcm93ID0gZGF0YVtpXTsKICAgICAgICAgICAgICAgICAgICB2YXIgZmVhdHVyZSA9IGNhbGxiYWNrMjY3KHJvdyxjb2xvdXIpOwogICAgICAgICAgICAgICAgICAgIGZlYXR1cmUuYWRkVG8oYWRkdG8pOwogICAgICAgICAgICAgICAgfTsKICAgICAgICAgICAgfSkoKTsKICAgICAgICAgICAgCiAgICAKICAgICAgICAgICAgdmFyIGZlYXR1cmVfZ3JvdXBfYzJkODU5NDIwOGEzNGQxZGJhMjc0NDJjZmY4YmQwNjUgPSBMLmZlYXR1cmVHcm91cCgKICAgICAgICAgICAgICAgIHt9CiAgICAgICAgICAgICkuYWRkVG8obWFwXzBmYmJlNTI1MDVhMjQ4N2I4ZWVlN2YyMTc0ZDQwYTlkKTsKICAgICAgICAKICAgIAogICAgICAgICAgICB2YXIgY2FsbGJhY2syNjggPSBmdW5jdGlvbiAocm93LGNvbG91cikgewogICAgICAgICAgICAgICAgaWYgKGNvbG91cj09JycpIHsKICAgICAgICAgICAgICAgICAgICBjb2xvdXI9cm93WzNdCiAgICAgICAgICAgICAgICB9CiAgICAgICAgICAgICAgICB2YXIgcG9seWxpbmUgPSBMLnBvbHlsaW5lKFtyb3dbMF0scm93WzFdXSwKICAgICAgICAgICAgICAgICAgICAgICAgICAgICAgICAgICAgICAgICAgeyJjb2xvciI6Y29sb3VyfSApOwogICAgICAgICAgICAgICAgcG9seWxpbmUuYmluZFBvcHVwKHJvd1syXSk7CiAgICAgICAgICAgICAgICByZXR1cm4gcG9seWxpbmU7CiAgICAgICAgICAgIH07CiAgICAgICAgICAgIChmdW5jdGlvbigpewogICAgICAgICAgICAgICAgdmFyIGRhdGEgPSBbXTsKICAgICAgICAgICAgICAgIC8vdmFyIG1hcCA9IGZlYXR1cmVfZ3JvdXBfYzJkODU5NDIwOGEzNGQxZGJhMjc0NDJjZmY4YmQwNjU7CiAgICAgICAgICAgICAgICB2YXIgYWRkdG8gPSBmZWF0dXJlX2dyb3VwX2MyZDg1OTQyMDhhMzRkMWRiYTI3NDQyY2ZmOGJkMDY1OwogICAgICAgICAgICAgICAgdmFyIGNvbG91ciA9ICdibGFjayc7CiAgICAgICAgICAgICAgICBmb3IgKHZhciBpID0gMDsgaSA8IGRhdGEubGVuZ3RoOyBpKyspIHsKICAgICAgICAgICAgICAgICAgICB2YXIgcm93ID0gZGF0YVtpXTsKICAgICAgICAgICAgICAgICAgICB2YXIgZmVhdHVyZSA9IGNhbGxiYWNrMjY4KHJvdyxjb2xvdXIpOwogICAgICAgICAgICAgICAgICAgIGZlYXR1cmUuYWRkVG8oYWRkdG8pOwogICAgICAgICAgICAgICAgfTsKICAgICAgICAgICAgfSkoKTsKICAgICAgICAgICAgCiAgICAKICAgICAgICAgICAgdmFyIGZlYXR1cmVfZ3JvdXBfMTlkZTY4MzRiOTVhNGU5YzlkYzdlMzlhMzllNzM2ZTMgPSBMLmZlYXR1cmVHcm91cCgKICAgICAgICAgICAgICAgIHt9CiAgICAgICAgICAgICkuYWRkVG8obWFwXzBmYmJlNTI1MDVhMjQ4N2I4ZWVlN2YyMTc0ZDQwYTlkKTsKICAgICAgICAKICAgIAogICAgICAgICAgICB2YXIgY2FsbGJhY2syNjkgPSBmdW5jdGlvbiAocm93LGNvbG91cikgewogICAgICAgICAgICAgICBpZiAoY29sb3VyPT0nJykgewogICAgICAgICAgICAgICAgICAgY29sb3VyPXJvd1szXQogICAgICAgICAgICAgICB9CiAgICAgICAgICAgICAgIHZhciBtYXJrZXIgPSBMLmNpcmNsZU1hcmtlcihuZXcgTC5MYXRMbmcocm93WzBdLHJvd1sxXSksCiAgICAgICAgICAgICAgICAgICAgICAgICAgICAgICAgICAgICAgICAgICB7InJhZGl1cyI6MywKICAgICAgICAgICAgICAgICAgICAgICAgICAgICAgICAgICAgICAgICAgICAiY29sb3IiOmNvbG91cn0gKTsKICAgICAgICAgICAgICAgICAgICAgIG1hcmtlci5iaW5kUG9wdXAocm93WzJdKTsKICAgICAgICAgICAgICAgICAgICAgIHJldHVybiBtYXJrZXI7CiAgICAgICAgICAgIH07CiAgICAgICAgICAgIChmdW5jdGlvbigpewogICAgICAgICAgICAgICAgdmFyIGRhdGEgPSBbWzUyLjUsIC0xLjAsICdDb25zdW1lciAwIGF0IG5vZGU9MSwgYXZnIGRlbWFuZD0xIChkZW1hbmRfR0IpJ10sIFs1MS4wLCA5LjAsICdDb25zdW1lciAxIGF0IG5vZGU9MiwgYXZnIGRlbWFuZD0xIChkZW1hbmRfREUpJ10sIFs2MC41LCAxMS4wLCAnQ29uc3VtZXIgMiBhdCBub2RlPTMsIGF2ZyBkZW1hbmQ9MSAoZGVtYW5kX05PKSddXTsKICAgICAgICAgICAgICAgIC8vdmFyIG1hcCA9IGZlYXR1cmVfZ3JvdXBfMTlkZTY4MzRiOTVhNGU5YzlkYzdlMzlhMzllNzM2ZTM7CiAgICAgICAgICAgICAgICB2YXIgYWRkdG8gPSBmZWF0dXJlX2dyb3VwXzE5ZGU2ODM0Yjk1YTRlOWM5ZGM3ZTM5YTM5ZTczNmUzOwogICAgICAgICAgICAgICAgdmFyIGNvbG91ciA9ICdibHVlJzsKICAgICAgICAgICAgICAgIGZvciAodmFyIGkgPSAwOyBpIDwgZGF0YS5sZW5ndGg7IGkrKykgewogICAgICAgICAgICAgICAgICAgIHZhciByb3cgPSBkYXRhW2ldOwogICAgICAgICAgICAgICAgICAgIHZhciBmZWF0dXJlID0gY2FsbGJhY2syNjkocm93LGNvbG91cik7CiAgICAgICAgICAgICAgICAgICAgZmVhdHVyZS5hZGRUbyhhZGR0byk7CiAgICAgICAgICAgICAgICB9OwogICAgICAgICAgICB9KSgpOwogICAgICAgICAgICAKICAgIAogICAgICAgICAgICB2YXIgZmVhdHVyZV9ncm91cF83OTJiNGY1NDMwMTk0OWJlYTAwYzQzYjkwNDQ3YzFiNSA9IEwuZmVhdHVyZUdyb3VwKAogICAgICAgICAgICAgICAge30KICAgICAgICAgICAgKS5hZGRUbyhtYXBfMGZiYmU1MjUwNWEyNDg3YjhlZWU3ZjIxNzRkNDBhOWQpOwogICAgICAgIAogICAgCiAgICAgICAgICAgIHZhciBtYXJrZXJfY2x1c3Rlcl82OTc3NWJlODExZDQ0Zjk1OGRjYzRkYTdmMGRhNTc1MSA9IEwubWFya2VyQ2x1c3Rlckdyb3VwKAogICAgICAgICAgICAgICAge30KICAgICAgICAgICAgKTsKICAgICAgICAgICAgbWFya2VyX2NsdXN0ZXJfNjk3NzViZTgxMWQ0NGY5NThkY2M0ZGE3ZjBkYTU3NTEub3B0aW9ucy5pY29uQ3JlYXRlRnVuY3Rpb24gPQogICAgICAgICAgICAgICAgZnVuY3Rpb24oY2x1c3RlcikgewogICAgICAgIHJldHVybiBMLmRpdkljb24oewogICAgICAgIGh0bWw6ICc8Yj4nICsgY2x1c3Rlci5nZXRDaGlsZENvdW50KCkgKyAnPC9iPicsCiAgICAgICAgY2xhc3NOYW1lOiAnbWFya2VyLWNsdXN0ZXIgbWFya2VyLWNsdXN0ZXItbGFyZ2UnLAogICAgICAgIGljb25TaXplOiBuZXcgTC5Qb2ludCgyMCwgMjApCiAgICAgICAgfSk7CiAgICB9OwogICAgICAgICAgICBmZWF0dXJlX2dyb3VwXzc5MmI0ZjU0MzAxOTQ5YmVhMDBjNDNiOTA0NDdjMWI1LmFkZExheWVyKG1hcmtlcl9jbHVzdGVyXzY5Nzc1YmU4MTFkNDRmOTU4ZGNjNGRhN2YwZGE1NzUxKTsKICAgICAgICAKICAgIAogICAgICAgICAgICB2YXIgY2FsbGJhY2syNzAgPSBmdW5jdGlvbiAocm93LGNvbG91cikgewogICAgICAgICAgICAgICBpZiAoY29sb3VyPT0nJykgewogICAgICAgICAgICAgICAgICAgY29sb3VyPXJvd1szXQogICAgICAgICAgICAgICB9CiAgICAgICAgICAgICAgIHZhciBtYXJrZXIgPSBMLmNpcmNsZU1hcmtlcihuZXcgTC5MYXRMbmcocm93WzBdLHJvd1sxXSksCiAgICAgICAgICAgICAgICAgICAgICAgICAgICAgICAgICAgICAgICAgICB7InJhZGl1cyI6MywKICAgICAgICAgICAgICAgICAgICAgICAgICAgICAgICAgICAgICAgICAgICAiY29sb3IiOmNvbG91cn0gKTsKICAgICAgICAgICAgICAgICAgICAgIG1hcmtlci5iaW5kUG9wdXAocm93WzJdKTsKICAgICAgICAgICAgICAgICAgICAgIHJldHVybiBtYXJrZXI7CiAgICAgICAgICAgIH07CiAgICAgICAgICAgIChmdW5jdGlvbigpewogICAgICAgICAgICAgICAgdmFyIGRhdGEgPSBbWzUyLjUsIC0xLjAsICdhbHQ8YnI+R2VuZXJhdG9yIDA6IFVLLCBwbWF4PTEwMDAwMCcsICcjNGRhZjRhJ11dOwogICAgICAgICAgICAgICAgLy92YXIgbWFwID0gbWFya2VyX2NsdXN0ZXJfNjk3NzViZTgxMWQ0NGY5NThkY2M0ZGE3ZjBkYTU3NTE7CiAgICAgICAgICAgICAgICB2YXIgYWRkdG8gPSBtYXJrZXJfY2x1c3Rlcl82OTc3NWJlODExZDQ0Zjk1OGRjYzRkYTdmMGRhNTc1MTsKICAgICAgICAgICAgICAgIHZhciBjb2xvdXIgPSAnJzsKICAgICAgICAgICAgICAgIGZvciAodmFyIGkgPSAwOyBpIDwgZGF0YS5sZW5ndGg7IGkrKykgewogICAgICAgICAgICAgICAgICAgIHZhciByb3cgPSBkYXRhW2ldOwogICAgICAgICAgICAgICAgICAgIHZhciBmZWF0dXJlID0gY2FsbGJhY2syNzAocm93LGNvbG91cik7CiAgICAgICAgICAgICAgICAgICAgZmVhdHVyZS5hZGRUbyhhZGR0byk7CiAgICAgICAgICAgICAgICB9OwogICAgICAgICAgICB9KSgpOwogICAgICAgICAgICAKICAgIAogICAgICAgICAgICB2YXIgbWFya2VyX2NsdXN0ZXJfN2NhMDMwYmIwMzQ3NDJlZDk2OWM5MTE4ZjhmYWQ2ZDcgPSBMLm1hcmtlckNsdXN0ZXJHcm91cCgKICAgICAgICAgICAgICAgIHt9CiAgICAgICAgICAgICk7CiAgICAgICAgICAgIG1hcmtlcl9jbHVzdGVyXzdjYTAzMGJiMDM0NzQyZWQ5NjljOTExOGY4ZmFkNmQ3Lm9wdGlvbnMuaWNvbkNyZWF0ZUZ1bmN0aW9uID0KICAgICAgICAgICAgICAgIGZ1bmN0aW9uKGNsdXN0ZXIpIHsKICAgICAgICByZXR1cm4gTC5kaXZJY29uKHsKICAgICAgICBodG1sOiAnPGI+JyArIGNsdXN0ZXIuZ2V0Q2hpbGRDb3VudCgpICsgJzwvYj4nLAogICAgICAgIGNsYXNzTmFtZTogJ21hcmtlci1jbHVzdGVyIG1hcmtlci1jbHVzdGVyLWxhcmdlJywKICAgICAgICBpY29uU2l6ZTogbmV3IEwuUG9pbnQoMjAsIDIwKQogICAgICAgIH0pOwogICAgfTsKICAgICAgICAgICAgZmVhdHVyZV9ncm91cF83OTJiNGY1NDMwMTk0OWJlYTAwYzQzYjkwNDQ3YzFiNS5hZGRMYXllcihtYXJrZXJfY2x1c3Rlcl83Y2EwMzBiYjAzNDc0MmVkOTY5YzkxMThmOGZhZDZkNyk7CiAgICAgICAgCiAgICAKICAgICAgICAgICAgdmFyIGNhbGxiYWNrMjcxID0gZnVuY3Rpb24gKHJvdyxjb2xvdXIpIHsKICAgICAgICAgICAgICAgaWYgKGNvbG91cj09JycpIHsKICAgICAgICAgICAgICAgICAgIGNvbG91cj1yb3dbM10KICAgICAgICAgICAgICAgfQogICAgICAgICAgICAgICB2YXIgbWFya2VyID0gTC5jaXJjbGVNYXJrZXIobmV3IEwuTGF0TG5nKHJvd1swXSxyb3dbMV0pLAogICAgICAgICAgICAgICAgICAgICAgICAgICAgICAgICAgICAgICAgICAgeyJyYWRpdXMiOjMsCiAgICAgICAgICAgICAgICAgICAgICAgICAgICAgICAgICAgICAgICAgICAgImNvbG9yIjpjb2xvdXJ9ICk7CiAgICAgICAgICAgICAgICAgICAgICBtYXJrZXIuYmluZFBvcHVwKHJvd1syXSk7CiAgICAgICAgICAgICAgICAgICAgICByZXR1cm4gbWFya2VyOwogICAgICAgICAgICB9OwogICAgICAgICAgICAoZnVuY3Rpb24oKXsKICAgICAgICAgICAgICAgIHZhciBkYXRhID0gW1s1MS4wLCA5LjAsICdhbHQ8YnI+R2VuZXJhdG9yIDE6IERFLCBwbWF4PTEwMDAwMCcsICcjNGRhZjRhJ11dOwogICAgICAgICAgICAgICAgLy92YXIgbWFwID0gbWFya2VyX2NsdXN0ZXJfN2NhMDMwYmIwMzQ3NDJlZDk2OWM5MTE4ZjhmYWQ2ZDc7CiAgICAgICAgICAgICAgICB2YXIgYWRkdG8gPSBtYXJrZXJfY2x1c3Rlcl83Y2EwMzBiYjAzNDc0MmVkOTY5YzkxMThmOGZhZDZkNzsKICAgICAgICAgICAgICAgIHZhciBjb2xvdXIgPSAnJzsKICAgICAgICAgICAgICAgIGZvciAodmFyIGkgPSAwOyBpIDwgZGF0YS5sZW5ndGg7IGkrKykgewogICAgICAgICAgICAgICAgICAgIHZhciByb3cgPSBkYXRhW2ldOwogICAgICAgICAgICAgICAgICAgIHZhciBmZWF0dXJlID0gY2FsbGJhY2syNzEocm93LGNvbG91cik7CiAgICAgICAgICAgICAgICAgICAgZmVhdHVyZS5hZGRUbyhhZGR0byk7CiAgICAgICAgICAgICAgICB9OwogICAgICAgICAgICB9KSgpOwogICAgICAgICAgICAKICAgIAogICAgICAgICAgICB2YXIgbWFya2VyX2NsdXN0ZXJfNGEyNDk3NTE2NzZlNGI5YmI2OWRiYjI1YzYzOWY5YjMgPSBMLm1hcmtlckNsdXN0ZXJHcm91cCgKICAgICAgICAgICAgICAgIHt9CiAgICAgICAgICAgICk7CiAgICAgICAgICAgIG1hcmtlcl9jbHVzdGVyXzRhMjQ5NzUxNjc2ZTRiOWJiNjlkYmIyNWM2MzlmOWIzLm9wdGlvbnMuaWNvbkNyZWF0ZUZ1bmN0aW9uID0KICAgICAgICAgICAgICAgIGZ1bmN0aW9uKGNsdXN0ZXIpIHsKICAgICAgICByZXR1cm4gTC5kaXZJY29uKHsKICAgICAgICBodG1sOiAnPGI+JyArIGNsdXN0ZXIuZ2V0Q2hpbGRDb3VudCgpICsgJzwvYj4nLAogICAgICAgIGNsYXNzTmFtZTogJ21hcmtlci1jbHVzdGVyIG1hcmtlci1jbHVzdGVyLWxhcmdlJywKICAgICAgICBpY29uU2l6ZTogbmV3IEwuUG9pbnQoMjAsIDIwKQogICAgICAgIH0pOwogICAgfTsKICAgICAgICAgICAgZmVhdHVyZV9ncm91cF83OTJiNGY1NDMwMTk0OWJlYTAwYzQzYjkwNDQ3YzFiNS5hZGRMYXllcihtYXJrZXJfY2x1c3Rlcl80YTI0OTc1MTY3NmU0YjliYjY5ZGJiMjVjNjM5ZjliMyk7CiAgICAgICAgCiAgICAKICAgICAgICAgICAgdmFyIGNhbGxiYWNrMjcyID0gZnVuY3Rpb24gKHJvdyxjb2xvdXIpIHsKICAgICAgICAgICAgICAgaWYgKGNvbG91cj09JycpIHsKICAgICAgICAgICAgICAgICAgIGNvbG91cj1yb3dbM10KICAgICAgICAgICAgICAgfQogICAgICAgICAgICAgICB2YXIgbWFya2VyID0gTC5jaXJjbGVNYXJrZXIobmV3IEwuTGF0TG5nKHJvd1swXSxyb3dbMV0pLAogICAgICAgICAgICAgICAgICAgICAgICAgICAgICAgICAgICAgICAgICAgeyJyYWRpdXMiOjMsCiAgICAgICAgICAgICAgICAgICAgICAgICAgICAgICAgICAgICAgICAgICAgImNvbG9yIjpjb2xvdXJ9ICk7CiAgICAgICAgICAgICAgICAgICAgICBtYXJrZXIuYmluZFBvcHVwKHJvd1syXSk7CiAgICAgICAgICAgICAgICAgICAgICByZXR1cm4gbWFya2VyOwogICAgICAgICAgICB9OwogICAgICAgICAgICAoZnVuY3Rpb24oKXsKICAgICAgICAgICAgICAgIHZhciBkYXRhID0gW1s2MC41LCAxMS4wLCAnYWx0PGJyPkdlbmVyYXRvciAyOiBOTywgcG1heD0xMDAwMDAnLCAnIzRkYWY0YSddXTsKICAgICAgICAgICAgICAgIC8vdmFyIG1hcCA9IG1hcmtlcl9jbHVzdGVyXzRhMjQ5NzUxNjc2ZTRiOWJiNjlkYmIyNWM2MzlmOWIzOwogICAgICAgICAgICAgICAgdmFyIGFkZHRvID0gbWFya2VyX2NsdXN0ZXJfNGEyNDk3NTE2NzZlNGI5YmI2OWRiYjI1YzYzOWY5YjM7CiAgICAgICAgICAgICAgICB2YXIgY29sb3VyID0gJyc7CiAgICAgICAgICAgICAgICBmb3IgKHZhciBpID0gMDsgaSA8IGRhdGEubGVuZ3RoOyBpKyspIHsKICAgICAgICAgICAgICAgICAgICB2YXIgcm93ID0gZGF0YVtpXTsKICAgICAgICAgICAgICAgICAgICB2YXIgZmVhdHVyZSA9IGNhbGxiYWNrMjcyKHJvdyxjb2xvdXIpOwogICAgICAgICAgICAgICAgICAgIGZlYXR1cmUuYWRkVG8oYWRkdG8pOwogICAgICAgICAgICAgICAgfTsKICAgICAgICAgICAgfSkoKTsKICAgICAgICAgICAgCiAgICAKICAgICAgICAgICAgdmFyIG1hcmtlcl9jbHVzdGVyX2YzZmIwMTcxMGRiMTQ0NGNhOGZhMTRlZWI3N2I1YjM4ID0gTC5tYXJrZXJDbHVzdGVyR3JvdXAoCiAgICAgICAgICAgICAgICB7fQogICAgICAgICAgICApOwogICAgICAgICAgICBtYXJrZXJfY2x1c3Rlcl9mM2ZiMDE3MTBkYjE0NDRjYThmYTE0ZWViNzdiNWIzOC5vcHRpb25zLmljb25DcmVhdGVGdW5jdGlvbiA9CiAgICAgICAgICAgICAgICBmdW5jdGlvbihjbHVzdGVyKSB7CiAgICAgICAgcmV0dXJuIEwuZGl2SWNvbih7CiAgICAgICAgaHRtbDogJzxiPicgKyBjbHVzdGVyLmdldENoaWxkQ291bnQoKSArICc8L2I+JywKICAgICAgICBjbGFzc05hbWU6ICdtYXJrZXItY2x1c3RlciBtYXJrZXItY2x1c3Rlci1sYXJnZScsCiAgICAgICAgaWNvblNpemU6IG5ldyBMLlBvaW50KDIwLCAyMCkKICAgICAgICB9KTsKICAgIH07CiAgICAgICAgICAgIGZlYXR1cmVfZ3JvdXBfNzkyYjRmNTQzMDE5NDliZWEwMGM0M2I5MDQ0N2MxYjUuYWRkTGF5ZXIobWFya2VyX2NsdXN0ZXJfZjNmYjAxNzEwZGIxNDQ0Y2E4ZmExNGVlYjc3YjViMzgpOwogICAgICAgIAogICAgCiAgICAgICAgICAgIHZhciBjYWxsYmFjazI3MyA9IGZ1bmN0aW9uIChyb3csY29sb3VyKSB7CiAgICAgICAgICAgICAgIGlmIChjb2xvdXI9PScnKSB7CiAgICAgICAgICAgICAgICAgICBjb2xvdXI9cm93WzNdCiAgICAgICAgICAgICAgIH0KICAgICAgICAgICAgICAgdmFyIG1hcmtlciA9IEwuY2lyY2xlTWFya2VyKG5ldyBMLkxhdExuZyhyb3dbMF0scm93WzFdKSwKICAgICAgICAgICAgICAgICAgICAgICAgICAgICAgICAgICAgICAgICAgIHsicmFkaXVzIjozLAogICAgICAgICAgICAgICAgICAgICAgICAgICAgICAgICAgICAgICAgICAgICJjb2xvciI6Y29sb3VyfSApOwogICAgICAgICAgICAgICAgICAgICAgbWFya2VyLmJpbmRQb3B1cChyb3dbMl0pOwogICAgICAgICAgICAgICAgICAgICAgcmV0dXJuIG1hcmtlcjsKICAgICAgICAgICAgfTsKICAgICAgICAgICAgKGZ1bmN0aW9uKCl7CiAgICAgICAgICAgICAgICB2YXIgZGF0YSA9IFtbNTUuMDc1NTUxLCAyLjc2OTkwNywgJ3dpbmQ8YnI+R2VuZXJhdG9yIDc6IFRlZXNpZGUgQiwgcG1heD0xMjAwJywgJyNlNDFhMWMnXV07CiAgICAgICAgICAgICAgICAvL3ZhciBtYXAgPSBtYXJrZXJfY2x1c3Rlcl9mM2ZiMDE3MTBkYjE0NDRjYThmYTE0ZWViNzdiNWIzODsKICAgICAgICAgICAgICAgIHZhciBhZGR0byA9IG1hcmtlcl9jbHVzdGVyX2YzZmIwMTcxMGRiMTQ0NGNhOGZhMTRlZWI3N2I1YjM4OwogICAgICAgICAgICAgICAgdmFyIGNvbG91ciA9ICcnOwogICAgICAgICAgICAgICAgZm9yICh2YXIgaSA9IDA7IGkgPCBkYXRhLmxlbmd0aDsgaSsrKSB7CiAgICAgICAgICAgICAgICAgICAgdmFyIHJvdyA9IGRhdGFbaV07CiAgICAgICAgICAgICAgICAgICAgdmFyIGZlYXR1cmUgPSBjYWxsYmFjazI3Myhyb3csY29sb3VyKTsKICAgICAgICAgICAgICAgICAgICBmZWF0dXJlLmFkZFRvKGFkZHRvKTsKICAgICAgICAgICAgICAgIH07CiAgICAgICAgICAgIH0pKCk7CiAgICAgICAgICAgIAogICAgCiAgICAgICAgICAgIHZhciBtYXJrZXJfY2x1c3Rlcl84ZTFkNjBlYWZmODU0YTA2YmViNzg5ODIyZjk3MjJhYSA9IEwubWFya2VyQ2x1c3Rlckdyb3VwKAogICAgICAgICAgICAgICAge30KICAgICAgICAgICAgKTsKICAgICAgICAgICAgbWFya2VyX2NsdXN0ZXJfOGUxZDYwZWFmZjg1NGEwNmJlYjc4OTgyMmY5NzIyYWEub3B0aW9ucy5pY29uQ3JlYXRlRnVuY3Rpb24gPQogICAgICAgICAgICAgICAgZnVuY3Rpb24oY2x1c3RlcikgewogICAgICAgIHJldHVybiBMLmRpdkljb24oewogICAgICAgIGh0bWw6ICc8Yj4nICsgY2x1c3Rlci5nZXRDaGlsZENvdW50KCkgKyAnPC9iPicsCiAgICAgICAgY2xhc3NOYW1lOiAnbWFya2VyLWNsdXN0ZXIgbWFya2VyLWNsdXN0ZXItbGFyZ2UnLAogICAgICAgIGljb25TaXplOiBuZXcgTC5Qb2ludCgyMCwgMjApCiAgICAgICAgfSk7CiAgICB9OwogICAgICAgICAgICBmZWF0dXJlX2dyb3VwXzc5MmI0ZjU0MzAxOTQ5YmVhMDBjNDNiOTA0NDdjMWI1LmFkZExheWVyKG1hcmtlcl9jbHVzdGVyXzhlMWQ2MGVhZmY4NTRhMDZiZWI3ODk4MjJmOTcyMmFhKTsKICAgICAgICAKICAgIAogICAgICAgICAgICB2YXIgY2FsbGJhY2syNzQgPSBmdW5jdGlvbiAocm93LGNvbG91cikgewogICAgICAgICAgICAgICBpZiAoY29sb3VyPT0nJykgewogICAgICAgICAgICAgICAgICAgY29sb3VyPXJvd1szXQogICAgICAgICAgICAgICB9CiAgICAgICAgICAgICAgIHZhciBtYXJrZXIgPSBMLmNpcmNsZU1hcmtlcihuZXcgTC5MYXRMbmcocm93WzBdLHJvd1sxXSksCiAgICAgICAgICAgICAgICAgICAgICAgICAgICAgICAgICAgICAgICAgICB7InJhZGl1cyI6MywKICAgICAgICAgICAgICAgICAgICAgICAgICAgICAgICAgICAgICAgICAgICAiY29sb3IiOmNvbG91cn0gKTsKICAgICAgICAgICAgICAgICAgICAgIG1hcmtlci5iaW5kUG9wdXAocm93WzJdKTsKICAgICAgICAgICAgICAgICAgICAgIHJldHVybiBtYXJrZXI7CiAgICAgICAgICAgIH07CiAgICAgICAgICAgIChmdW5jdGlvbigpewogICAgICAgICAgICAgICAgdmFyIGRhdGEgPSBbWzU1LjI3NTE4NDk5OTk5OTk5LCAxLjc2OTU4NSwgJ3dpbmQ8YnI+R2VuZXJhdG9yIDg6IFRlZXNpZGUgQywgcG1heD0xMjAwJywgJyNlNDFhMWMnXV07CiAgICAgICAgICAgICAgICAvL3ZhciBtYXAgPSBtYXJrZXJfY2x1c3Rlcl84ZTFkNjBlYWZmODU0YTA2YmViNzg5ODIyZjk3MjJhYTsKICAgICAgICAgICAgICAgIHZhciBhZGR0byA9IG1hcmtlcl9jbHVzdGVyXzhlMWQ2MGVhZmY4NTRhMDZiZWI3ODk4MjJmOTcyMmFhOwogICAgICAgICAgICAgICAgdmFyIGNvbG91ciA9ICcnOwogICAgICAgICAgICAgICAgZm9yICh2YXIgaSA9IDA7IGkgPCBkYXRhLmxlbmd0aDsgaSsrKSB7CiAgICAgICAgICAgICAgICAgICAgdmFyIHJvdyA9IGRhdGFbaV07CiAgICAgICAgICAgICAgICAgICAgdmFyIGZlYXR1cmUgPSBjYWxsYmFjazI3NChyb3csY29sb3VyKTsKICAgICAgICAgICAgICAgICAgICBmZWF0dXJlLmFkZFRvKGFkZHRvKTsKICAgICAgICAgICAgICAgIH07CiAgICAgICAgICAgIH0pKCk7CiAgICAgICAgICAgIAogICAgCiAgICAgICAgICAgIHZhciBtYXJrZXJfY2x1c3Rlcl8xOTc1YmUzNTc0NTM0Y2Y3YWNhNjE1MjJiMmU2ODg3NiA9IEwubWFya2VyQ2x1c3Rlckdyb3VwKAogICAgICAgICAgICAgICAge30KICAgICAgICAgICAgKTsKICAgICAgICAgICAgbWFya2VyX2NsdXN0ZXJfMTk3NWJlMzU3NDUzNGNmN2FjYTYxNTIyYjJlNjg4NzYub3B0aW9ucy5pY29uQ3JlYXRlRnVuY3Rpb24gPQogICAgICAgICAgICAgICAgZnVuY3Rpb24oY2x1c3RlcikgewogICAgICAgIHJldHVybiBMLmRpdkljb24oewogICAgICAgIGh0bWw6ICc8Yj4nICsgY2x1c3Rlci5nZXRDaGlsZENvdW50KCkgKyAnPC9iPicsCiAgICAgICAgY2xhc3NOYW1lOiAnbWFya2VyLWNsdXN0ZXIgbWFya2VyLWNsdXN0ZXItbGFyZ2UnLAogICAgICAgIGljb25TaXplOiBuZXcgTC5Qb2ludCgyMCwgMjApCiAgICAgICAgfSk7CiAgICB9OwogICAgICAgICAgICBmZWF0dXJlX2dyb3VwXzc5MmI0ZjU0MzAxOTQ5YmVhMDBjNDNiOTA0NDdjMWI1LmFkZExheWVyKG1hcmtlcl9jbHVzdGVyXzE5NzViZTM1NzQ1MzRjZjdhY2E2MTUyMmIyZTY4ODc2KTsKICAgICAgICAKICAgIAogICAgICAgICAgICB2YXIgY2FsbGJhY2syNzUgPSBmdW5jdGlvbiAocm93LGNvbG91cikgewogICAgICAgICAgICAgICBpZiAoY29sb3VyPT0nJykgewogICAgICAgICAgICAgICAgICAgY29sb3VyPXJvd1szXQogICAgICAgICAgICAgICB9CiAgICAgICAgICAgICAgIHZhciBtYXJrZXIgPSBMLmNpcmNsZU1hcmtlcihuZXcgTC5MYXRMbmcocm93WzBdLHJvd1sxXSksCiAgICAgICAgICAgICAgICAgICAgICAgICAgICAgICAgICAgICAgICAgICB7InJhZGl1cyI6MywKICAgICAgICAgICAgICAgICAgICAgICAgICAgICAgICAgICAgICAgICAgICAiY29sb3IiOmNvbG91cn0gKTsKICAgICAgICAgICAgICAgICAgICAgIG1hcmtlci5iaW5kUG9wdXAocm93WzJdKTsKICAgICAgICAgICAgICAgICAgICAgIHJldHVybiBtYXJrZXI7CiAgICAgICAgICAgIH07CiAgICAgICAgICAgIChmdW5jdGlvbigpewogICAgICAgICAgICAgICAgdmFyIGRhdGEgPSBbWzU1LjMzMjk3NSwgMi4zNjM2NjE5OTk5OTk5OTk3LCAnd2luZDxicj5HZW5lcmF0b3IgOTogVGVlc2lkZSBELCBwbWF4PTYwMCcsICcjZTQxYTFjJ11dOwogICAgICAgICAgICAgICAgLy92YXIgbWFwID0gbWFya2VyX2NsdXN0ZXJfMTk3NWJlMzU3NDUzNGNmN2FjYTYxNTIyYjJlNjg4NzY7CiAgICAgICAgICAgICAgICB2YXIgYWRkdG8gPSBtYXJrZXJfY2x1c3Rlcl8xOTc1YmUzNTc0NTM0Y2Y3YWNhNjE1MjJiMmU2ODg3NjsKICAgICAgICAgICAgICAgIHZhciBjb2xvdXIgPSAnJzsKICAgICAgICAgICAgICAgIGZvciAodmFyIGkgPSAwOyBpIDwgZGF0YS5sZW5ndGg7IGkrKykgewogICAgICAgICAgICAgICAgICAgIHZhciByb3cgPSBkYXRhW2ldOwogICAgICAgICAgICAgICAgICAgIHZhciBmZWF0dXJlID0gY2FsbGJhY2syNzUocm93LGNvbG91cik7CiAgICAgICAgICAgICAgICAgICAgZmVhdHVyZS5hZGRUbyhhZGR0byk7CiAgICAgICAgICAgICAgICB9OwogICAgICAgICAgICB9KSgpOwogICAgICAgICAgICAKICAgIAogICAgICAgICAgICB2YXIgbWFya2VyX2NsdXN0ZXJfZWNmNGE5NDU4ZjcwNDdhYjlhNDVlMDljNzlkMWM2MGQgPSBMLm1hcmtlckNsdXN0ZXJHcm91cCgKICAgICAgICAgICAgICAgIHt9CiAgICAgICAgICAgICk7CiAgICAgICAgICAgIG1hcmtlcl9jbHVzdGVyX2VjZjRhOTQ1OGY3MDQ3YWI5YTQ1ZTA5Yzc5ZDFjNjBkLm9wdGlvbnMuaWNvbkNyZWF0ZUZ1bmN0aW9uID0KICAgICAgICAgICAgICAgIGZ1bmN0aW9uKGNsdXN0ZXIpIHsKICAgICAgICByZXR1cm4gTC5kaXZJY29uKHsKICAgICAgICBodG1sOiAnPGI+JyArIGNsdXN0ZXIuZ2V0Q2hpbGRDb3VudCgpICsgJzwvYj4nLAogICAgICAgIGNsYXNzTmFtZTogJ21hcmtlci1jbHVzdGVyIG1hcmtlci1jbHVzdGVyLWxhcmdlJywKICAgICAgICBpY29uU2l6ZTogbmV3IEwuUG9pbnQoMjAsIDIwKQogICAgICAgIH0pOwogICAgfTsKICAgICAgICAgICAgZmVhdHVyZV9ncm91cF83OTJiNGY1NDMwMTk0OWJlYTAwYzQzYjkwNDQ3YzFiNS5hZGRMYXllcihtYXJrZXJfY2x1c3Rlcl9lY2Y0YTk0NThmNzA0N2FiOWE0NWUwOWM3OWQxYzYwZCk7CiAgICAgICAgCiAgICAKICAgICAgICAgICAgdmFyIGNhbGxiYWNrMjc2ID0gZnVuY3Rpb24gKHJvdyxjb2xvdXIpIHsKICAgICAgICAgICAgICAgaWYgKGNvbG91cj09JycpIHsKICAgICAgICAgICAgICAgICAgIGNvbG91cj1yb3dbM10KICAgICAgICAgICAgICAgfQogICAgICAgICAgICAgICB2YXIgbWFya2VyID0gTC5jaXJjbGVNYXJrZXIobmV3IEwuTGF0TG5nKHJvd1swXSxyb3dbMV0pLAogICAgICAgICAgICAgICAgICAgICAgICAgICAgICAgICAgICAgICAgICAgeyJyYWRpdXMiOjMsCiAgICAgICAgICAgICAgICAgICAgICAgICAgICAgICAgICAgICAgICAgICAgImNvbG9yIjpjb2xvdXJ9ICk7CiAgICAgICAgICAgICAgICAgICAgICBtYXJrZXIuYmluZFBvcHVwKHJvd1syXSk7CiAgICAgICAgICAgICAgICAgICAgICByZXR1cm4gbWFya2VyOwogICAgICAgICAgICB9OwogICAgICAgICAgICAoZnVuY3Rpb24oKXsKICAgICAgICAgICAgICAgIHZhciBkYXRhID0gW1s1NS4wNTk2MTE0OCwgMS42NTY5ODYwMTcsICd3aW5kPGJyPkdlbmVyYXRvciA0OiBDcmV5a2UgQmVjayBCIDM0LCBwbWF4PTYwMCcsICcjZTQxYTFjJ11dOwogICAgICAgICAgICAgICAgLy92YXIgbWFwID0gbWFya2VyX2NsdXN0ZXJfZWNmNGE5NDU4ZjcwNDdhYjlhNDVlMDljNzlkMWM2MGQ7CiAgICAgICAgICAgICAgICB2YXIgYWRkdG8gPSBtYXJrZXJfY2x1c3Rlcl9lY2Y0YTk0NThmNzA0N2FiOWE0NWUwOWM3OWQxYzYwZDsKICAgICAgICAgICAgICAgIHZhciBjb2xvdXIgPSAnJzsKICAgICAgICAgICAgICAgIGZvciAodmFyIGkgPSAwOyBpIDwgZGF0YS5sZW5ndGg7IGkrKykgewogICAgICAgICAgICAgICAgICAgIHZhciByb3cgPSBkYXRhW2ldOwogICAgICAgICAgICAgICAgICAgIHZhciBmZWF0dXJlID0gY2FsbGJhY2syNzYocm93LGNvbG91cik7CiAgICAgICAgICAgICAgICAgICAgZmVhdHVyZS5hZGRUbyhhZGR0byk7CiAgICAgICAgICAgICAgICB9OwogICAgICAgICAgICB9KSgpOwogICAgICAgICAgICAKICAgIAogICAgICAgICAgICB2YXIgbWFya2VyX2NsdXN0ZXJfMmE0NjAxOTM2MzU0NGE4ZTgzMTVkNGU2ZmIwNjc5NTcgPSBMLm1hcmtlckNsdXN0ZXJHcm91cCgKICAgICAgICAgICAgICAgIHt9CiAgICAgICAgICAgICk7CiAgICAgICAgICAgIG1hcmtlcl9jbHVzdGVyXzJhNDYwMTkzNjM1NDRhOGU4MzE1ZDRlNmZiMDY3OTU3Lm9wdGlvbnMuaWNvbkNyZWF0ZUZ1bmN0aW9uID0KICAgICAgICAgICAgICAgIGZ1bmN0aW9uKGNsdXN0ZXIpIHsKICAgICAgICByZXR1cm4gTC5kaXZJY29uKHsKICAgICAgICBodG1sOiAnPGI+JyArIGNsdXN0ZXIuZ2V0Q2hpbGRDb3VudCgpICsgJzwvYj4nLAogICAgICAgIGNsYXNzTmFtZTogJ21hcmtlci1jbHVzdGVyIG1hcmtlci1jbHVzdGVyLWxhcmdlJywKICAgICAgICBpY29uU2l6ZTogbmV3IEwuUG9pbnQoMjAsIDIwKQogICAgICAgIH0pOwogICAgfTsKICAgICAgICAgICAgZmVhdHVyZV9ncm91cF83OTJiNGY1NDMwMTk0OWJlYTAwYzQzYjkwNDQ3YzFiNS5hZGRMYXllcihtYXJrZXJfY2x1c3Rlcl8yYTQ2MDE5MzYzNTQ0YThlODMxNWQ0ZTZmYjA2Nzk1Nyk7CiAgICAgICAgCiAgICAKICAgICAgICAgICAgdmFyIGNhbGxiYWNrMjc3ID0gZnVuY3Rpb24gKHJvdyxjb2xvdXIpIHsKICAgICAgICAgICAgICAgaWYgKGNvbG91cj09JycpIHsKICAgICAgICAgICAgICAgICAgIGNvbG91cj1yb3dbM10KICAgICAgICAgICAgICAgfQogICAgICAgICAgICAgICB2YXIgbWFya2VyID0gTC5jaXJjbGVNYXJrZXIobmV3IEwuTGF0TG5nKHJvd1swXSxyb3dbMV0pLAogICAgICAgICAgICAgICAgICAgICAgICAgICAgICAgICAgICAgICAgICAgeyJyYWRpdXMiOjMsCiAgICAgICAgICAgICAgICAgICAgICAgICAgICAgICAgICAgICAgICAgICAgImNvbG9yIjpjb2xvdXJ9ICk7CiAgICAgICAgICAgICAgICAgICAgICBtYXJrZXIuYmluZFBvcHVwKHJvd1syXSk7CiAgICAgICAgICAgICAgICAgICAgICByZXR1cm4gbWFya2VyOwogICAgICAgICAgICB9OwogICAgICAgICAgICAoZnVuY3Rpb24oKXsKICAgICAgICAgICAgICAgIHZhciBkYXRhID0gW1s1NS4wMzY3NzQ0NCwgMi4xOTU3NzQzOTUsICd3aW5kPGJyPkdlbmVyYXRvciA2OiBUZWVzaWRlIEEsIHBtYXg9MTIwMCcsICcjZTQxYTFjJ11dOwogICAgICAgICAgICAgICAgLy92YXIgbWFwID0gbWFya2VyX2NsdXN0ZXJfMmE0NjAxOTM2MzU0NGE4ZTgzMTVkNGU2ZmIwNjc5NTc7CiAgICAgICAgICAgICAgICB2YXIgYWRkdG8gPSBtYXJrZXJfY2x1c3Rlcl8yYTQ2MDE5MzYzNTQ0YThlODMxNWQ0ZTZmYjA2Nzk1NzsKICAgICAgICAgICAgICAgIHZhciBjb2xvdXIgPSAnJzsKICAgICAgICAgICAgICAgIGZvciAodmFyIGkgPSAwOyBpIDwgZGF0YS5sZW5ndGg7IGkrKykgewogICAgICAgICAgICAgICAgICAgIHZhciByb3cgPSBkYXRhW2ldOwogICAgICAgICAgICAgICAgICAgIHZhciBmZWF0dXJlID0gY2FsbGJhY2syNzcocm93LGNvbG91cik7CiAgICAgICAgICAgICAgICAgICAgZmVhdHVyZS5hZGRUbyhhZGR0byk7CiAgICAgICAgICAgICAgICB9OwogICAgICAgICAgICB9KSgpOwogICAgICAgICAgICAKICAgIAogICAgICAgICAgICB2YXIgbWFya2VyX2NsdXN0ZXJfN2VkZDA4M2IxMDMzNDhhODgzMDdhMTYxZjYyOTEwNzggPSBMLm1hcmtlckNsdXN0ZXJHcm91cCgKICAgICAgICAgICAgICAgIHt9CiAgICAgICAgICAgICk7CiAgICAgICAgICAgIG1hcmtlcl9jbHVzdGVyXzdlZGQwODNiMTAzMzQ4YTg4MzA3YTE2MWY2MjkxMDc4Lm9wdGlvbnMuaWNvbkNyZWF0ZUZ1bmN0aW9uID0KICAgICAgICAgICAgICAgIGZ1bmN0aW9uKGNsdXN0ZXIpIHsKICAgICAgICByZXR1cm4gTC5kaXZJY29uKHsKICAgICAgICBodG1sOiAnPGI+JyArIGNsdXN0ZXIuZ2V0Q2hpbGRDb3VudCgpICsgJzwvYj4nLAogICAgICAgIGNsYXNzTmFtZTogJ21hcmtlci1jbHVzdGVyIG1hcmtlci1jbHVzdGVyLWxhcmdlJywKICAgICAgICBpY29uU2l6ZTogbmV3IEwuUG9pbnQoMjAsIDIwKQogICAgICAgIH0pOwogICAgfTsKICAgICAgICAgICAgZmVhdHVyZV9ncm91cF83OTJiNGY1NDMwMTk0OWJlYTAwYzQzYjkwNDQ3YzFiNS5hZGRMYXllcihtYXJrZXJfY2x1c3Rlcl83ZWRkMDgzYjEwMzM0OGE4ODMwN2ExNjFmNjI5MTA3OCk7CiAgICAgICAgCiAgICAKICAgICAgICAgICAgdmFyIGNhbGxiYWNrMjc4ID0gZnVuY3Rpb24gKHJvdyxjb2xvdXIpIHsKICAgICAgICAgICAgICAgaWYgKGNvbG91cj09JycpIHsKICAgICAgICAgICAgICAgICAgIGNvbG91cj1yb3dbM10KICAgICAgICAgICAgICAgfQogICAgICAgICAgICAgICB2YXIgbWFya2VyID0gTC5jaXJjbGVNYXJrZXIobmV3IEwuTGF0TG5nKHJvd1swXSxyb3dbMV0pLAogICAgICAgICAgICAgICAgICAgICAgICAgICAgICAgICAgICAgICAgICAgeyJyYWRpdXMiOjMsCiAgICAgICAgICAgICAgICAgICAgICAgICAgICAgICAgICAgICAgICAgICAgImNvbG9yIjpjb2xvdXJ9ICk7CiAgICAgICAgICAgICAgICAgICAgICBtYXJrZXIuYmluZFBvcHVwKHJvd1syXSk7CiAgICAgICAgICAgICAgICAgICAgICByZXR1cm4gbWFya2VyOwogICAgICAgICAgICB9OwogICAgICAgICAgICAoZnVuY3Rpb24oKXsKICAgICAgICAgICAgICAgIHZhciBkYXRhID0gW1s1NC44MTMxODI0OCwgMS44NzU2NDA5MjgwMDAwMDAyLCAnd2luZDxicj5HZW5lcmF0b3IgNTogQ3JleWtlIEJlY2sgQSwgcG1heD0xMjAwJywgJyNlNDFhMWMnXV07CiAgICAgICAgICAgICAgICAvL3ZhciBtYXAgPSBtYXJrZXJfY2x1c3Rlcl83ZWRkMDgzYjEwMzM0OGE4ODMwN2ExNjFmNjI5MTA3ODsKICAgICAgICAgICAgICAgIHZhciBhZGR0byA9IG1hcmtlcl9jbHVzdGVyXzdlZGQwODNiMTAzMzQ4YTg4MzA3YTE2MWY2MjkxMDc4OwogICAgICAgICAgICAgICAgdmFyIGNvbG91ciA9ICcnOwogICAgICAgICAgICAgICAgZm9yICh2YXIgaSA9IDA7IGkgPCBkYXRhLmxlbmd0aDsgaSsrKSB7CiAgICAgICAgICAgICAgICAgICAgdmFyIHJvdyA9IGRhdGFbaV07CiAgICAgICAgICAgICAgICAgICAgdmFyIGZlYXR1cmUgPSBjYWxsYmFjazI3OChyb3csY29sb3VyKTsKICAgICAgICAgICAgICAgICAgICBmZWF0dXJlLmFkZFRvKGFkZHRvKTsKICAgICAgICAgICAgICAgIH07CiAgICAgICAgICAgIH0pKCk7CiAgICAgICAgICAgIAogICAgCiAgICAgICAgICAgIHZhciBtYXJrZXJfY2x1c3Rlcl9kYTU5YWI0ODk4ZTM0OWQ2ODM1MDQyMDIwYTMwMjkzNCA9IEwubWFya2VyQ2x1c3Rlckdyb3VwKAogICAgICAgICAgICAgICAge30KICAgICAgICAgICAgKTsKICAgICAgICAgICAgbWFya2VyX2NsdXN0ZXJfZGE1OWFiNDg5OGUzNDlkNjgzNTA0MjAyMGEzMDI5MzQub3B0aW9ucy5pY29uQ3JlYXRlRnVuY3Rpb24gPQogICAgICAgICAgICAgICAgZnVuY3Rpb24oY2x1c3RlcikgewogICAgICAgIHJldHVybiBMLmRpdkljb24oewogICAgICAgIGh0bWw6ICc8Yj4nICsgY2x1c3Rlci5nZXRDaGlsZENvdW50KCkgKyAnPC9iPicsCiAgICAgICAgY2xhc3NOYW1lOiAnbWFya2VyLWNsdXN0ZXIgbWFya2VyLWNsdXN0ZXItbGFyZ2UnLAogICAgICAgIGljb25TaXplOiBuZXcgTC5Qb2ludCgyMCwgMjApCiAgICAgICAgfSk7CiAgICB9OwogICAgICAgICAgICBmZWF0dXJlX2dyb3VwXzc5MmI0ZjU0MzAxOTQ5YmVhMDBjNDNiOTA0NDdjMWI1LmFkZExheWVyKG1hcmtlcl9jbHVzdGVyX2RhNTlhYjQ4OThlMzQ5ZDY4MzUwNDIwMjBhMzAyOTM0KTsKICAgICAgICAKICAgIAogICAgICAgICAgICB2YXIgY2FsbGJhY2syNzkgPSBmdW5jdGlvbiAocm93LGNvbG91cikgewogICAgICAgICAgICAgICBpZiAoY29sb3VyPT0nJykgewogICAgICAgICAgICAgICAgICAgY29sb3VyPXJvd1szXQogICAgICAgICAgICAgICB9CiAgICAgICAgICAgICAgIHZhciBtYXJrZXIgPSBMLmNpcmNsZU1hcmtlcihuZXcgTC5MYXRMbmcocm93WzBdLHJvd1sxXSksCiAgICAgICAgICAgICAgICAgICAgICAgICAgICAgICAgICAgICAgICAgICB7InJhZGl1cyI6MywKICAgICAgICAgICAgICAgICAgICAgICAgICAgICAgICAgICAgICAgICAgICAiY29sb3IiOmNvbG91cn0gKTsKICAgICAgICAgICAgICAgICAgICAgIG1hcmtlci5iaW5kUG9wdXAocm93WzJdKTsKICAgICAgICAgICAgICAgICAgICAgIHJldHVybiBtYXJrZXI7CiAgICAgICAgICAgIH07CiAgICAgICAgICAgIChmdW5jdGlvbigpewogICAgICAgICAgICAgICAgdmFyIGRhdGEgPSBbWzU0Ljk1ODkzMzExLCAxLjY1OTkwMzk5Njk5OTk5OTgsICd3aW5kPGJyPkdlbmVyYXRvciAzOiBDcmV5a2UgQmVjayBCIDEyLCBwbWF4PTYwMCcsICcjZTQxYTFjJ11dOwogICAgICAgICAgICAgICAgLy92YXIgbWFwID0gbWFya2VyX2NsdXN0ZXJfZGE1OWFiNDg5OGUzNDlkNjgzNTA0MjAyMGEzMDI5MzQ7CiAgICAgICAgICAgICAgICB2YXIgYWRkdG8gPSBtYXJrZXJfY2x1c3Rlcl9kYTU5YWI0ODk4ZTM0OWQ2ODM1MDQyMDIwYTMwMjkzNDsKICAgICAgICAgICAgICAgIHZhciBjb2xvdXIgPSAnJzsKICAgICAgICAgICAgICAgIGZvciAodmFyIGkgPSAwOyBpIDwgZGF0YS5sZW5ndGg7IGkrKykgewogICAgICAgICAgICAgICAgICAgIHZhciByb3cgPSBkYXRhW2ldOwogICAgICAgICAgICAgICAgICAgIHZhciBmZWF0dXJlID0gY2FsbGJhY2syNzkocm93LGNvbG91cik7CiAgICAgICAgICAgICAgICAgICAgZmVhdHVyZS5hZGRUbyhhZGR0byk7CiAgICAgICAgICAgICAgICB9OwogICAgICAgICAgICB9KSgpOwogICAgICAgICAgICAKICAgIAogICAgICAgICAgICB2YXIgbGF5ZXJfY29udHJvbF9hNDRjYmMwOWY2YWE0NWI5YTQzNDRhYmRmNjczODIxMiA9IHsKICAgICAgICAgICAgICAgIGJhc2VfbGF5ZXJzIDogewogICAgICAgICAgICAgICAgICAgICJvcGVuc3RyZWV0bWFwIiA6IHRpbGVfbGF5ZXJfMzM0MTU0MjNjYTliNDViMmFkNDkxNTQwZGIyMDk1YmMsCiAgICAgICAgICAgICAgICB9LAogICAgICAgICAgICAgICAgb3ZlcmxheXMgOiAgewogICAgICAgICAgICAgICAgICAgICJOb2RlcyIgOiBmZWF0dXJlX2dyb3VwX2MwN2VlNWFlMmFiOTRhOGZhMGQ3ZjBiNTk2ODk2ZDQzLAogICAgICAgICAgICAgICAgICAgICJBQyBicmFuY2hlcyIgOiBmZWF0dXJlX2dyb3VwXzAzMDBhNDQ3MzhlZTQxZmJiNTI1NmE0ZTc0MWM1NDc3LAogICAgICAgICAgICAgICAgICAgICJEQyBicmFuY2hlcyIgOiBmZWF0dXJlX2dyb3VwX2MyZDg1OTQyMDhhMzRkMWRiYTI3NDQyY2ZmOGJkMDY1LAogICAgICAgICAgICAgICAgICAgICJDb25zdW1lcnMiIDogZmVhdHVyZV9ncm91cF8xOWRlNjgzNGI5NWE0ZTljOWRjN2UzOWEzOWU3MzZlMywKICAgICAgICAgICAgICAgICAgICAiR2VuZXJhdG9ycyIgOiBmZWF0dXJlX2dyb3VwXzc5MmI0ZjU0MzAxOTQ5YmVhMDBjNDNiOTA0NDdjMWI1LAogICAgICAgICAgICAgICAgfSwKICAgICAgICAgICAgfTsKICAgICAgICAgICAgTC5jb250cm9sLmxheWVycygKICAgICAgICAgICAgICAgIGxheWVyX2NvbnRyb2xfYTQ0Y2JjMDlmNmFhNDViOWE0MzQ0YWJkZjY3MzgyMTIuYmFzZV9sYXllcnMsCiAgICAgICAgICAgICAgICBsYXllcl9jb250cm9sX2E0NGNiYzA5ZjZhYTQ1YjlhNDM0NGFiZGY2NzM4MjEyLm92ZXJsYXlzLAogICAgICAgICAgICAgICAgeyJhdXRvWkluZGV4IjogdHJ1ZSwgImNvbGxhcHNlZCI6IHRydWUsICJwb3NpdGlvbiI6ICJ0b3ByaWdodCJ9CiAgICAgICAgICAgICkuYWRkVG8obWFwXzBmYmJlNTI1MDVhMjQ4N2I4ZWVlN2YyMTc0ZDQwYTlkKTsKICAgICAgICAKPC9zY3JpcHQ+\" style=\"position:absolute;width:100%;height:100%;left:0;top:0;border:none !important;\" allowfullscreen webkitallowfullscreen mozallowfullscreen></iframe></div></div>",
          "text/plain": "<folium.folium.Map at 0x2769db29d48>"
         },
         "metadata": {},
         "output_type": "display_data"
        }
       ]
      }
     },
     "87b28eeaa3614f6cb5aa6ed052ea3af8": {
      "model_module": "@jupyter-widgets/controls",
      "model_module_version": "1.5.0",
      "model_name": "DescriptionStyleModel",
      "state": {
       "description_width": ""
      }
     },
     "88c592376c674fecbf78f090cbad9cde": {
      "model_module": "@jupyter-widgets/controls",
      "model_module_version": "1.5.0",
      "model_name": "DropdownModel",
      "state": {
       "_options_labels": [
        "",
        "node",
        "branches",
        "generators",
        "consumers"
       ],
       "description": "x",
       "index": 2,
       "layout": "IPY_MODEL_204162cfaac74e788d12bac391a9e986",
       "style": "IPY_MODEL_5249d855fb8d4f93a94ee8dfe8b6c741"
      }
     },
     "89571c3e51404c94ae8b55e34be12631": {
      "model_module": "@jupyter-widgets/controls",
      "model_module_version": "1.5.0",
      "model_name": "VBoxModel",
      "state": {
       "_dom_classes": [
        "widget-interact"
       ],
       "children": [
        "IPY_MODEL_c346a4b4a37d470283285c56672e678c",
        "IPY_MODEL_f904572707c644839fe2a7bb2a091ef3"
       ],
       "layout": "IPY_MODEL_fe4cd1ff52de4d1598541cd05e03c1e2"
      }
     },
     "8c748a6032a84fde96dbc6a18c49b3fc": {
      "model_module": "@jupyter-widgets/base",
      "model_module_version": "1.2.0",
      "model_name": "LayoutModel",
      "state": {}
     },
     "8cdfa630ffca41d0abbeb27bafabb50e": {
      "model_module": "@jupyter-widgets/base",
      "model_module_version": "1.2.0",
      "model_name": "LayoutModel",
      "state": {}
     },
     "8e570e9546d54c739903f84beba47117": {
      "model_module": "@jupyter-widgets/controls",
      "model_module_version": "1.5.0",
      "model_name": "VBoxModel",
      "state": {
       "_dom_classes": [
        "widget-interact"
       ],
       "children": [
        "IPY_MODEL_6120f11d440e452f86e2ef597e8e9c93",
        "IPY_MODEL_cbf8ed7a88304e9d984a3a6238d81240"
       ],
       "layout": "IPY_MODEL_cc34236802eb4f7687b9a562245ed15b"
      }
     },
     "8f22ebbc9035449b8af7d5f32d0afefd": {
      "model_module": "@jupyter-widgets/base",
      "model_module_version": "1.2.0",
      "model_name": "LayoutModel",
      "state": {}
     },
     "922bfef247d54c99b9c25d30323d139a": {
      "model_module": "@jupyter-widgets/controls",
      "model_module_version": "1.5.0",
      "model_name": "DescriptionStyleModel",
      "state": {
       "description_width": ""
      }
     },
     "935acc09e8b944cbbde19faf8efda2e3": {
      "model_module": "@jupyter-widgets/controls",
      "model_module_version": "1.5.0",
      "model_name": "VBoxModel",
      "state": {
       "_dom_classes": [
        "widget-interact"
       ],
       "children": [
        "IPY_MODEL_417174e325ab4c70a9f83a6ad7bdf5aa",
        "IPY_MODEL_e5de02ee10c942aba8be9dd336badba8"
       ],
       "layout": "IPY_MODEL_1585f1d1173d4ac58c5bcc42c90ec605"
      }
     },
     "948e7f5a64ee4a47ac0dd9df1aed860a": {
      "model_module": "@jupyter-widgets/output",
      "model_module_version": "1.0.0",
      "model_name": "OutputModel",
      "state": {
       "layout": "IPY_MODEL_c807fbfe8b1d4d0b861b3e5ebede5daf",
       "outputs": [
        {
         "data": {
          "text/html": "<div>\n<style scoped>\n    .dataframe tbody tr th:only-of-type {\n        vertical-align: middle;\n    }\n\n    .dataframe tbody tr th {\n        vertical-align: top;\n    }\n\n    .dataframe thead th {\n        text-align: right;\n    }\n</style>\n<table border=\"1\" class=\"dataframe\">\n  <thead>\n    <tr style=\"text-align: right;\">\n      <th></th>\n      <th>node</th>\n      <th>demand_avg</th>\n      <th>demand_ref</th>\n      <th>emission_cap</th>\n    </tr>\n  </thead>\n  <tbody>\n    <tr>\n      <th>0</th>\n      <td>1</td>\n      <td>1</td>\n      <td>demand_GB</td>\n      <td>1.000000e+09</td>\n    </tr>\n    <tr>\n      <th>1</th>\n      <td>2</td>\n      <td>1</td>\n      <td>demand_DE</td>\n      <td>1.000000e+09</td>\n    </tr>\n    <tr>\n      <th>2</th>\n      <td>3</td>\n      <td>1</td>\n      <td>demand_NO</td>\n      <td>1.000000e+09</td>\n    </tr>\n  </tbody>\n</table>\n</div>",
          "text/plain": "  node  demand_avg demand_ref  emission_cap\n0    1           1  demand_GB  1.000000e+09\n1    2           1  demand_DE  1.000000e+09\n2    3           1  demand_NO  1.000000e+09"
         },
         "metadata": {},
         "output_type": "display_data"
        }
       ]
      }
     },
     "96375ea69a074e23bc4079fb7bd932e0": {
      "model_module": "@jupyter-widgets/controls",
      "model_module_version": "1.5.0",
      "model_name": "DescriptionStyleModel",
      "state": {
       "description_width": ""
      }
     },
     "969fdceeede6415e98eea37faba255e9": {
      "model_module": "@jupyter-widgets/base",
      "model_module_version": "1.2.0",
      "model_name": "LayoutModel",
      "state": {}
     },
     "9743e37b66c5470a8f094520fc8eac37": {
      "model_module": "@jupyter-widgets/controls",
      "model_module_version": "1.5.0",
      "model_name": "DropdownModel",
      "state": {
       "_options_labels": [
        "nodes",
        "branches",
        "generators",
        "consumers"
       ],
       "description": "x",
       "index": 0,
       "layout": "IPY_MODEL_d72a75831a814a5ba714bcd84f8e2c63",
       "style": "IPY_MODEL_b4033d6d01664edd94bf1f0c319b6d9d"
      }
     },
     "98c29340d11b41ac82d2620a92b53aba": {
      "model_module": "@jupyter-widgets/base",
      "model_module_version": "1.2.0",
      "model_name": "LayoutModel",
      "state": {}
     },
     "9b78bc40eef442498a6eea0960d618c1": {
      "model_module": "@jupyter-widgets/controls",
      "model_module_version": "1.5.0",
      "model_name": "VBoxModel",
      "state": {
       "_dom_classes": [
        "widget-interact"
       ],
       "children": [
        "IPY_MODEL_2a8a08bd9b8841f3ab684480c889d951",
        "IPY_MODEL_dbd5125a514b4b5785207e0cc24311e3"
       ],
       "layout": "IPY_MODEL_e480492b529d442faa8ca9f28811920e"
      }
     },
     "9bc661a6b6cb47cbabb76e15d0238e97": {
      "model_module": "@jupyter-widgets/base",
      "model_module_version": "1.2.0",
      "model_name": "LayoutModel",
      "state": {}
     },
     "9fe7f19e703e449d8ee1d46bf5697c9f": {
      "model_module": "@jupyter-widgets/base",
      "model_module_version": "1.2.0",
      "model_name": "LayoutModel",
      "state": {}
     },
     "a0e2138c63814a40b3307e7decb2eeae": {
      "model_module": "@jupyter-widgets/controls",
      "model_module_version": "1.5.0",
      "model_name": "DescriptionStyleModel",
      "state": {
       "description_width": ""
      }
     },
     "a1116885c1a34602953d54437e63fdcc": {
      "model_module": "@jupyter-widgets/base",
      "model_module_version": "1.2.0",
      "model_name": "LayoutModel",
      "state": {}
     },
     "a1c34063939f4597bf553ee093838269": {
      "model_module": "@jupyter-widgets/controls",
      "model_module_version": "1.5.0",
      "model_name": "DropdownModel",
      "state": {
       "_options_labels": [
        "",
        "node",
        "branch",
        "generator",
        "consumer"
       ],
       "description": "x",
       "index": 0,
       "layout": "IPY_MODEL_ff0c2f6bd6c4445581ec2114be03480f",
       "style": "IPY_MODEL_fb0e741eee0a49b29a066ae14155af84"
      }
     },
     "a731c9eb462f42e68fd7cc1245b98285": {
      "model_module": "@jupyter-widgets/controls",
      "model_module_version": "1.5.0",
      "model_name": "VBoxModel",
      "state": {
       "_dom_classes": [
        "widget-interact"
       ],
       "children": [
        "IPY_MODEL_2f4b3358551546b0b94ff08bc233d56d",
        "IPY_MODEL_edf7ca06896540e397961b0eeef96d78"
       ],
       "layout": "IPY_MODEL_1192efd4529248b2994b9111169bc750"
      }
     },
     "a74ea6c704c549a9a3c5e1deb92fa211": {
      "model_module": "@jupyter-widgets/base",
      "model_module_version": "1.2.0",
      "model_name": "LayoutModel",
      "state": {}
     },
     "a7dbb35ae5be4622a3e6424581343692": {
      "model_module": "@jupyter-widgets/base",
      "model_module_version": "1.2.0",
      "model_name": "LayoutModel",
      "state": {}
     },
     "aa600fa2f551416991628c0755925078": {
      "model_module": "@jupyter-widgets/controls",
      "model_module_version": "1.5.0",
      "model_name": "VBoxModel",
      "state": {
       "_dom_classes": [
        "widget-interact"
       ],
       "children": [
        "IPY_MODEL_358e01d5eac541f98a52a473d4f9b788",
        "IPY_MODEL_1bb2f55828d347d7b2ef96138edfb5a9"
       ],
       "layout": "IPY_MODEL_3d5a302b1493454fa10bcef5e2078e5a"
      }
     },
     "aa7a5ba2bd43499e823a47ab08677615": {
      "model_module": "@jupyter-widgets/controls",
      "model_module_version": "1.5.0",
      "model_name": "VBoxModel",
      "state": {
       "_dom_classes": [
        "widget-interact"
       ],
       "children": [
        "IPY_MODEL_a1c34063939f4597bf553ee093838269",
        "IPY_MODEL_f99536faa5f040fb925f7938d1a0c8a2"
       ],
       "layout": "IPY_MODEL_030e7f560fd6430da389f341de15227b"
      }
     },
     "ac62fcd41f104931a9bc34a163af0eea": {
      "model_module": "@jupyter-widgets/controls",
      "model_module_version": "1.5.0",
      "model_name": "DescriptionStyleModel",
      "state": {
       "description_width": ""
      }
     },
     "aec11eefad1940888d8771334c4e948e": {
      "model_module": "@jupyter-widgets/base",
      "model_module_version": "1.2.0",
      "model_name": "LayoutModel",
      "state": {}
     },
     "af9b850798a64ce98424488dde94c702": {
      "model_module": "@jupyter-widgets/controls",
      "model_module_version": "1.5.0",
      "model_name": "DropdownModel",
      "state": {
       "_options_labels": [
        "input",
        "opt1",
        "opt_Scenario1_1",
        "opt_Scenario1_2",
        "opt_Scenario2_1",
        "opt_Scenario2_2",
        "opt_Scenario3_1",
        "opt_Scenario3_2"
       ],
       "description": "x",
       "index": 4,
       "layout": "IPY_MODEL_4203ed9677654f38a22742f6c812dd16",
       "style": "IPY_MODEL_67af105b7ced4786be4006a2e72a5c96"
      }
     },
     "afbc682cd0aa45ee8ff7deb0ac25532c": {
      "model_module": "@jupyter-widgets/controls",
      "model_module_version": "1.5.0",
      "model_name": "DescriptionStyleModel",
      "state": {
       "description_width": ""
      }
     },
     "b2d080ca06db464980d88a2756f406f8": {
      "model_module": "@jupyter-widgets/base",
      "model_module_version": "1.2.0",
      "model_name": "LayoutModel",
      "state": {}
     },
     "b4033d6d01664edd94bf1f0c319b6d9d": {
      "model_module": "@jupyter-widgets/controls",
      "model_module_version": "1.5.0",
      "model_name": "DescriptionStyleModel",
      "state": {
       "description_width": ""
      }
     },
     "b45e274e2267424488fb7484e73af7dc": {
      "model_module": "@jupyter-widgets/controls",
      "model_module_version": "1.5.0",
      "model_name": "DescriptionStyleModel",
      "state": {
       "description_width": ""
      }
     },
     "b534b818f05f4c97ba1029a5149dfdeb": {
      "model_module": "@jupyter-widgets/controls",
      "model_module_version": "1.5.0",
      "model_name": "DropdownModel",
      "state": {
       "_options_labels": [
        "input",
        "opt1",
        "opt2_0",
        "opt2_1",
        "opt2_2",
        "opt2_Scenario1",
        "opt2_Scenario2",
        "opt2_Scenario3"
       ],
       "description": "x",
       "index": 0,
       "layout": "IPY_MODEL_c3d102701f1d4016b844faf493872118",
       "style": "IPY_MODEL_2e4a3a3a467a4d0eb94f46c54840090e"
      }
     },
     "b70df3f43fbb4b61870c9587cd792f2a": {
      "model_module": "@jupyter-widgets/controls",
      "model_module_version": "1.5.0",
      "model_name": "DescriptionStyleModel",
      "state": {
       "description_width": ""
      }
     },
     "b7a9a07bc219424d94fccf5f4fc871eb": {
      "model_module": "@jupyter-widgets/base",
      "model_module_version": "1.2.0",
      "model_name": "LayoutModel",
      "state": {}
     },
     "b8b179a1d8674f52b4f8294879fd8787": {
      "model_module": "@jupyter-widgets/controls",
      "model_module_version": "1.5.0",
      "model_name": "DescriptionStyleModel",
      "state": {
       "description_width": ""
      }
     },
     "b92cec3ef4b24ba18d7be0496e48235f": {
      "model_module": "@jupyter-widgets/output",
      "model_module_version": "1.0.0",
      "model_name": "OutputModel",
      "state": {
       "layout": "IPY_MODEL_aec11eefad1940888d8771334c4e948e",
       "outputs": [
        {
         "name": "stdout",
         "output_type": "stream",
         "text": "Offshore grid - Scenario1_1\n"
        },
        {
         "ename": "KeyError",
         "evalue": "'Scenario1_1'",
         "output_type": "error",
         "traceback": [
          "\u001b[1;31m---------------------------------------------------------------------------\u001b[0m",
          "\u001b[1;31mKeyError\u001b[0m                                  Traceback (most recent call last)",
          "\u001b[1;32m~\\AppData\\Local\\Continuum\\anaconda3\\lib\\site-packages\\ipywidgets\\widgets\\interaction.py\u001b[0m in \u001b[0;36mupdate\u001b[1;34m(self, *args)\u001b[0m\n\u001b[0;32m    254\u001b[0m                     \u001b[0mvalue\u001b[0m \u001b[1;33m=\u001b[0m \u001b[0mwidget\u001b[0m\u001b[1;33m.\u001b[0m\u001b[0mget_interact_value\u001b[0m\u001b[1;33m(\u001b[0m\u001b[1;33m)\u001b[0m\u001b[1;33m\u001b[0m\u001b[1;33m\u001b[0m\u001b[0m\n\u001b[0;32m    255\u001b[0m                     \u001b[0mself\u001b[0m\u001b[1;33m.\u001b[0m\u001b[0mkwargs\u001b[0m\u001b[1;33m[\u001b[0m\u001b[0mwidget\u001b[0m\u001b[1;33m.\u001b[0m\u001b[0m_kwarg\u001b[0m\u001b[1;33m]\u001b[0m \u001b[1;33m=\u001b[0m \u001b[0mvalue\u001b[0m\u001b[1;33m\u001b[0m\u001b[1;33m\u001b[0m\u001b[0m\n\u001b[1;32m--> 256\u001b[1;33m                 \u001b[0mself\u001b[0m\u001b[1;33m.\u001b[0m\u001b[0mresult\u001b[0m \u001b[1;33m=\u001b[0m \u001b[0mself\u001b[0m\u001b[1;33m.\u001b[0m\u001b[0mf\u001b[0m\u001b[1;33m(\u001b[0m\u001b[1;33m**\u001b[0m\u001b[0mself\u001b[0m\u001b[1;33m.\u001b[0m\u001b[0mkwargs\u001b[0m\u001b[1;33m)\u001b[0m\u001b[1;33m\u001b[0m\u001b[1;33m\u001b[0m\u001b[0m\n\u001b[0m\u001b[0;32m    257\u001b[0m                 \u001b[0mshow_inline_matplotlib_plots\u001b[0m\u001b[1;33m(\u001b[0m\u001b[1;33m)\u001b[0m\u001b[1;33m\u001b[0m\u001b[1;33m\u001b[0m\u001b[0m\n\u001b[0;32m    258\u001b[0m                 \u001b[1;32mif\u001b[0m \u001b[0mself\u001b[0m\u001b[1;33m.\u001b[0m\u001b[0mauto_display\u001b[0m \u001b[1;32mand\u001b[0m \u001b[0mself\u001b[0m\u001b[1;33m.\u001b[0m\u001b[0mresult\u001b[0m \u001b[1;32mis\u001b[0m \u001b[1;32mnot\u001b[0m \u001b[1;32mNone\u001b[0m\u001b[1;33m:\u001b[0m\u001b[1;33m\u001b[0m\u001b[1;33m\u001b[0m\u001b[0m\n",
          "\u001b[1;32m<ipython-input-166-4c97f71d555a>\u001b[0m in \u001b[0;36mplotmap\u001b[1;34m(x)\u001b[0m\n\u001b[0;32m      4\u001b[0m     mapmap = {**{'input':m_input,'opt1':m_opt1},\n\u001b[0;32m      5\u001b[0m               **{'opt_{}'.format(i):m_opt[i] for i in m_opt.keys()}}\n\u001b[1;32m----> 6\u001b[1;33m     \u001b[0mdisplay\u001b[0m\u001b[1;33m(\u001b[0m\u001b[0mmapmap\u001b[0m\u001b[1;33m[\u001b[0m\u001b[0mx\u001b[0m\u001b[1;33m]\u001b[0m\u001b[1;33m)\u001b[0m\u001b[1;33m\u001b[0m\u001b[1;33m\u001b[0m\u001b[0m\n\u001b[0m\u001b[0;32m      7\u001b[0m     \u001b[1;32mreturn\u001b[0m\u001b[1;33m\u001b[0m\u001b[1;33m\u001b[0m\u001b[0m\n",
          "\u001b[1;31mKeyError\u001b[0m: 'Scenario1_1'"
         ]
        }
       ]
      }
     },
     "b9e6fa5b005840bc93a6ea08474a8f76": {
      "model_module": "@jupyter-widgets/base",
      "model_module_version": "1.2.0",
      "model_name": "LayoutModel",
      "state": {}
     },
     "babcc9d232e545d3a2d2150afb0a40c9": {
      "model_module": "@jupyter-widgets/controls",
      "model_module_version": "1.5.0",
      "model_name": "VBoxModel",
      "state": {
       "_dom_classes": [
        "widget-interact"
       ],
       "children": [
        "IPY_MODEL_cda310a9e5d84b7d89e365dd0ff6eeec",
        "IPY_MODEL_f70a38a9458448da8cd3a2cffd0b2a54"
       ],
       "layout": "IPY_MODEL_73c7fd3d24904bada8590e2f250988da"
      }
     },
     "bcd7d6fdb4ee417bb6703abd017698a2": {
      "model_module": "@jupyter-widgets/base",
      "model_module_version": "1.2.0",
      "model_name": "LayoutModel",
      "state": {}
     },
     "bd9138b309d846fa8118100b73c6ab74": {
      "model_module": "@jupyter-widgets/base",
      "model_module_version": "1.2.0",
      "model_name": "LayoutModel",
      "state": {}
     },
     "bf0e274402e4435f866b39cc5b208a6e": {
      "model_module": "@jupyter-widgets/controls",
      "model_module_version": "1.5.0",
      "model_name": "VBoxModel",
      "state": {
       "_dom_classes": [
        "widget-interact"
       ],
       "children": [
        "IPY_MODEL_b534b818f05f4c97ba1029a5149dfdeb",
        "IPY_MODEL_264882009ca44415b97c18fad84a34c0"
       ],
       "layout": "IPY_MODEL_98c29340d11b41ac82d2620a92b53aba"
      }
     },
     "bf32922aacd744a0b164730a95f6e08d": {
      "model_module": "@jupyter-widgets/controls",
      "model_module_version": "1.5.0",
      "model_name": "DropdownModel",
      "state": {
       "_options_labels": [
        "input",
        "Scenario1_1",
        "Scenario1_2",
        "Scenario2_1",
        "Scenario2_2",
        "Scenario3_1",
        "Scenario3_2"
       ],
       "description": "x",
       "index": 0,
       "layout": "IPY_MODEL_f5c447afa77d43d79b342c7f82b98e66",
       "style": "IPY_MODEL_b8b179a1d8674f52b4f8294879fd8787"
      }
     },
     "bf5a19f8fc0740beb25cb293ac3d561b": {
      "model_module": "@jupyter-widgets/base",
      "model_module_version": "1.2.0",
      "model_name": "LayoutModel",
      "state": {}
     },
     "bf64f2cbf9c94273b486020cd33b6222": {
      "model_module": "@jupyter-widgets/base",
      "model_module_version": "1.2.0",
      "model_name": "LayoutModel",
      "state": {}
     },
     "c0724e43e8d54d508b25b338d526fcf8": {
      "model_module": "@jupyter-widgets/output",
      "model_module_version": "1.0.0",
      "model_name": "OutputModel",
      "state": {
       "layout": "IPY_MODEL_b7a9a07bc219424d94fccf5f4fc871eb",
       "outputs": [
        {
         "name": "stdout",
         "output_type": "stream",
         "text": "Offshore grid - nodes\n"
        },
        {
         "ename": "NameError",
         "evalue": "name 'griddata' is not defined",
         "output_type": "error",
         "traceback": [
          "\u001b[1;31m---------------------------------------------------------------------------\u001b[0m",
          "\u001b[1;31mNameError\u001b[0m                                 Traceback (most recent call last)",
          "\u001b[1;32m~\\AppData\\Local\\Continuum\\anaconda3\\lib\\site-packages\\ipywidgets\\widgets\\interaction.py\u001b[0m in \u001b[0;36mupdate\u001b[1;34m(self, *args)\u001b[0m\n\u001b[0;32m    254\u001b[0m                     \u001b[0mvalue\u001b[0m \u001b[1;33m=\u001b[0m \u001b[0mwidget\u001b[0m\u001b[1;33m.\u001b[0m\u001b[0mget_interact_value\u001b[0m\u001b[1;33m(\u001b[0m\u001b[1;33m)\u001b[0m\u001b[1;33m\u001b[0m\u001b[1;33m\u001b[0m\u001b[0m\n\u001b[0;32m    255\u001b[0m                     \u001b[0mself\u001b[0m\u001b[1;33m.\u001b[0m\u001b[0mkwargs\u001b[0m\u001b[1;33m[\u001b[0m\u001b[0mwidget\u001b[0m\u001b[1;33m.\u001b[0m\u001b[0m_kwarg\u001b[0m\u001b[1;33m]\u001b[0m \u001b[1;33m=\u001b[0m \u001b[0mvalue\u001b[0m\u001b[1;33m\u001b[0m\u001b[1;33m\u001b[0m\u001b[0m\n\u001b[1;32m--> 256\u001b[1;33m                 \u001b[0mself\u001b[0m\u001b[1;33m.\u001b[0m\u001b[0mresult\u001b[0m \u001b[1;33m=\u001b[0m \u001b[0mself\u001b[0m\u001b[1;33m.\u001b[0m\u001b[0mf\u001b[0m\u001b[1;33m(\u001b[0m\u001b[1;33m**\u001b[0m\u001b[0mself\u001b[0m\u001b[1;33m.\u001b[0m\u001b[0mkwargs\u001b[0m\u001b[1;33m)\u001b[0m\u001b[1;33m\u001b[0m\u001b[1;33m\u001b[0m\u001b[0m\n\u001b[0m\u001b[0;32m    257\u001b[0m                 \u001b[0mshow_inline_matplotlib_plots\u001b[0m\u001b[1;33m(\u001b[0m\u001b[1;33m)\u001b[0m\u001b[1;33m\u001b[0m\u001b[1;33m\u001b[0m\u001b[0m\n\u001b[0;32m    258\u001b[0m                 \u001b[1;32mif\u001b[0m \u001b[0mself\u001b[0m\u001b[1;33m.\u001b[0m\u001b[0mauto_display\u001b[0m \u001b[1;32mand\u001b[0m \u001b[0mself\u001b[0m\u001b[1;33m.\u001b[0m\u001b[0mresult\u001b[0m \u001b[1;32mis\u001b[0m \u001b[1;32mnot\u001b[0m \u001b[1;32mNone\u001b[0m\u001b[1;33m:\u001b[0m\u001b[1;33m\u001b[0m\u001b[1;33m\u001b[0m\u001b[0m\n",
          "\u001b[1;32m<ipython-input-173-b9256408ed80>\u001b[0m in \u001b[0;36mshowdata\u001b[1;34m(x)\u001b[0m\n\u001b[0;32m      2\u001b[0m \u001b[1;32mdef\u001b[0m \u001b[0mshowdata\u001b[0m\u001b[1;33m(\u001b[0m\u001b[0mx\u001b[0m\u001b[1;33m)\u001b[0m\u001b[1;33m:\u001b[0m\u001b[1;33m\u001b[0m\u001b[1;33m\u001b[0m\u001b[0m\n\u001b[0;32m      3\u001b[0m     \u001b[0mprint\u001b[0m\u001b[1;33m(\u001b[0m\u001b[1;34m\"Offshore grid - {}\"\u001b[0m\u001b[1;33m.\u001b[0m\u001b[0mformat\u001b[0m\u001b[1;33m(\u001b[0m\u001b[0mx\u001b[0m\u001b[1;33m)\u001b[0m\u001b[1;33m)\u001b[0m\u001b[1;33m\u001b[0m\u001b[1;33m\u001b[0m\u001b[0m\n\u001b[1;32m----> 4\u001b[1;33m     \u001b[0mdisplay\u001b[0m\u001b[1;33m(\u001b[0m\u001b[0mgetattr\u001b[0m\u001b[1;33m(\u001b[0m\u001b[0mgriddata\u001b[0m\u001b[1;33m,\u001b[0m\u001b[0mx\u001b[0m\u001b[1;33m)\u001b[0m\u001b[1;33m)\u001b[0m\u001b[1;33m\u001b[0m\u001b[1;33m\u001b[0m\u001b[0m\n\u001b[0m",
          "\u001b[1;31mNameError\u001b[0m: name 'griddata' is not defined"
         ]
        }
       ]
      }
     },
     "c0890f2b41004e999e8cdad550eba802": {
      "model_module": "@jupyter-widgets/controls",
      "model_module_version": "1.5.0",
      "model_name": "DescriptionStyleModel",
      "state": {
       "description_width": ""
      }
     },
     "c2d9f0476a984ffca256c34b722b8521": {
      "model_module": "@jupyter-widgets/controls",
      "model_module_version": "1.5.0",
      "model_name": "DropdownModel",
      "state": {
       "_options_labels": [
        "input",
        "opt1",
        "opt2_0",
        "opt2_1",
        "opt2_2",
        "opt2_Scenario1",
        "opt2_Scenario2",
        "opt2_Scenario3"
       ],
       "description": "x",
       "index": 5,
       "layout": "IPY_MODEL_8556a6dbc7304ba0b13f6f10d81f0997",
       "style": "IPY_MODEL_a0e2138c63814a40b3307e7decb2eeae"
      }
     },
     "c346a4b4a37d470283285c56672e678c": {
      "model_module": "@jupyter-widgets/controls",
      "model_module_version": "1.5.0",
      "model_name": "DropdownModel",
      "state": {
       "_options_labels": [
        "",
        "node",
        "branch",
        "generator",
        "consumer"
       ],
       "description": "x",
       "index": 3,
       "layout": "IPY_MODEL_c38cc35591a34b1687b0e7748d64417e",
       "style": "IPY_MODEL_b70df3f43fbb4b61870c9587cd792f2a"
      }
     },
     "c38cc35591a34b1687b0e7748d64417e": {
      "model_module": "@jupyter-widgets/base",
      "model_module_version": "1.2.0",
      "model_name": "LayoutModel",
      "state": {}
     },
     "c3d102701f1d4016b844faf493872118": {
      "model_module": "@jupyter-widgets/base",
      "model_module_version": "1.2.0",
      "model_name": "LayoutModel",
      "state": {}
     },
     "c5b0145b7bfd4c359846f233c55e2b10": {
      "model_module": "@jupyter-widgets/output",
      "model_module_version": "1.0.0",
      "model_name": "OutputModel",
      "state": {
       "layout": "IPY_MODEL_454630401b9a427080ce01dba9c2695c",
       "outputs": [
        {
         "name": "stdout",
         "output_type": "stream",
         "text": "Offshore grid - Scenario1_1\n"
        },
        {
         "data": {
          "text/html": "<div style=\"width:100%;\"><div style=\"position:relative;width:100%;height:0;padding-bottom:60%;\"><iframe src=\"data:text/html;charset=utf-8;base64,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\" style=\"position:absolute;width:100%;height:100%;left:0;top:0;border:none !important;\" allowfullscreen webkitallowfullscreen mozallowfullscreen></iframe></div></div>",
          "text/plain": "<folium.folium.Map at 0x276ae9ec308>"
         },
         "metadata": {},
         "output_type": "display_data"
        }
       ]
      }
     },
     "c6c3ca8f668f4ab583b8367e682599f0": {
      "model_module": "@jupyter-widgets/base",
      "model_module_version": "1.2.0",
      "model_name": "LayoutModel",
      "state": {}
     },
     "c807fbfe8b1d4d0b861b3e5ebede5daf": {
      "model_module": "@jupyter-widgets/base",
      "model_module_version": "1.2.0",
      "model_name": "LayoutModel",
      "state": {}
     },
     "c86e12be4c6c49548f28d84438aebae7": {
      "model_module": "@jupyter-widgets/base",
      "model_module_version": "1.2.0",
      "model_name": "LayoutModel",
      "state": {}
     },
     "c92632311ae544cd97c378c375ff1f57": {
      "model_module": "@jupyter-widgets/output",
      "model_module_version": "1.0.0",
      "model_name": "OutputModel",
      "state": {
       "layout": "IPY_MODEL_8f22ebbc9035449b8af7d5f32d0afefd",
       "outputs": [
        {
         "name": "stdout",
         "output_type": "stream",
         "text": "Offshore grid\n"
        },
        {
         "data": {
          "text/html": "<div style=\"width:100%;\"><div style=\"position:relative;width:100%;height:0;padding-bottom:60%;\"><iframe src=\"data:text/html;charset=utf-8;base64,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\" style=\"position:absolute;width:100%;height:100%;left:0;top:0;border:none !important;\" allowfullscreen webkitallowfullscreen mozallowfullscreen></iframe></div></div>",
          "text/plain": "<folium.folium.Map at 0x276adb15cc8>"
         },
         "metadata": {},
         "output_type": "display_data"
        }
       ]
      }
     },
     "ca633e084a384cbe9c4519900a323ad7": {
      "model_module": "@jupyter-widgets/controls",
      "model_module_version": "1.5.0",
      "model_name": "DescriptionStyleModel",
      "state": {
       "description_width": ""
      }
     },
     "cbf8ed7a88304e9d984a3a6238d81240": {
      "model_module": "@jupyter-widgets/output",
      "model_module_version": "1.0.0",
      "model_name": "OutputModel",
      "state": {
       "layout": "IPY_MODEL_4cb161730ffc40ed96e3aebe682b12df",
       "outputs": [
        {
         "name": "stdout",
         "output_type": "stream",
         "text": "Select data to display\n"
        }
       ]
      }
     },
     "cc34236802eb4f7687b9a562245ed15b": {
      "model_module": "@jupyter-widgets/base",
      "model_module_version": "1.2.0",
      "model_name": "LayoutModel",
      "state": {}
     },
     "ccccad4e2e07429d9f7e26f01a12290e": {
      "model_module": "@jupyter-widgets/controls",
      "model_module_version": "1.5.0",
      "model_name": "DescriptionStyleModel",
      "state": {
       "description_width": ""
      }
     },
     "cce2ecbccf4b4c1ca445aadd1be02c2b": {
      "model_module": "@jupyter-widgets/output",
      "model_module_version": "1.0.0",
      "model_name": "OutputModel",
      "state": {
       "layout": "IPY_MODEL_969fdceeede6415e98eea37faba255e9",
       "outputs": [
        {
         "data": {
          "text/html": "<div>\n<style scoped>\n    .dataframe tbody tr th:only-of-type {\n        vertical-align: middle;\n    }\n\n    .dataframe tbody tr th {\n        vertical-align: top;\n    }\n\n    .dataframe thead th {\n        text-align: right;\n    }\n</style>\n<table border=\"1\" class=\"dataframe\">\n  <thead>\n    <tr style=\"text-align: right;\">\n      <th></th>\n      <th>node_from</th>\n      <th>node_to</th>\n      <th>capacity</th>\n      <th>expand</th>\n      <th>expand2</th>\n      <th>distance</th>\n      <th>cost_scaling</th>\n      <th>type</th>\n      <th>comment</th>\n      <th>capacity2</th>\n      <th>reactance</th>\n      <th>max_newCap</th>\n    </tr>\n  </thead>\n  <tbody>\n    <tr>\n      <th>0</th>\n      <td>5</td>\n      <td>1</td>\n      <td>3600</td>\n      <td>0</td>\n      <td>0</td>\n      <td>0.0</td>\n      <td>1</td>\n      <td>ac</td>\n      <td>zero distance to get zero losses</td>\n      <td>0</td>\n      <td>0</td>\n      <td>-1</td>\n    </tr>\n    <tr>\n      <th>1</th>\n      <td>4</td>\n      <td>1</td>\n      <td>6000</td>\n      <td>0</td>\n      <td>0</td>\n      <td>0.0</td>\n      <td>1</td>\n      <td>ac</td>\n      <td>zero distance to get zero losses</td>\n      <td>0</td>\n      <td>0</td>\n      <td>-1</td>\n    </tr>\n    <tr>\n      <th>2</th>\n      <td>6</td>\n      <td>2</td>\n      <td>1500</td>\n      <td>0</td>\n      <td>0</td>\n      <td>0.0</td>\n      <td>1</td>\n      <td>ac</td>\n      <td>zero distance to get zero losses</td>\n      <td>0</td>\n      <td>0</td>\n      <td>-1</td>\n    </tr>\n    <tr>\n      <th>3</th>\n      <td>7</td>\n      <td>3</td>\n      <td>1500</td>\n      <td>0</td>\n      <td>0</td>\n      <td>0.0</td>\n      <td>1</td>\n      <td>ac</td>\n      <td>zero distance to get zero losses</td>\n      <td>0</td>\n      <td>0</td>\n      <td>-1</td>\n    </tr>\n    <tr>\n      <th>4</th>\n      <td>7</td>\n      <td>4</td>\n      <td>0</td>\n      <td>1</td>\n      <td>0</td>\n      <td>-1.0</td>\n      <td>1</td>\n      <td>dcdirect</td>\n      <td>NO-UK direct</td>\n      <td>0</td>\n      <td>0</td>\n      <td>-1</td>\n    </tr>\n    <tr>\n      <th>5</th>\n      <td>67</td>\n      <td>66</td>\n      <td>0</td>\n      <td>1</td>\n      <td>0</td>\n      <td>-1.0</td>\n      <td>1</td>\n      <td>ac</td>\n      <td>auto</td>\n      <td>0</td>\n      <td>0</td>\n      <td>-1</td>\n    </tr>\n    <tr>\n      <th>6</th>\n      <td>63</td>\n      <td>67</td>\n      <td>0</td>\n      <td>1</td>\n      <td>0</td>\n      <td>-1.0</td>\n      <td>1</td>\n      <td>ac</td>\n      <td>auto</td>\n      <td>0</td>\n      <td>0</td>\n      <td>-1</td>\n    </tr>\n    <tr>\n      <th>7</th>\n      <td>40</td>\n      <td>65</td>\n      <td>0</td>\n      <td>1</td>\n      <td>0</td>\n      <td>-1.0</td>\n      <td>1</td>\n      <td>ac</td>\n      <td>auto</td>\n      <td>0</td>\n      <td>0</td>\n      <td>-1</td>\n    </tr>\n    <tr>\n      <th>8</th>\n      <td>50</td>\n      <td>63</td>\n      <td>0</td>\n      <td>0</td>\n      <td>1</td>\n      <td>-1.0</td>\n      <td>1</td>\n      <td>ac</td>\n      <td>auto</td>\n      <td>0</td>\n      <td>0</td>\n      <td>-1</td>\n    </tr>\n    <tr>\n      <th>9</th>\n      <td>65</td>\n      <td>60</td>\n      <td>0</td>\n      <td>0</td>\n      <td>1</td>\n      <td>-1.0</td>\n      <td>1</td>\n      <td>ac</td>\n      <td>auto</td>\n      <td>0</td>\n      <td>0</td>\n      <td>-1</td>\n    </tr>\n    <tr>\n      <th>10</th>\n      <td>104</td>\n      <td>150</td>\n      <td>0</td>\n      <td>1</td>\n      <td>0</td>\n      <td>-1.0</td>\n      <td>1</td>\n      <td>dcmesh</td>\n      <td>auto</td>\n      <td>0</td>\n      <td>0</td>\n      <td>-1</td>\n    </tr>\n    <tr>\n      <th>11</th>\n      <td>166</td>\n      <td>165</td>\n      <td>0</td>\n      <td>1</td>\n      <td>0</td>\n      <td>-1.0</td>\n      <td>1</td>\n      <td>dcmesh</td>\n      <td>auto</td>\n      <td>0</td>\n      <td>0</td>\n      <td>-1</td>\n    </tr>\n    <tr>\n      <th>12</th>\n      <td>167</td>\n      <td>166</td>\n      <td>0</td>\n      <td>1</td>\n      <td>0</td>\n      <td>-1.0</td>\n      <td>1</td>\n      <td>dcmesh</td>\n      <td>auto</td>\n      <td>0</td>\n      <td>0</td>\n      <td>-1</td>\n    </tr>\n    <tr>\n      <th>13</th>\n      <td>163</td>\n      <td>167</td>\n      <td>0</td>\n      <td>1</td>\n      <td>0</td>\n      <td>-1.0</td>\n      <td>1</td>\n      <td>dcmesh</td>\n      <td>auto</td>\n      <td>0</td>\n      <td>0</td>\n      <td>-1</td>\n    </tr>\n    <tr>\n      <th>14</th>\n      <td>140</td>\n      <td>165</td>\n      <td>0</td>\n      <td>1</td>\n      <td>0</td>\n      <td>-1.0</td>\n      <td>1</td>\n      <td>dcmesh</td>\n      <td>auto</td>\n      <td>0</td>\n      <td>0</td>\n      <td>-1</td>\n    </tr>\n    <tr>\n      <th>15</th>\n      <td>165</td>\n      <td>104</td>\n      <td>0</td>\n      <td>1</td>\n      <td>0</td>\n      <td>-1.0</td>\n      <td>1</td>\n      <td>dcmesh</td>\n      <td>auto</td>\n      <td>0</td>\n      <td>0</td>\n      <td>-1</td>\n    </tr>\n    <tr>\n      <th>16</th>\n      <td>166</td>\n      <td>105</td>\n      <td>0</td>\n      <td>1</td>\n      <td>0</td>\n      <td>-1.0</td>\n      <td>1</td>\n      <td>dcmesh</td>\n      <td>auto</td>\n      <td>0</td>\n      <td>0</td>\n      <td>-1</td>\n    </tr>\n    <tr>\n      <th>17</th>\n      <td>167</td>\n      <td>105</td>\n      <td>0</td>\n      <td>1</td>\n      <td>0</td>\n      <td>-1.0</td>\n      <td>1</td>\n      <td>dcmesh</td>\n      <td>auto</td>\n      <td>0</td>\n      <td>0</td>\n      <td>-1</td>\n    </tr>\n    <tr>\n      <th>18</th>\n      <td>104</td>\n      <td>4</td>\n      <td>0</td>\n      <td>1</td>\n      <td>0</td>\n      <td>-1.0</td>\n      <td>1</td>\n      <td>conv</td>\n      <td>auto</td>\n      <td>0</td>\n      <td>0</td>\n      <td>-1</td>\n    </tr>\n    <tr>\n      <th>19</th>\n      <td>105</td>\n      <td>5</td>\n      <td>0</td>\n      <td>1</td>\n      <td>0</td>\n      <td>-1.0</td>\n      <td>1</td>\n      <td>conv</td>\n      <td>auto</td>\n      <td>0</td>\n      <td>0</td>\n      <td>-1</td>\n    </tr>\n    <tr>\n      <th>20</th>\n      <td>140</td>\n      <td>40</td>\n      <td>0</td>\n      <td>1</td>\n      <td>0</td>\n      <td>-1.0</td>\n      <td>1</td>\n      <td>conv</td>\n      <td>auto</td>\n      <td>0</td>\n      <td>0</td>\n      <td>-1</td>\n    </tr>\n    <tr>\n      <th>21</th>\n      <td>163</td>\n      <td>63</td>\n      <td>0</td>\n      <td>1</td>\n      <td>0</td>\n      <td>-1.0</td>\n      <td>1</td>\n      <td>conv</td>\n      <td>auto</td>\n      <td>0</td>\n      <td>0</td>\n      <td>-1</td>\n    </tr>\n    <tr>\n      <th>22</th>\n      <td>165</td>\n      <td>65</td>\n      <td>0</td>\n      <td>1</td>\n      <td>0</td>\n      <td>-1.0</td>\n      <td>1</td>\n      <td>conv</td>\n      <td>auto</td>\n      <td>0</td>\n      <td>0</td>\n      <td>-1</td>\n    </tr>\n    <tr>\n      <th>23</th>\n      <td>166</td>\n      <td>66</td>\n      <td>0</td>\n      <td>1</td>\n      <td>0</td>\n      <td>-1.0</td>\n      <td>1</td>\n      <td>conv</td>\n      <td>auto</td>\n      <td>0</td>\n      <td>0</td>\n      <td>-1</td>\n    </tr>\n    <tr>\n      <th>24</th>\n      <td>167</td>\n      <td>67</td>\n      <td>0</td>\n      <td>1</td>\n      <td>0</td>\n      <td>-1.0</td>\n      <td>1</td>\n      <td>conv</td>\n      <td>auto</td>\n      <td>0</td>\n      <td>0</td>\n      <td>-1</td>\n    </tr>\n    <tr>\n      <th>25</th>\n      <td>107</td>\n      <td>7</td>\n      <td>0</td>\n      <td>0</td>\n      <td>1</td>\n      <td>-1.0</td>\n      <td>1</td>\n      <td>conv</td>\n      <td>auto</td>\n      <td>0</td>\n      <td>0</td>\n      <td>-1</td>\n    </tr>\n    <tr>\n      <th>26</th>\n      <td>107</td>\n      <td>160</td>\n      <td>0</td>\n      <td>0</td>\n      <td>1</td>\n      <td>-1.0</td>\n      <td>1</td>\n      <td>dcmesh</td>\n      <td>auto</td>\n      <td>0</td>\n      <td>0</td>\n      <td>-1</td>\n    </tr>\n    <tr>\n      <th>27</th>\n      <td>165</td>\n      <td>160</td>\n      <td>0</td>\n      <td>0</td>\n      <td>1</td>\n      <td>-1.0</td>\n      <td>1</td>\n      <td>dcmesh</td>\n      <td>auto</td>\n      <td>0</td>\n      <td>0</td>\n      <td>-1</td>\n    </tr>\n    <tr>\n      <th>28</th>\n      <td>106</td>\n      <td>140</td>\n      <td>0</td>\n      <td>0</td>\n      <td>1</td>\n      <td>-1.0</td>\n      <td>1</td>\n      <td>dcmesh</td>\n      <td>auto</td>\n      <td>0</td>\n      <td>0</td>\n      <td>-1</td>\n    </tr>\n    <tr>\n      <th>29</th>\n      <td>106</td>\n      <td>6</td>\n      <td>0</td>\n      <td>0</td>\n      <td>1</td>\n      <td>-1.0</td>\n      <td>1</td>\n      <td>conv</td>\n      <td>auto</td>\n      <td>0</td>\n      <td>0</td>\n      <td>-1</td>\n    </tr>\n    <tr>\n      <th>30</th>\n      <td>104</td>\n      <td>150</td>\n      <td>0</td>\n      <td>0</td>\n      <td>1</td>\n      <td>-1.0</td>\n      <td>1</td>\n      <td>dcmesh</td>\n      <td>considered both stage 1 and stage 2</td>\n      <td>0</td>\n      <td>0</td>\n      <td>-1</td>\n    </tr>\n  </tbody>\n</table>\n</div>",
          "text/plain": "   node_from node_to  capacity  expand  expand2  distance  cost_scaling  \\\n0          5       1      3600       0        0       0.0             1   \n1          4       1      6000       0        0       0.0             1   \n2          6       2      1500       0        0       0.0             1   \n3          7       3      1500       0        0       0.0             1   \n4          7       4         0       1        0      -1.0             1   \n5         67      66         0       1        0      -1.0             1   \n6         63      67         0       1        0      -1.0             1   \n7         40      65         0       1        0      -1.0             1   \n8         50      63         0       0        1      -1.0             1   \n9         65      60         0       0        1      -1.0             1   \n10       104     150         0       1        0      -1.0             1   \n11       166     165         0       1        0      -1.0             1   \n12       167     166         0       1        0      -1.0             1   \n13       163     167         0       1        0      -1.0             1   \n14       140     165         0       1        0      -1.0             1   \n15       165     104         0       1        0      -1.0             1   \n16       166     105         0       1        0      -1.0             1   \n17       167     105         0       1        0      -1.0             1   \n18       104       4         0       1        0      -1.0             1   \n19       105       5         0       1        0      -1.0             1   \n20       140      40         0       1        0      -1.0             1   \n21       163      63         0       1        0      -1.0             1   \n22       165      65         0       1        0      -1.0             1   \n23       166      66         0       1        0      -1.0             1   \n24       167      67         0       1        0      -1.0             1   \n25       107       7         0       0        1      -1.0             1   \n26       107     160         0       0        1      -1.0             1   \n27       165     160         0       0        1      -1.0             1   \n28       106     140         0       0        1      -1.0             1   \n29       106       6         0       0        1      -1.0             1   \n30       104     150         0       0        1      -1.0             1   \n\n        type                              comment  capacity2  reactance  \\\n0         ac     zero distance to get zero losses          0          0   \n1         ac     zero distance to get zero losses          0          0   \n2         ac     zero distance to get zero losses          0          0   \n3         ac     zero distance to get zero losses          0          0   \n4   dcdirect                         NO-UK direct          0          0   \n5         ac                                 auto          0          0   \n6         ac                                 auto          0          0   \n7         ac                                 auto          0          0   \n8         ac                                 auto          0          0   \n9         ac                                 auto          0          0   \n10    dcmesh                                 auto          0          0   \n11    dcmesh                                 auto          0          0   \n12    dcmesh                                 auto          0          0   \n13    dcmesh                                 auto          0          0   \n14    dcmesh                                 auto          0          0   \n15    dcmesh                                 auto          0          0   \n16    dcmesh                                 auto          0          0   \n17    dcmesh                                 auto          0          0   \n18      conv                                 auto          0          0   \n19      conv                                 auto          0          0   \n20      conv                                 auto          0          0   \n21      conv                                 auto          0          0   \n22      conv                                 auto          0          0   \n23      conv                                 auto          0          0   \n24      conv                                 auto          0          0   \n25      conv                                 auto          0          0   \n26    dcmesh                                 auto          0          0   \n27    dcmesh                                 auto          0          0   \n28    dcmesh                                 auto          0          0   \n29      conv                                 auto          0          0   \n30    dcmesh  considered both stage 1 and stage 2          0          0   \n\n    max_newCap  \n0           -1  \n1           -1  \n2           -1  \n3           -1  \n4           -1  \n5           -1  \n6           -1  \n7           -1  \n8           -1  \n9           -1  \n10          -1  \n11          -1  \n12          -1  \n13          -1  \n14          -1  \n15          -1  \n16          -1  \n17          -1  \n18          -1  \n19          -1  \n20          -1  \n21          -1  \n22          -1  \n23          -1  \n24          -1  \n25          -1  \n26          -1  \n27          -1  \n28          -1  \n29          -1  \n30          -1  "
         },
         "metadata": {},
         "output_type": "display_data"
        }
       ]
      }
     },
     "cda310a9e5d84b7d89e365dd0ff6eeec": {
      "model_module": "@jupyter-widgets/controls",
      "model_module_version": "1.5.0",
      "model_name": "DropdownModel",
      "state": {
       "_options_labels": [
        "input",
        "Scenario1_1",
        "Scenario1_2",
        "Scenario2_1",
        "Scenario2_2",
        "Scenario3_1",
        "Scenario3_2"
       ],
       "description": "x",
       "index": 2,
       "layout": "IPY_MODEL_d1be2b61bfdf425aaa7e97b1b18d9a31",
       "style": "IPY_MODEL_82a9d0e411174cbaba4cba176d06c292"
      }
     },
     "d00a6e0dc89845838a928a043db80920": {
      "model_module": "@jupyter-widgets/base",
      "model_module_version": "1.2.0",
      "model_name": "LayoutModel",
      "state": {}
     },
     "d1be2b61bfdf425aaa7e97b1b18d9a31": {
      "model_module": "@jupyter-widgets/base",
      "model_module_version": "1.2.0",
      "model_name": "LayoutModel",
      "state": {}
     },
     "d2a3e1c4708944c3add492d23b976d0b": {
      "model_module": "@jupyter-widgets/controls",
      "model_module_version": "1.5.0",
      "model_name": "VBoxModel",
      "state": {
       "_dom_classes": [
        "widget-interact"
       ],
       "children": [
        "IPY_MODEL_e9af4e695a8842a4831f4345ada5eb27",
        "IPY_MODEL_7fa2f503a18a4ea59c3e96b020c530dd"
       ],
       "layout": "IPY_MODEL_b9e6fa5b005840bc93a6ea08474a8f76"
      }
     },
     "d2f19d7ac45b4dbe91f90b5a1f31bb54": {
      "model_module": "@jupyter-widgets/base",
      "model_module_version": "1.2.0",
      "model_name": "LayoutModel",
      "state": {}
     },
     "d348f2d505b44159b6c24ca507eb5901": {
      "model_module": "@jupyter-widgets/controls",
      "model_module_version": "1.5.0",
      "model_name": "DropdownModel",
      "state": {
       "_options_labels": [
        "input",
        "Scenario1_1",
        "Scenario1_2",
        "Scenario2_1",
        "Scenario2_2",
        "Scenario3_1",
        "Scenario3_2"
       ],
       "description": "x",
       "index": 4,
       "layout": "IPY_MODEL_7c013fc2196b4cfaaa6d558466387ca5",
       "style": "IPY_MODEL_ccccad4e2e07429d9f7e26f01a12290e"
      }
     },
     "d3566a3c298b4e3c85fae8ee4572996e": {
      "model_module": "@jupyter-widgets/controls",
      "model_module_version": "1.5.0",
      "model_name": "VBoxModel",
      "state": {
       "_dom_classes": [
        "widget-interact"
       ],
       "children": [
        "IPY_MODEL_d348f2d505b44159b6c24ca507eb5901",
        "IPY_MODEL_f7b32200afcb4da8bcf34715d42d8e8f"
       ],
       "layout": "IPY_MODEL_571cf5cd822645ba8bf02f991978ddae"
      }
     },
     "d394bd8b2dcf45038f28e362fb5f03b8": {
      "model_module": "@jupyter-widgets/controls",
      "model_module_version": "1.5.0",
      "model_name": "VBoxModel",
      "state": {
       "_dom_classes": [
        "widget-interact"
       ],
       "children": [
        "IPY_MODEL_dcf4174b3b234af69048523273f8213a",
        "IPY_MODEL_c5b0145b7bfd4c359846f233c55e2b10"
       ],
       "layout": "IPY_MODEL_65668fba8449485cabba6a23f3de964f"
      }
     },
     "d3a0f193b34e4d54b34748d588e1a42c": {
      "model_module": "@jupyter-widgets/output",
      "model_module_version": "1.0.0",
      "model_name": "OutputModel",
      "state": {
       "layout": "IPY_MODEL_58c67f22a7dd4e1e88cf496ffd2e2f65",
       "outputs": [
        {
         "name": "stdout",
         "output_type": "stream",
         "text": "Offshore grid\n"
        },
        {
         "data": {
          "text/html": "<div style=\"width:100%;\"><div style=\"position:relative;width:100%;height:0;padding-bottom:60%;\"><iframe src=\"data:text/html;charset=utf-8;base64,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\" style=\"position:absolute;width:100%;height:100%;left:0;top:0;border:none !important;\" allowfullscreen webkitallowfullscreen mozallowfullscreen></iframe></div></div>",
          "text/plain": "<folium.folium.Map at 0x276ae208648>"
         },
         "metadata": {},
         "output_type": "display_data"
        }
       ]
      }
     },
     "d3bc182883774fe08366d3eb10a25cf6": {
      "model_module": "@jupyter-widgets/base",
      "model_module_version": "1.2.0",
      "model_name": "LayoutModel",
      "state": {}
     },
     "d60f065d67f44afeaf057d6adc197d94": {
      "model_module": "@jupyter-widgets/controls",
      "model_module_version": "1.5.0",
      "model_name": "DescriptionStyleModel",
      "state": {
       "description_width": ""
      }
     },
     "d72a75831a814a5ba714bcd84f8e2c63": {
      "model_module": "@jupyter-widgets/base",
      "model_module_version": "1.2.0",
      "model_name": "LayoutModel",
      "state": {}
     },
     "d7f232b6f5544b3a94ae04b8f8bd06c0": {
      "model_module": "@jupyter-widgets/output",
      "model_module_version": "1.0.0",
      "model_name": "OutputModel",
      "state": {
       "layout": "IPY_MODEL_e960b4301b284e07b913af4f0d0d6ca7",
       "outputs": [
        {
         "data": {
          "text/html": "<div>\n<style scoped>\n    .dataframe tbody tr th:only-of-type {\n        vertical-align: middle;\n    }\n\n    .dataframe tbody tr th {\n        vertical-align: top;\n    }\n\n    .dataframe thead th {\n        text-align: right;\n    }\n</style>\n<table border=\"1\" class=\"dataframe\">\n  <thead>\n    <tr style=\"text-align: right;\">\n      <th></th>\n      <th>area</th>\n      <th>lat</th>\n      <th>lon</th>\n      <th>offshore</th>\n      <th>existing</th>\n      <th>cost_scaling</th>\n      <th>type</th>\n      <th>comment</th>\n      <th>id</th>\n    </tr>\n    <tr>\n      <th>index</th>\n      <th></th>\n      <th></th>\n      <th></th>\n      <th></th>\n      <th></th>\n      <th></th>\n      <th></th>\n      <th></th>\n      <th></th>\n    </tr>\n  </thead>\n  <tbody>\n    <tr>\n      <th>4</th>\n      <td>UK</td>\n      <td>54.663032</td>\n      <td>-1.124417</td>\n      <td>0</td>\n      <td>1</td>\n      <td>1</td>\n      <td>ac</td>\n      <td>UK Teeside</td>\n      <td>4</td>\n    </tr>\n    <tr>\n      <th>5</th>\n      <td>UK</td>\n      <td>53.834846</td>\n      <td>-0.409423</td>\n      <td>0</td>\n      <td>1</td>\n      <td>1</td>\n      <td>ac</td>\n      <td>UK Creyke Beck</td>\n      <td>5</td>\n    </tr>\n    <tr>\n      <th>6</th>\n      <td>DE</td>\n      <td>53.131499</td>\n      <td>7.692410</td>\n      <td>0</td>\n      <td>1</td>\n      <td>1</td>\n      <td>ac</td>\n      <td>DE coast</td>\n      <td>6</td>\n    </tr>\n    <tr>\n      <th>7</th>\n      <td>NO</td>\n      <td>58.151367</td>\n      <td>6.777425</td>\n      <td>0</td>\n      <td>1</td>\n      <td>1</td>\n      <td>ac</td>\n      <td>NO coast</td>\n      <td>7</td>\n    </tr>\n    <tr>\n      <th>1</th>\n      <td>UK</td>\n      <td>52.500000</td>\n      <td>-1.000000</td>\n      <td>0</td>\n      <td>1</td>\n      <td>1</td>\n      <td>ac</td>\n      <td>UK mainland</td>\n      <td>1</td>\n    </tr>\n    <tr>\n      <th>2</th>\n      <td>DE</td>\n      <td>51.000000</td>\n      <td>9.000000</td>\n      <td>0</td>\n      <td>1</td>\n      <td>1</td>\n      <td>ac</td>\n      <td>DE mainland</td>\n      <td>2</td>\n    </tr>\n    <tr>\n      <th>3</th>\n      <td>NO</td>\n      <td>60.500000</td>\n      <td>11.000000</td>\n      <td>0</td>\n      <td>1</td>\n      <td>1</td>\n      <td>ac</td>\n      <td>NO mainland</td>\n      <td>3</td>\n    </tr>\n    <tr>\n      <th>66</th>\n      <td>dog</td>\n      <td>54.813182</td>\n      <td>1.875641</td>\n      <td>1</td>\n      <td>1</td>\n      <td>1</td>\n      <td>ac</td>\n      <td>CA - Creyke Beck A</td>\n      <td>66</td>\n    </tr>\n    <tr>\n      <th>67</th>\n      <td>dog</td>\n      <td>54.958933</td>\n      <td>1.659904</td>\n      <td>1</td>\n      <td>1</td>\n      <td>1</td>\n      <td>ac</td>\n      <td>CB1 - Creyke Beck B1</td>\n      <td>67</td>\n    </tr>\n    <tr>\n      <th>63</th>\n      <td>dog</td>\n      <td>55.059611</td>\n      <td>1.656986</td>\n      <td>1</td>\n      <td>1</td>\n      <td>1</td>\n      <td>ac</td>\n      <td>CB2 - Creyke Beck B2</td>\n      <td>63</td>\n    </tr>\n    <tr>\n      <th>65</th>\n      <td>dog</td>\n      <td>55.036774</td>\n      <td>2.195774</td>\n      <td>1</td>\n      <td>1</td>\n      <td>1</td>\n      <td>ac</td>\n      <td>TA - Teeside A</td>\n      <td>65</td>\n    </tr>\n    <tr>\n      <th>40</th>\n      <td>dog</td>\n      <td>55.075551</td>\n      <td>2.769907</td>\n      <td>1</td>\n      <td>1</td>\n      <td>1</td>\n      <td>ac</td>\n      <td>TB - Teeside B</td>\n      <td>40</td>\n    </tr>\n    <tr>\n      <th>50</th>\n      <td>dog</td>\n      <td>55.275185</td>\n      <td>1.769585</td>\n      <td>1</td>\n      <td>1</td>\n      <td>1</td>\n      <td>ac</td>\n      <td>TC - Teeside C</td>\n      <td>50</td>\n    </tr>\n    <tr>\n      <th>60</th>\n      <td>dog</td>\n      <td>55.332975</td>\n      <td>2.363662</td>\n      <td>1</td>\n      <td>1</td>\n      <td>1</td>\n      <td>ac</td>\n      <td>TD - Teeside D</td>\n      <td>60</td>\n    </tr>\n    <tr>\n      <th>104</th>\n      <td>dog</td>\n      <td>54.583032</td>\n      <td>-1.124417</td>\n      <td>0</td>\n      <td>0</td>\n      <td>1</td>\n      <td>dc</td>\n      <td>HVDC</td>\n      <td>104</td>\n    </tr>\n    <tr>\n      <th>105</th>\n      <td>dog</td>\n      <td>53.754846</td>\n      <td>-0.409423</td>\n      <td>0</td>\n      <td>0</td>\n      <td>1</td>\n      <td>dc</td>\n      <td>HVDC</td>\n      <td>105</td>\n    </tr>\n    <tr>\n      <th>106</th>\n      <td>dog</td>\n      <td>53.051499</td>\n      <td>7.692410</td>\n      <td>0</td>\n      <td>0</td>\n      <td>1</td>\n      <td>dc</td>\n      <td>HVDC</td>\n      <td>106</td>\n    </tr>\n    <tr>\n      <th>107</th>\n      <td>dog</td>\n      <td>58.071367</td>\n      <td>6.777425</td>\n      <td>0</td>\n      <td>0</td>\n      <td>1</td>\n      <td>dc</td>\n      <td>HVDC</td>\n      <td>107</td>\n    </tr>\n    <tr>\n      <th>140</th>\n      <td>dog</td>\n      <td>54.995551</td>\n      <td>2.769907</td>\n      <td>1</td>\n      <td>0</td>\n      <td>1</td>\n      <td>dc</td>\n      <td>HVDC</td>\n      <td>140</td>\n    </tr>\n    <tr>\n      <th>150</th>\n      <td>dog</td>\n      <td>55.195185</td>\n      <td>1.769585</td>\n      <td>1</td>\n      <td>0</td>\n      <td>1</td>\n      <td>dc</td>\n      <td>HVDC</td>\n      <td>150</td>\n    </tr>\n    <tr>\n      <th>160</th>\n      <td>dog</td>\n      <td>55.252975</td>\n      <td>2.363662</td>\n      <td>1</td>\n      <td>0</td>\n      <td>1</td>\n      <td>dc</td>\n      <td>HVDC</td>\n      <td>160</td>\n    </tr>\n    <tr>\n      <th>163</th>\n      <td>dog</td>\n      <td>54.979611</td>\n      <td>1.656986</td>\n      <td>1</td>\n      <td>0</td>\n      <td>1</td>\n      <td>dc</td>\n      <td>HVDC</td>\n      <td>163</td>\n    </tr>\n    <tr>\n      <th>165</th>\n      <td>dog</td>\n      <td>54.956774</td>\n      <td>2.195774</td>\n      <td>1</td>\n      <td>0</td>\n      <td>1</td>\n      <td>dc</td>\n      <td>HVDC</td>\n      <td>165</td>\n    </tr>\n    <tr>\n      <th>166</th>\n      <td>dog</td>\n      <td>54.733182</td>\n      <td>1.875641</td>\n      <td>1</td>\n      <td>0</td>\n      <td>1</td>\n      <td>dc</td>\n      <td>HVDC</td>\n      <td>166</td>\n    </tr>\n    <tr>\n      <th>167</th>\n      <td>dog</td>\n      <td>54.878933</td>\n      <td>1.659904</td>\n      <td>1</td>\n      <td>0</td>\n      <td>1</td>\n      <td>dc</td>\n      <td>HVDC</td>\n      <td>167</td>\n    </tr>\n  </tbody>\n</table>\n</div>",
          "text/plain": "      area        lat        lon  offshore  existing  cost_scaling type  \\\nindex                                                                     \n4       UK  54.663032  -1.124417         0         1             1   ac   \n5       UK  53.834846  -0.409423         0         1             1   ac   \n6       DE  53.131499   7.692410         0         1             1   ac   \n7       NO  58.151367   6.777425         0         1             1   ac   \n1       UK  52.500000  -1.000000         0         1             1   ac   \n2       DE  51.000000   9.000000         0         1             1   ac   \n3       NO  60.500000  11.000000         0         1             1   ac   \n66     dog  54.813182   1.875641         1         1             1   ac   \n67     dog  54.958933   1.659904         1         1             1   ac   \n63     dog  55.059611   1.656986         1         1             1   ac   \n65     dog  55.036774   2.195774         1         1             1   ac   \n40     dog  55.075551   2.769907         1         1             1   ac   \n50     dog  55.275185   1.769585         1         1             1   ac   \n60     dog  55.332975   2.363662         1         1             1   ac   \n104    dog  54.583032  -1.124417         0         0             1   dc   \n105    dog  53.754846  -0.409423         0         0             1   dc   \n106    dog  53.051499   7.692410         0         0             1   dc   \n107    dog  58.071367   6.777425         0         0             1   dc   \n140    dog  54.995551   2.769907         1         0             1   dc   \n150    dog  55.195185   1.769585         1         0             1   dc   \n160    dog  55.252975   2.363662         1         0             1   dc   \n163    dog  54.979611   1.656986         1         0             1   dc   \n165    dog  54.956774   2.195774         1         0             1   dc   \n166    dog  54.733182   1.875641         1         0             1   dc   \n167    dog  54.878933   1.659904         1         0             1   dc   \n\n                    comment   id  \nindex                             \n4                UK Teeside    4  \n5            UK Creyke Beck    5  \n6                  DE coast    6  \n7                  NO coast    7  \n1               UK mainland    1  \n2               DE mainland    2  \n3               NO mainland    3  \n66       CA - Creyke Beck A   66  \n67     CB1 - Creyke Beck B1   67  \n63     CB2 - Creyke Beck B2   63  \n65           TA - Teeside A   65  \n40           TB - Teeside B   40  \n50           TC - Teeside C   50  \n60           TD - Teeside D   60  \n104                    HVDC  104  \n105                    HVDC  105  \n106                    HVDC  106  \n107                    HVDC  107  \n140                    HVDC  140  \n150                    HVDC  150  \n160                    HVDC  160  \n163                    HVDC  163  \n165                    HVDC  165  \n166                    HVDC  166  \n167                    HVDC  167  "
         },
         "metadata": {},
         "output_type": "display_data"
        }
       ]
      }
     },
     "d9110392b4be4d3182d11cad1cbd7762": {
      "model_module": "@jupyter-widgets/base",
      "model_module_version": "1.2.0",
      "model_name": "LayoutModel",
      "state": {}
     },
     "dbd5125a514b4b5785207e0cc24311e3": {
      "model_module": "@jupyter-widgets/output",
      "model_module_version": "1.0.0",
      "model_name": "OutputModel",
      "state": {
       "layout": "IPY_MODEL_63528f9045334438aed33c58d0763872",
       "outputs": [
        {
         "data": {
          "text/html": "<div>\n<style scoped>\n    .dataframe tbody tr th:only-of-type {\n        vertical-align: middle;\n    }\n\n    .dataframe tbody tr th {\n        vertical-align: top;\n    }\n\n    .dataframe thead th {\n        text-align: right;\n    }\n</style>\n<table border=\"1\" class=\"dataframe\">\n  <thead>\n    <tr style=\"text-align: right;\">\n      <th></th>\n      <th>area</th>\n      <th>lat</th>\n      <th>lon</th>\n      <th>offshore</th>\n      <th>existing</th>\n      <th>cost_scaling</th>\n      <th>type</th>\n      <th>comment</th>\n      <th>id</th>\n    </tr>\n    <tr>\n      <th>index</th>\n      <th></th>\n      <th></th>\n      <th></th>\n      <th></th>\n      <th></th>\n      <th></th>\n      <th></th>\n      <th></th>\n      <th></th>\n    </tr>\n  </thead>\n  <tbody>\n    <tr>\n      <th>4</th>\n      <td>UK</td>\n      <td>54.623032</td>\n      <td>-1.124417</td>\n      <td>0</td>\n      <td>1</td>\n      <td>1</td>\n      <td>ac</td>\n      <td>UK Teeside</td>\n      <td>4</td>\n    </tr>\n    <tr>\n      <th>5</th>\n      <td>UK</td>\n      <td>53.794846</td>\n      <td>-0.409423</td>\n      <td>0</td>\n      <td>1</td>\n      <td>1</td>\n      <td>ac</td>\n      <td>UK Creyke Beck</td>\n      <td>5</td>\n    </tr>\n    <tr>\n      <th>6</th>\n      <td>DE</td>\n      <td>53.091499</td>\n      <td>7.692410</td>\n      <td>0</td>\n      <td>1</td>\n      <td>1</td>\n      <td>ac</td>\n      <td>DE coast</td>\n      <td>6</td>\n    </tr>\n    <tr>\n      <th>7</th>\n      <td>NO</td>\n      <td>58.111367</td>\n      <td>6.777425</td>\n      <td>0</td>\n      <td>1</td>\n      <td>1</td>\n      <td>ac</td>\n      <td>NO coast</td>\n      <td>7</td>\n    </tr>\n    <tr>\n      <th>1</th>\n      <td>UK</td>\n      <td>52.500000</td>\n      <td>-1.000000</td>\n      <td>0</td>\n      <td>1</td>\n      <td>1</td>\n      <td>ac</td>\n      <td>UK mainland</td>\n      <td>1</td>\n    </tr>\n    <tr>\n      <th>2</th>\n      <td>DE</td>\n      <td>51.000000</td>\n      <td>9.000000</td>\n      <td>0</td>\n      <td>1</td>\n      <td>1</td>\n      <td>ac</td>\n      <td>DE mainland</td>\n      <td>2</td>\n    </tr>\n    <tr>\n      <th>3</th>\n      <td>NO</td>\n      <td>60.500000</td>\n      <td>11.000000</td>\n      <td>0</td>\n      <td>1</td>\n      <td>1</td>\n      <td>ac</td>\n      <td>NO mainland</td>\n      <td>3</td>\n    </tr>\n    <tr>\n      <th>66</th>\n      <td>dog</td>\n      <td>54.773182</td>\n      <td>1.875641</td>\n      <td>1</td>\n      <td>1</td>\n      <td>1</td>\n      <td>ac</td>\n      <td>CA - Creyke Beck A</td>\n      <td>66</td>\n    </tr>\n    <tr>\n      <th>67</th>\n      <td>dog</td>\n      <td>54.918933</td>\n      <td>1.659904</td>\n      <td>1</td>\n      <td>1</td>\n      <td>1</td>\n      <td>ac</td>\n      <td>CB1 - Creyke Beck B1</td>\n      <td>67</td>\n    </tr>\n    <tr>\n      <th>63</th>\n      <td>dog</td>\n      <td>55.019611</td>\n      <td>1.656986</td>\n      <td>1</td>\n      <td>1</td>\n      <td>1</td>\n      <td>ac</td>\n      <td>CB2 - Creyke Beck B2</td>\n      <td>63</td>\n    </tr>\n    <tr>\n      <th>65</th>\n      <td>dog</td>\n      <td>54.996774</td>\n      <td>2.195774</td>\n      <td>1</td>\n      <td>1</td>\n      <td>1</td>\n      <td>ac</td>\n      <td>TA - Teeside A</td>\n      <td>65</td>\n    </tr>\n    <tr>\n      <th>40</th>\n      <td>dog</td>\n      <td>55.035551</td>\n      <td>2.769907</td>\n      <td>1</td>\n      <td>1</td>\n      <td>1</td>\n      <td>ac</td>\n      <td>TB - Teeside B</td>\n      <td>40</td>\n    </tr>\n    <tr>\n      <th>50</th>\n      <td>dog</td>\n      <td>55.235185</td>\n      <td>1.769585</td>\n      <td>1</td>\n      <td>1</td>\n      <td>1</td>\n      <td>ac</td>\n      <td>TC - Teeside C</td>\n      <td>50</td>\n    </tr>\n    <tr>\n      <th>60</th>\n      <td>dog</td>\n      <td>55.292975</td>\n      <td>2.363662</td>\n      <td>1</td>\n      <td>1</td>\n      <td>1</td>\n      <td>ac</td>\n      <td>TD - Teeside D</td>\n      <td>60</td>\n    </tr>\n    <tr>\n      <th>104</th>\n      <td>dog</td>\n      <td>54.623032</td>\n      <td>-1.124417</td>\n      <td>0</td>\n      <td>0</td>\n      <td>1</td>\n      <td>dc</td>\n      <td>HVDC</td>\n      <td>104</td>\n    </tr>\n    <tr>\n      <th>105</th>\n      <td>dog</td>\n      <td>53.794846</td>\n      <td>-0.409423</td>\n      <td>0</td>\n      <td>0</td>\n      <td>1</td>\n      <td>dc</td>\n      <td>HVDC</td>\n      <td>105</td>\n    </tr>\n    <tr>\n      <th>106</th>\n      <td>dog</td>\n      <td>53.091499</td>\n      <td>7.692410</td>\n      <td>0</td>\n      <td>0</td>\n      <td>1</td>\n      <td>dc</td>\n      <td>HVDC</td>\n      <td>106</td>\n    </tr>\n    <tr>\n      <th>107</th>\n      <td>dog</td>\n      <td>58.111367</td>\n      <td>6.777425</td>\n      <td>0</td>\n      <td>0</td>\n      <td>1</td>\n      <td>dc</td>\n      <td>HVDC</td>\n      <td>107</td>\n    </tr>\n    <tr>\n      <th>140</th>\n      <td>dog</td>\n      <td>55.035551</td>\n      <td>2.769907</td>\n      <td>1</td>\n      <td>0</td>\n      <td>1</td>\n      <td>dc</td>\n      <td>HVDC</td>\n      <td>140</td>\n    </tr>\n    <tr>\n      <th>150</th>\n      <td>dog</td>\n      <td>55.235185</td>\n      <td>1.769585</td>\n      <td>1</td>\n      <td>0</td>\n      <td>1</td>\n      <td>dc</td>\n      <td>HVDC</td>\n      <td>150</td>\n    </tr>\n    <tr>\n      <th>160</th>\n      <td>dog</td>\n      <td>55.292975</td>\n      <td>2.363662</td>\n      <td>1</td>\n      <td>0</td>\n      <td>1</td>\n      <td>dc</td>\n      <td>HVDC</td>\n      <td>160</td>\n    </tr>\n    <tr>\n      <th>163</th>\n      <td>dog</td>\n      <td>55.019611</td>\n      <td>1.656986</td>\n      <td>1</td>\n      <td>0</td>\n      <td>1</td>\n      <td>dc</td>\n      <td>HVDC</td>\n      <td>163</td>\n    </tr>\n    <tr>\n      <th>165</th>\n      <td>dog</td>\n      <td>54.996774</td>\n      <td>2.195774</td>\n      <td>1</td>\n      <td>0</td>\n      <td>1</td>\n      <td>dc</td>\n      <td>HVDC</td>\n      <td>165</td>\n    </tr>\n    <tr>\n      <th>166</th>\n      <td>dog</td>\n      <td>54.773182</td>\n      <td>1.875641</td>\n      <td>1</td>\n      <td>0</td>\n      <td>1</td>\n      <td>dc</td>\n      <td>HVDC</td>\n      <td>166</td>\n    </tr>\n    <tr>\n      <th>167</th>\n      <td>dog</td>\n      <td>54.918933</td>\n      <td>1.659904</td>\n      <td>1</td>\n      <td>0</td>\n      <td>1</td>\n      <td>dc</td>\n      <td>HVDC</td>\n      <td>167</td>\n    </tr>\n  </tbody>\n</table>\n</div>",
          "text/plain": "      area        lat        lon  offshore  existing  cost_scaling type  \\\nindex                                                                     \n4       UK  54.623032  -1.124417         0         1             1   ac   \n5       UK  53.794846  -0.409423         0         1             1   ac   \n6       DE  53.091499   7.692410         0         1             1   ac   \n7       NO  58.111367   6.777425         0         1             1   ac   \n1       UK  52.500000  -1.000000         0         1             1   ac   \n2       DE  51.000000   9.000000         0         1             1   ac   \n3       NO  60.500000  11.000000         0         1             1   ac   \n66     dog  54.773182   1.875641         1         1             1   ac   \n67     dog  54.918933   1.659904         1         1             1   ac   \n63     dog  55.019611   1.656986         1         1             1   ac   \n65     dog  54.996774   2.195774         1         1             1   ac   \n40     dog  55.035551   2.769907         1         1             1   ac   \n50     dog  55.235185   1.769585         1         1             1   ac   \n60     dog  55.292975   2.363662         1         1             1   ac   \n104    dog  54.623032  -1.124417         0         0             1   dc   \n105    dog  53.794846  -0.409423         0         0             1   dc   \n106    dog  53.091499   7.692410         0         0             1   dc   \n107    dog  58.111367   6.777425         0         0             1   dc   \n140    dog  55.035551   2.769907         1         0             1   dc   \n150    dog  55.235185   1.769585         1         0             1   dc   \n160    dog  55.292975   2.363662         1         0             1   dc   \n163    dog  55.019611   1.656986         1         0             1   dc   \n165    dog  54.996774   2.195774         1         0             1   dc   \n166    dog  54.773182   1.875641         1         0             1   dc   \n167    dog  54.918933   1.659904         1         0             1   dc   \n\n                    comment   id  \nindex                             \n4                UK Teeside    4  \n5            UK Creyke Beck    5  \n6                  DE coast    6  \n7                  NO coast    7  \n1               UK mainland    1  \n2               DE mainland    2  \n3               NO mainland    3  \n66       CA - Creyke Beck A   66  \n67     CB1 - Creyke Beck B1   67  \n63     CB2 - Creyke Beck B2   63  \n65           TA - Teeside A   65  \n40           TB - Teeside B   40  \n50           TC - Teeside C   50  \n60           TD - Teeside D   60  \n104                    HVDC  104  \n105                    HVDC  105  \n106                    HVDC  106  \n107                    HVDC  107  \n140                    HVDC  140  \n150                    HVDC  150  \n160                    HVDC  160  \n163                    HVDC  163  \n165                    HVDC  165  \n166                    HVDC  166  \n167                    HVDC  167  "
         },
         "metadata": {},
         "output_type": "display_data"
        }
       ]
      }
     },
     "dbfdfadb2c5d450ba065521e0e328d2a": {
      "model_module": "@jupyter-widgets/output",
      "model_module_version": "1.0.0",
      "model_name": "OutputModel",
      "state": {
       "layout": "IPY_MODEL_bf5a19f8fc0740beb25cb293ac3d561b",
       "outputs": [
        {
         "data": {
          "text/html": "<div>\n<style scoped>\n    .dataframe tbody tr th:only-of-type {\n        vertical-align: middle;\n    }\n\n    .dataframe tbody tr th {\n        vertical-align: top;\n    }\n\n    .dataframe thead th {\n        text-align: right;\n    }\n</style>\n<table border=\"1\" class=\"dataframe\">\n  <thead>\n    <tr style=\"text-align: right;\">\n      <th></th>\n      <th>node_from</th>\n      <th>node_to</th>\n      <th>capacity</th>\n      <th>expand</th>\n      <th>expand2</th>\n      <th>distance</th>\n      <th>cost_scaling</th>\n      <th>type</th>\n      <th>comment</th>\n      <th>capacity2</th>\n      <th>reactance</th>\n      <th>max_newCap</th>\n    </tr>\n  </thead>\n  <tbody>\n    <tr>\n      <th>0</th>\n      <td>5</td>\n      <td>1</td>\n      <td>3600</td>\n      <td>0</td>\n      <td>0</td>\n      <td>0.0</td>\n      <td>1</td>\n      <td>ac</td>\n      <td>zero distance to get zero losses</td>\n      <td>0</td>\n      <td>0</td>\n      <td>-1</td>\n    </tr>\n    <tr>\n      <th>1</th>\n      <td>4</td>\n      <td>1</td>\n      <td>6000</td>\n      <td>0</td>\n      <td>0</td>\n      <td>0.0</td>\n      <td>1</td>\n      <td>ac</td>\n      <td>zero distance to get zero losses</td>\n      <td>0</td>\n      <td>0</td>\n      <td>-1</td>\n    </tr>\n    <tr>\n      <th>2</th>\n      <td>6</td>\n      <td>2</td>\n      <td>1500</td>\n      <td>0</td>\n      <td>0</td>\n      <td>0.0</td>\n      <td>1</td>\n      <td>ac</td>\n      <td>zero distance to get zero losses</td>\n      <td>0</td>\n      <td>0</td>\n      <td>-1</td>\n    </tr>\n    <tr>\n      <th>3</th>\n      <td>7</td>\n      <td>3</td>\n      <td>1500</td>\n      <td>0</td>\n      <td>0</td>\n      <td>0.0</td>\n      <td>1</td>\n      <td>ac</td>\n      <td>zero distance to get zero losses</td>\n      <td>0</td>\n      <td>0</td>\n      <td>-1</td>\n    </tr>\n    <tr>\n      <th>4</th>\n      <td>7</td>\n      <td>4</td>\n      <td>0</td>\n      <td>1</td>\n      <td>0</td>\n      <td>-1.0</td>\n      <td>1</td>\n      <td>dcdirect</td>\n      <td>NO-UK direct</td>\n      <td>0</td>\n      <td>0</td>\n      <td>-1</td>\n    </tr>\n    <tr>\n      <th>5</th>\n      <td>67</td>\n      <td>66</td>\n      <td>0</td>\n      <td>1</td>\n      <td>0</td>\n      <td>-1.0</td>\n      <td>1</td>\n      <td>ac</td>\n      <td>auto</td>\n      <td>0</td>\n      <td>0</td>\n      <td>-1</td>\n    </tr>\n    <tr>\n      <th>6</th>\n      <td>63</td>\n      <td>67</td>\n      <td>0</td>\n      <td>1</td>\n      <td>0</td>\n      <td>-1.0</td>\n      <td>1</td>\n      <td>ac</td>\n      <td>auto</td>\n      <td>0</td>\n      <td>0</td>\n      <td>-1</td>\n    </tr>\n    <tr>\n      <th>7</th>\n      <td>40</td>\n      <td>65</td>\n      <td>0</td>\n      <td>1</td>\n      <td>0</td>\n      <td>-1.0</td>\n      <td>1</td>\n      <td>ac</td>\n      <td>auto</td>\n      <td>0</td>\n      <td>0</td>\n      <td>-1</td>\n    </tr>\n    <tr>\n      <th>8</th>\n      <td>50</td>\n      <td>63</td>\n      <td>0</td>\n      <td>0</td>\n      <td>1</td>\n      <td>-1.0</td>\n      <td>1</td>\n      <td>ac</td>\n      <td>auto</td>\n      <td>0</td>\n      <td>0</td>\n      <td>-1</td>\n    </tr>\n    <tr>\n      <th>9</th>\n      <td>65</td>\n      <td>60</td>\n      <td>0</td>\n      <td>0</td>\n      <td>1</td>\n      <td>-1.0</td>\n      <td>1</td>\n      <td>ac</td>\n      <td>auto</td>\n      <td>0</td>\n      <td>0</td>\n      <td>-1</td>\n    </tr>\n    <tr>\n      <th>10</th>\n      <td>104</td>\n      <td>150</td>\n      <td>0</td>\n      <td>1</td>\n      <td>0</td>\n      <td>-1.0</td>\n      <td>1</td>\n      <td>dcmesh</td>\n      <td>auto</td>\n      <td>0</td>\n      <td>0</td>\n      <td>-1</td>\n    </tr>\n    <tr>\n      <th>11</th>\n      <td>166</td>\n      <td>165</td>\n      <td>0</td>\n      <td>1</td>\n      <td>0</td>\n      <td>-1.0</td>\n      <td>1</td>\n      <td>dcmesh</td>\n      <td>auto</td>\n      <td>0</td>\n      <td>0</td>\n      <td>-1</td>\n    </tr>\n    <tr>\n      <th>12</th>\n      <td>167</td>\n      <td>166</td>\n      <td>0</td>\n      <td>1</td>\n      <td>0</td>\n      <td>-1.0</td>\n      <td>1</td>\n      <td>dcmesh</td>\n      <td>auto</td>\n      <td>0</td>\n      <td>0</td>\n      <td>-1</td>\n    </tr>\n    <tr>\n      <th>13</th>\n      <td>163</td>\n      <td>167</td>\n      <td>0</td>\n      <td>1</td>\n      <td>0</td>\n      <td>-1.0</td>\n      <td>1</td>\n      <td>dcmesh</td>\n      <td>auto</td>\n      <td>0</td>\n      <td>0</td>\n      <td>-1</td>\n    </tr>\n    <tr>\n      <th>14</th>\n      <td>140</td>\n      <td>165</td>\n      <td>0</td>\n      <td>1</td>\n      <td>0</td>\n      <td>-1.0</td>\n      <td>1</td>\n      <td>dcmesh</td>\n      <td>auto</td>\n      <td>0</td>\n      <td>0</td>\n      <td>-1</td>\n    </tr>\n    <tr>\n      <th>15</th>\n      <td>165</td>\n      <td>104</td>\n      <td>0</td>\n      <td>1</td>\n      <td>0</td>\n      <td>-1.0</td>\n      <td>1</td>\n      <td>dcmesh</td>\n      <td>auto</td>\n      <td>0</td>\n      <td>0</td>\n      <td>-1</td>\n    </tr>\n    <tr>\n      <th>16</th>\n      <td>166</td>\n      <td>105</td>\n      <td>0</td>\n      <td>1</td>\n      <td>0</td>\n      <td>-1.0</td>\n      <td>1</td>\n      <td>dcmesh</td>\n      <td>auto</td>\n      <td>0</td>\n      <td>0</td>\n      <td>-1</td>\n    </tr>\n    <tr>\n      <th>17</th>\n      <td>167</td>\n      <td>105</td>\n      <td>0</td>\n      <td>1</td>\n      <td>0</td>\n      <td>-1.0</td>\n      <td>1</td>\n      <td>dcmesh</td>\n      <td>auto</td>\n      <td>0</td>\n      <td>0</td>\n      <td>-1</td>\n    </tr>\n    <tr>\n      <th>18</th>\n      <td>104</td>\n      <td>4</td>\n      <td>0</td>\n      <td>1</td>\n      <td>0</td>\n      <td>-1.0</td>\n      <td>1</td>\n      <td>conv</td>\n      <td>auto</td>\n      <td>0</td>\n      <td>0</td>\n      <td>-1</td>\n    </tr>\n    <tr>\n      <th>19</th>\n      <td>105</td>\n      <td>5</td>\n      <td>0</td>\n      <td>1</td>\n      <td>0</td>\n      <td>-1.0</td>\n      <td>1</td>\n      <td>conv</td>\n      <td>auto</td>\n      <td>0</td>\n      <td>0</td>\n      <td>-1</td>\n    </tr>\n    <tr>\n      <th>20</th>\n      <td>140</td>\n      <td>40</td>\n      <td>0</td>\n      <td>1</td>\n      <td>0</td>\n      <td>-1.0</td>\n      <td>1</td>\n      <td>conv</td>\n      <td>auto</td>\n      <td>0</td>\n      <td>0</td>\n      <td>-1</td>\n    </tr>\n    <tr>\n      <th>21</th>\n      <td>163</td>\n      <td>63</td>\n      <td>0</td>\n      <td>1</td>\n      <td>0</td>\n      <td>-1.0</td>\n      <td>1</td>\n      <td>conv</td>\n      <td>auto</td>\n      <td>0</td>\n      <td>0</td>\n      <td>-1</td>\n    </tr>\n    <tr>\n      <th>22</th>\n      <td>165</td>\n      <td>65</td>\n      <td>0</td>\n      <td>1</td>\n      <td>0</td>\n      <td>-1.0</td>\n      <td>1</td>\n      <td>conv</td>\n      <td>auto</td>\n      <td>0</td>\n      <td>0</td>\n      <td>-1</td>\n    </tr>\n    <tr>\n      <th>23</th>\n      <td>166</td>\n      <td>66</td>\n      <td>0</td>\n      <td>1</td>\n      <td>0</td>\n      <td>-1.0</td>\n      <td>1</td>\n      <td>conv</td>\n      <td>auto</td>\n      <td>0</td>\n      <td>0</td>\n      <td>-1</td>\n    </tr>\n    <tr>\n      <th>24</th>\n      <td>167</td>\n      <td>67</td>\n      <td>0</td>\n      <td>1</td>\n      <td>0</td>\n      <td>-1.0</td>\n      <td>1</td>\n      <td>conv</td>\n      <td>auto</td>\n      <td>0</td>\n      <td>0</td>\n      <td>-1</td>\n    </tr>\n    <tr>\n      <th>25</th>\n      <td>107</td>\n      <td>7</td>\n      <td>0</td>\n      <td>0</td>\n      <td>1</td>\n      <td>-1.0</td>\n      <td>1</td>\n      <td>conv</td>\n      <td>auto</td>\n      <td>0</td>\n      <td>0</td>\n      <td>-1</td>\n    </tr>\n    <tr>\n      <th>26</th>\n      <td>107</td>\n      <td>160</td>\n      <td>0</td>\n      <td>0</td>\n      <td>1</td>\n      <td>-1.0</td>\n      <td>1</td>\n      <td>dcmesh</td>\n      <td>auto</td>\n      <td>0</td>\n      <td>0</td>\n      <td>-1</td>\n    </tr>\n    <tr>\n      <th>27</th>\n      <td>165</td>\n      <td>160</td>\n      <td>0</td>\n      <td>0</td>\n      <td>1</td>\n      <td>-1.0</td>\n      <td>1</td>\n      <td>dcmesh</td>\n      <td>auto</td>\n      <td>0</td>\n      <td>0</td>\n      <td>-1</td>\n    </tr>\n    <tr>\n      <th>28</th>\n      <td>106</td>\n      <td>140</td>\n      <td>0</td>\n      <td>0</td>\n      <td>1</td>\n      <td>-1.0</td>\n      <td>1</td>\n      <td>dcmesh</td>\n      <td>auto</td>\n      <td>0</td>\n      <td>0</td>\n      <td>-1</td>\n    </tr>\n    <tr>\n      <th>29</th>\n      <td>106</td>\n      <td>6</td>\n      <td>0</td>\n      <td>0</td>\n      <td>1</td>\n      <td>-1.0</td>\n      <td>1</td>\n      <td>conv</td>\n      <td>auto</td>\n      <td>0</td>\n      <td>0</td>\n      <td>-1</td>\n    </tr>\n    <tr>\n      <th>30</th>\n      <td>104</td>\n      <td>150</td>\n      <td>0</td>\n      <td>0</td>\n      <td>1</td>\n      <td>-1.0</td>\n      <td>1</td>\n      <td>dcmesh</td>\n      <td>considered both stage 1 and stage 2</td>\n      <td>0</td>\n      <td>0</td>\n      <td>-1</td>\n    </tr>\n  </tbody>\n</table>\n</div>",
          "text/plain": "   node_from node_to  capacity  expand  expand2  distance  cost_scaling  \\\n0          5       1      3600       0        0       0.0             1   \n1          4       1      6000       0        0       0.0             1   \n2          6       2      1500       0        0       0.0             1   \n3          7       3      1500       0        0       0.0             1   \n4          7       4         0       1        0      -1.0             1   \n5         67      66         0       1        0      -1.0             1   \n6         63      67         0       1        0      -1.0             1   \n7         40      65         0       1        0      -1.0             1   \n8         50      63         0       0        1      -1.0             1   \n9         65      60         0       0        1      -1.0             1   \n10       104     150         0       1        0      -1.0             1   \n11       166     165         0       1        0      -1.0             1   \n12       167     166         0       1        0      -1.0             1   \n13       163     167         0       1        0      -1.0             1   \n14       140     165         0       1        0      -1.0             1   \n15       165     104         0       1        0      -1.0             1   \n16       166     105         0       1        0      -1.0             1   \n17       167     105         0       1        0      -1.0             1   \n18       104       4         0       1        0      -1.0             1   \n19       105       5         0       1        0      -1.0             1   \n20       140      40         0       1        0      -1.0             1   \n21       163      63         0       1        0      -1.0             1   \n22       165      65         0       1        0      -1.0             1   \n23       166      66         0       1        0      -1.0             1   \n24       167      67         0       1        0      -1.0             1   \n25       107       7         0       0        1      -1.0             1   \n26       107     160         0       0        1      -1.0             1   \n27       165     160         0       0        1      -1.0             1   \n28       106     140         0       0        1      -1.0             1   \n29       106       6         0       0        1      -1.0             1   \n30       104     150         0       0        1      -1.0             1   \n\n        type                              comment  capacity2  reactance  \\\n0         ac     zero distance to get zero losses          0          0   \n1         ac     zero distance to get zero losses          0          0   \n2         ac     zero distance to get zero losses          0          0   \n3         ac     zero distance to get zero losses          0          0   \n4   dcdirect                         NO-UK direct          0          0   \n5         ac                                 auto          0          0   \n6         ac                                 auto          0          0   \n7         ac                                 auto          0          0   \n8         ac                                 auto          0          0   \n9         ac                                 auto          0          0   \n10    dcmesh                                 auto          0          0   \n11    dcmesh                                 auto          0          0   \n12    dcmesh                                 auto          0          0   \n13    dcmesh                                 auto          0          0   \n14    dcmesh                                 auto          0          0   \n15    dcmesh                                 auto          0          0   \n16    dcmesh                                 auto          0          0   \n17    dcmesh                                 auto          0          0   \n18      conv                                 auto          0          0   \n19      conv                                 auto          0          0   \n20      conv                                 auto          0          0   \n21      conv                                 auto          0          0   \n22      conv                                 auto          0          0   \n23      conv                                 auto          0          0   \n24      conv                                 auto          0          0   \n25      conv                                 auto          0          0   \n26    dcmesh                                 auto          0          0   \n27    dcmesh                                 auto          0          0   \n28    dcmesh                                 auto          0          0   \n29      conv                                 auto          0          0   \n30    dcmesh  considered both stage 1 and stage 2          0          0   \n\n    max_newCap  \n0           -1  \n1           -1  \n2           -1  \n3           -1  \n4           -1  \n5           -1  \n6           -1  \n7           -1  \n8           -1  \n9           -1  \n10          -1  \n11          -1  \n12          -1  \n13          -1  \n14          -1  \n15          -1  \n16          -1  \n17          -1  \n18          -1  \n19          -1  \n20          -1  \n21          -1  \n22          -1  \n23          -1  \n24          -1  \n25          -1  \n26          -1  \n27          -1  \n28          -1  \n29          -1  \n30          -1  "
         },
         "metadata": {},
         "output_type": "display_data"
        },
        {
         "name": "stdout",
         "output_type": "stream",
         "text": "Select variable\n"
        }
       ]
      }
     },
     "dc04d91ee1a3432eb40030e2a2c007e1": {
      "model_module": "@jupyter-widgets/controls",
      "model_module_version": "1.5.0",
      "model_name": "DropdownModel",
      "state": {
       "_options_labels": [
        "",
        "node",
        "branch",
        "generators",
        "consumers"
       ],
       "description": "x",
       "index": 2,
       "layout": "IPY_MODEL_b2d080ca06db464980d88a2756f406f8",
       "style": "IPY_MODEL_c0890f2b41004e999e8cdad550eba802"
      }
     },
     "dcf4174b3b234af69048523273f8213a": {
      "model_module": "@jupyter-widgets/controls",
      "model_module_version": "1.5.0",
      "model_name": "DropdownModel",
      "state": {
       "_options_labels": [
        "input",
        "Scenario1_1",
        "Scenario1_2",
        "Scenario2_1",
        "Scenario2_2",
        "Scenario3_1",
        "Scenario3_2"
       ],
       "description": "x",
       "index": 1,
       "layout": "IPY_MODEL_dfa44c4a4ffc48969e03180eee676524",
       "style": "IPY_MODEL_d60f065d67f44afeaf057d6adc197d94"
      }
     },
     "de191224709448e7969745d9ae3cac77": {
      "model_module": "@jupyter-widgets/base",
      "model_module_version": "1.2.0",
      "model_name": "LayoutModel",
      "state": {}
     },
     "dfa44c4a4ffc48969e03180eee676524": {
      "model_module": "@jupyter-widgets/base",
      "model_module_version": "1.2.0",
      "model_name": "LayoutModel",
      "state": {}
     },
     "e1d96b06e88f4aba9775723ebab944e8": {
      "model_module": "@jupyter-widgets/base",
      "model_module_version": "1.2.0",
      "model_name": "LayoutModel",
      "state": {}
     },
     "e480492b529d442faa8ca9f28811920e": {
      "model_module": "@jupyter-widgets/base",
      "model_module_version": "1.2.0",
      "model_name": "LayoutModel",
      "state": {}
     },
     "e5de02ee10c942aba8be9dd336badba8": {
      "model_module": "@jupyter-widgets/output",
      "model_module_version": "1.0.0",
      "model_name": "OutputModel",
      "state": {
       "layout": "IPY_MODEL_0cb259cf525b465285f96be12f69203d",
       "outputs": [
        {
         "name": "stdout",
         "output_type": "stream",
         "text": "Offshore grid\n"
        },
        {
         "data": {
          "text/html": "<div style=\"width:100%;\"><div style=\"position:relative;width:100%;height:0;padding-bottom:60%;\"><iframe src=\"data:text/html;charset=utf-8;base64,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\" style=\"position:absolute;width:100%;height:100%;left:0;top:0;border:none !important;\" allowfullscreen webkitallowfullscreen mozallowfullscreen></iframe></div></div>",
          "text/plain": "<folium.folium.Map at 0x2769f645408>"
         },
         "metadata": {},
         "output_type": "display_data"
        }
       ]
      }
     },
     "e6e07f86519a4910879eacf4d06d5885": {
      "model_module": "@jupyter-widgets/base",
      "model_module_version": "1.2.0",
      "model_name": "LayoutModel",
      "state": {}
     },
     "e7145960f73a4591acec4acd5ee445d7": {
      "model_module": "@jupyter-widgets/controls",
      "model_module_version": "1.5.0",
      "model_name": "DropdownModel",
      "state": {
       "_options_labels": [
        "input",
        "opt1",
        "opt_Scenario1_1",
        "opt_Scenario1_2",
        "opt_Scenario2_1",
        "opt_Scenario2_2",
        "opt_Scenario3_1",
        "opt_Scenario3_2"
       ],
       "description": "x",
       "index": 5,
       "layout": "IPY_MODEL_d2f19d7ac45b4dbe91f90b5a1f31bb54",
       "style": "IPY_MODEL_ca633e084a384cbe9c4519900a323ad7"
      }
     },
     "e899c0b5a2704d06b99b7212ac76c5e7": {
      "model_module": "@jupyter-widgets/base",
      "model_module_version": "1.2.0",
      "model_name": "LayoutModel",
      "state": {}
     },
     "e92cf6b31b79418c8618e1cecd65c6b2": {
      "model_module": "@jupyter-widgets/base",
      "model_module_version": "1.2.0",
      "model_name": "LayoutModel",
      "state": {}
     },
     "e960b4301b284e07b913af4f0d0d6ca7": {
      "model_module": "@jupyter-widgets/base",
      "model_module_version": "1.2.0",
      "model_name": "LayoutModel",
      "state": {}
     },
     "e9af4e695a8842a4831f4345ada5eb27": {
      "model_module": "@jupyter-widgets/controls",
      "model_module_version": "1.5.0",
      "model_name": "DropdownModel",
      "state": {
       "_options_labels": [
        "nodes",
        "branches",
        "generators",
        "consumers"
       ],
       "description": "x",
       "index": 0,
       "layout": "IPY_MODEL_bcd7d6fdb4ee417bb6703abd017698a2",
       "style": "IPY_MODEL_87b28eeaa3614f6cb5aa6ed052ea3af8"
      }
     },
     "edf7ca06896540e397961b0eeef96d78": {
      "model_module": "@jupyter-widgets/output",
      "model_module_version": "1.0.0",
      "model_name": "OutputModel",
      "state": {
       "layout": "IPY_MODEL_071f2d0525bc438792f64d53c8478f8b",
       "outputs": [
        {
         "name": "stdout",
         "output_type": "stream",
         "text": "Select data to display\n"
        }
       ]
      }
     },
     "efee03225b3c4f1bb1fdf8c4a42f6de4": {
      "model_module": "@jupyter-widgets/controls",
      "model_module_version": "1.5.0",
      "model_name": "DropdownModel",
      "state": {
       "_options_labels": [
        "input",
        "opt1",
        "opt_Scenario1_1",
        "opt_Scenario2_1",
        "opt_Scenario3_1",
        "opt_Scenario1_2",
        "opt_Scenario2_2",
        "opt_Scenario3_2"
       ],
       "description": "x",
       "index": 3,
       "layout": "IPY_MODEL_1771dfd48a374f549e2aed8d04178373",
       "style": "IPY_MODEL_ac62fcd41f104931a9bc34a163af0eea"
      }
     },
     "f06a1d7b26dd43978ebd837ea960113e": {
      "model_module": "@jupyter-widgets/base",
      "model_module_version": "1.2.0",
      "model_name": "LayoutModel",
      "state": {}
     },
     "f16093b5a77f4b1ca38506aac687b670": {
      "model_module": "@jupyter-widgets/controls",
      "model_module_version": "1.5.0",
      "model_name": "DescriptionStyleModel",
      "state": {
       "description_width": ""
      }
     },
     "f1d223906c8a45b5ba76355cf7b00527": {
      "model_module": "@jupyter-widgets/controls",
      "model_module_version": "1.5.0",
      "model_name": "DescriptionStyleModel",
      "state": {
       "description_width": ""
      }
     },
     "f39568b5b2954956bcdab3af13a6d5a2": {
      "model_module": "@jupyter-widgets/base",
      "model_module_version": "1.2.0",
      "model_name": "LayoutModel",
      "state": {}
     },
     "f5c447afa77d43d79b342c7f82b98e66": {
      "model_module": "@jupyter-widgets/base",
      "model_module_version": "1.2.0",
      "model_name": "LayoutModel",
      "state": {}
     },
     "f70a38a9458448da8cd3a2cffd0b2a54": {
      "model_module": "@jupyter-widgets/output",
      "model_module_version": "1.0.0",
      "model_name": "OutputModel",
      "state": {
       "layout": "IPY_MODEL_26ba569f95cf4f16a61fbf477ada536a",
       "outputs": [
        {
         "name": "stdout",
         "output_type": "stream",
         "text": "Offshore grid - Scenario1_2\n"
        },
        {
         "data": {
          "text/html": "<div style=\"width:100%;\"><div style=\"position:relative;width:100%;height:0;padding-bottom:60%;\"><iframe src=\"data:text/html;charset=utf-8;base64,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\" style=\"position:absolute;width:100%;height:100%;left:0;top:0;border:none !important;\" allowfullscreen webkitallowfullscreen mozallowfullscreen></iframe></div></div>",
          "text/plain": "<folium.folium.Map at 0x276aeb6c708>"
         },
         "metadata": {},
         "output_type": "display_data"
        }
       ]
      }
     },
     "f7b32200afcb4da8bcf34715d42d8e8f": {
      "model_module": "@jupyter-widgets/output",
      "model_module_version": "1.0.0",
      "model_name": "OutputModel",
      "state": {
       "layout": "IPY_MODEL_9fe7f19e703e449d8ee1d46bf5697c9f",
       "outputs": [
        {
         "name": "stdout",
         "output_type": "stream",
         "text": "Offshore grid - Scenario2_2\n"
        },
        {
         "data": {
          "text/html": "<div style=\"width:100%;\"><div style=\"position:relative;width:100%;height:0;padding-bottom:60%;\"><iframe src=\"data:text/html;charset=utf-8;base64,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\" style=\"position:absolute;width:100%;height:100%;left:0;top:0;border:none !important;\" allowfullscreen webkitallowfullscreen mozallowfullscreen></iframe></div></div>",
          "text/plain": "<folium.folium.Map at 0x276aeb8b348>"
         },
         "metadata": {},
         "output_type": "display_data"
        }
       ]
      }
     },
     "f83727a0d5694d369e4a8eede98dec3f": {
      "model_module": "@jupyter-widgets/base",
      "model_module_version": "1.2.0",
      "model_name": "LayoutModel",
      "state": {}
     },
     "f904572707c644839fe2a7bb2a091ef3": {
      "model_module": "@jupyter-widgets/output",
      "model_module_version": "1.0.0",
      "model_name": "OutputModel",
      "state": {
       "layout": "IPY_MODEL_c6c3ca8f668f4ab583b8367e682599f0",
       "outputs": [
        {
         "data": {
          "text/html": "<div>\n<style scoped>\n    .dataframe tbody tr th:only-of-type {\n        vertical-align: middle;\n    }\n\n    .dataframe tbody tr th {\n        vertical-align: top;\n    }\n\n    .dataframe thead th {\n        text-align: right;\n    }\n</style>\n<table border=\"1\" class=\"dataframe\">\n  <thead>\n    <tr style=\"text-align: right;\">\n      <th></th>\n      <th>desc</th>\n      <th>type</th>\n      <th>node</th>\n      <th>pmax</th>\n      <th>pmax2</th>\n      <th>pmin</th>\n      <th>fuelcost</th>\n      <th>fuelcost_ref</th>\n      <th>pavg</th>\n      <th>inflow_fac</th>\n      <th>...</th>\n      <th>cost_scaling</th>\n      <th>p_maxNew</th>\n      <th>storage_cap</th>\n      <th>storage_price</th>\n      <th>storage_ini</th>\n      <th>storval_filling_ref</th>\n      <th>storval_time_ref</th>\n      <th>pump_cap</th>\n      <th>pump_efficiency</th>\n      <th>pump_deadband</th>\n    </tr>\n  </thead>\n  <tbody>\n    <tr>\n      <th>0</th>\n      <td>UK</td>\n      <td>alt</td>\n      <td>1</td>\n      <td>100000</td>\n      <td>0</td>\n      <td>0</td>\n      <td>1</td>\n      <td>prices_GB</td>\n      <td>0</td>\n      <td>1</td>\n      <td>...</td>\n      <td>1</td>\n      <td>0</td>\n      <td>0</td>\n      <td>NaN</td>\n      <td>NaN</td>\n      <td>NaN</td>\n      <td>NaN</td>\n      <td>NaN</td>\n      <td>NaN</td>\n      <td>NaN</td>\n    </tr>\n    <tr>\n      <th>1</th>\n      <td>DE</td>\n      <td>alt</td>\n      <td>2</td>\n      <td>100000</td>\n      <td>0</td>\n      <td>0</td>\n      <td>1</td>\n      <td>prices_DE</td>\n      <td>0</td>\n      <td>1</td>\n      <td>...</td>\n      <td>1</td>\n      <td>0</td>\n      <td>0</td>\n      <td>NaN</td>\n      <td>NaN</td>\n      <td>NaN</td>\n      <td>NaN</td>\n      <td>NaN</td>\n      <td>NaN</td>\n      <td>NaN</td>\n    </tr>\n    <tr>\n      <th>2</th>\n      <td>NO</td>\n      <td>alt</td>\n      <td>3</td>\n      <td>100000</td>\n      <td>0</td>\n      <td>0</td>\n      <td>1</td>\n      <td>prices_NO_south</td>\n      <td>0</td>\n      <td>1</td>\n      <td>...</td>\n      <td>1</td>\n      <td>0</td>\n      <td>0</td>\n      <td>NaN</td>\n      <td>NaN</td>\n      <td>NaN</td>\n      <td>NaN</td>\n      <td>NaN</td>\n      <td>NaN</td>\n      <td>NaN</td>\n    </tr>\n    <tr>\n      <th>3</th>\n      <td>Creyke Beck B 12</td>\n      <td>wind</td>\n      <td>67</td>\n      <td>600</td>\n      <td>0</td>\n      <td>0</td>\n      <td>0</td>\n      <td>const</td>\n      <td>0</td>\n      <td>1</td>\n      <td>...</td>\n      <td>1</td>\n      <td>0</td>\n      <td>0</td>\n      <td>NaN</td>\n      <td>NaN</td>\n      <td>NaN</td>\n      <td>NaN</td>\n      <td>NaN</td>\n      <td>NaN</td>\n      <td>NaN</td>\n    </tr>\n    <tr>\n      <th>4</th>\n      <td>Creyke Beck B 34</td>\n      <td>wind</td>\n      <td>63</td>\n      <td>600</td>\n      <td>0</td>\n      <td>0</td>\n      <td>0</td>\n      <td>const</td>\n      <td>0</td>\n      <td>1</td>\n      <td>...</td>\n      <td>1</td>\n      <td>0</td>\n      <td>0</td>\n      <td>NaN</td>\n      <td>NaN</td>\n      <td>NaN</td>\n      <td>NaN</td>\n      <td>NaN</td>\n      <td>NaN</td>\n      <td>NaN</td>\n    </tr>\n    <tr>\n      <th>5</th>\n      <td>Creyke Beck A</td>\n      <td>wind</td>\n      <td>66</td>\n      <td>1200</td>\n      <td>0</td>\n      <td>0</td>\n      <td>0</td>\n      <td>const</td>\n      <td>0</td>\n      <td>1</td>\n      <td>...</td>\n      <td>1</td>\n      <td>0</td>\n      <td>0</td>\n      <td>NaN</td>\n      <td>NaN</td>\n      <td>NaN</td>\n      <td>NaN</td>\n      <td>NaN</td>\n      <td>NaN</td>\n      <td>NaN</td>\n    </tr>\n    <tr>\n      <th>6</th>\n      <td>Teeside A</td>\n      <td>wind</td>\n      <td>65</td>\n      <td>1200</td>\n      <td>0</td>\n      <td>0</td>\n      <td>0</td>\n      <td>const</td>\n      <td>0</td>\n      <td>1</td>\n      <td>...</td>\n      <td>1</td>\n      <td>0</td>\n      <td>0</td>\n      <td>NaN</td>\n      <td>NaN</td>\n      <td>NaN</td>\n      <td>NaN</td>\n      <td>NaN</td>\n      <td>NaN</td>\n      <td>NaN</td>\n    </tr>\n    <tr>\n      <th>7</th>\n      <td>Teeside B</td>\n      <td>wind</td>\n      <td>40</td>\n      <td>1200</td>\n      <td>0</td>\n      <td>0</td>\n      <td>0</td>\n      <td>const</td>\n      <td>0</td>\n      <td>1</td>\n      <td>...</td>\n      <td>1</td>\n      <td>0</td>\n      <td>0</td>\n      <td>NaN</td>\n      <td>NaN</td>\n      <td>NaN</td>\n      <td>NaN</td>\n      <td>NaN</td>\n      <td>NaN</td>\n      <td>NaN</td>\n    </tr>\n    <tr>\n      <th>8</th>\n      <td>Teeside C</td>\n      <td>wind</td>\n      <td>50</td>\n      <td>0</td>\n      <td>1200</td>\n      <td>0</td>\n      <td>0</td>\n      <td>const</td>\n      <td>0</td>\n      <td>1</td>\n      <td>...</td>\n      <td>1</td>\n      <td>0</td>\n      <td>0</td>\n      <td>NaN</td>\n      <td>NaN</td>\n      <td>NaN</td>\n      <td>NaN</td>\n      <td>NaN</td>\n      <td>NaN</td>\n      <td>NaN</td>\n    </tr>\n    <tr>\n      <th>9</th>\n      <td>Teeside D</td>\n      <td>wind</td>\n      <td>60</td>\n      <td>0</td>\n      <td>0</td>\n      <td>0</td>\n      <td>0</td>\n      <td>const</td>\n      <td>0</td>\n      <td>1</td>\n      <td>...</td>\n      <td>1</td>\n      <td>0</td>\n      <td>0</td>\n      <td>NaN</td>\n      <td>NaN</td>\n      <td>NaN</td>\n      <td>NaN</td>\n      <td>NaN</td>\n      <td>NaN</td>\n      <td>NaN</td>\n    </tr>\n  </tbody>\n</table>\n<p>10 rows × 23 columns</p>\n</div>",
          "text/plain": "               desc  type node    pmax  pmax2  pmin  fuelcost  \\\n0                UK   alt    1  100000      0     0         1   \n1                DE   alt    2  100000      0     0         1   \n2                NO   alt    3  100000      0     0         1   \n3  Creyke Beck B 12  wind   67     600      0     0         0   \n4  Creyke Beck B 34  wind   63     600      0     0         0   \n5     Creyke Beck A  wind   66    1200      0     0         0   \n6         Teeside A  wind   65    1200      0     0         0   \n7         Teeside B  wind   40    1200      0     0         0   \n8         Teeside C  wind   50       0   1200     0         0   \n9         Teeside D  wind   60       0      0     0         0   \n\n      fuelcost_ref  pavg  inflow_fac  ... cost_scaling  p_maxNew  storage_cap  \\\n0        prices_GB     0           1  ...            1         0            0   \n1        prices_DE     0           1  ...            1         0            0   \n2  prices_NO_south     0           1  ...            1         0            0   \n3            const     0           1  ...            1         0            0   \n4            const     0           1  ...            1         0            0   \n5            const     0           1  ...            1         0            0   \n6            const     0           1  ...            1         0            0   \n7            const     0           1  ...            1         0            0   \n8            const     0           1  ...            1         0            0   \n9            const     0           1  ...            1         0            0   \n\n   storage_price  storage_ini  storval_filling_ref  storval_time_ref  \\\n0            NaN          NaN                  NaN               NaN   \n1            NaN          NaN                  NaN               NaN   \n2            NaN          NaN                  NaN               NaN   \n3            NaN          NaN                  NaN               NaN   \n4            NaN          NaN                  NaN               NaN   \n5            NaN          NaN                  NaN               NaN   \n6            NaN          NaN                  NaN               NaN   \n7            NaN          NaN                  NaN               NaN   \n8            NaN          NaN                  NaN               NaN   \n9            NaN          NaN                  NaN               NaN   \n\n   pump_cap  pump_efficiency  pump_deadband  \n0       NaN              NaN            NaN  \n1       NaN              NaN            NaN  \n2       NaN              NaN            NaN  \n3       NaN              NaN            NaN  \n4       NaN              NaN            NaN  \n5       NaN              NaN            NaN  \n6       NaN              NaN            NaN  \n7       NaN              NaN            NaN  \n8       NaN              NaN            NaN  \n9       NaN              NaN            NaN  \n\n[10 rows x 23 columns]"
         },
         "metadata": {},
         "output_type": "display_data"
        }
       ]
      }
     },
     "f99536faa5f040fb925f7938d1a0c8a2": {
      "model_module": "@jupyter-widgets/output",
      "model_module_version": "1.0.0",
      "model_name": "OutputModel",
      "state": {
       "layout": "IPY_MODEL_5756d65b916c4495a1d26a415ee51ca6",
       "outputs": [
        {
         "name": "stdout",
         "output_type": "stream",
         "text": "Select data to display\n"
        }
       ]
      }
     },
     "fa400e62e0c94996ace7ea2fb05ac3fe": {
      "model_module": "@jupyter-widgets/base",
      "model_module_version": "1.2.0",
      "model_name": "LayoutModel",
      "state": {}
     },
     "fb0e741eee0a49b29a066ae14155af84": {
      "model_module": "@jupyter-widgets/controls",
      "model_module_version": "1.5.0",
      "model_name": "DescriptionStyleModel",
      "state": {
       "description_width": ""
      }
     },
     "fbf05e5100aa46479c7f3226549fbd5d": {
      "model_module": "@jupyter-widgets/base",
      "model_module_version": "1.2.0",
      "model_name": "LayoutModel",
      "state": {}
     },
     "fc2a94af09ff492aa106ee5c780c028b": {
      "model_module": "@jupyter-widgets/base",
      "model_module_version": "1.2.0",
      "model_name": "LayoutModel",
      "state": {}
     },
     "fe4577a5bba2481881e120526c2ce63b": {
      "model_module": "@jupyter-widgets/base",
      "model_module_version": "1.2.0",
      "model_name": "LayoutModel",
      "state": {}
     },
     "fe4cd1ff52de4d1598541cd05e03c1e2": {
      "model_module": "@jupyter-widgets/base",
      "model_module_version": "1.2.0",
      "model_name": "LayoutModel",
      "state": {}
     },
     "ff0c2f6bd6c4445581ec2114be03480f": {
      "model_module": "@jupyter-widgets/base",
      "model_module_version": "1.2.0",
      "model_name": "LayoutModel",
      "state": {}
     }
    },
    "version_major": 2,
    "version_minor": 0
   }
  }
 },
 "nbformat": 4,
 "nbformat_minor": 4
}
