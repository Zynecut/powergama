{
 "metadata": {
  "name": "powergama example"
 },
 "nbformat": 3,
 "nbformat_minor": 0,
 "worksheets": [
  {
   "cells": [
    {
     "cell_type": "heading",
     "level": 1,
     "metadata": {},
     "source": "PowerGAMA\nExample based on a modified 9-bus case"
    },
    {
     "cell_type": "code",
     "collapsed": false,
     "input": "import powergama\nimport numpy\nimport time\n\n# This statement seems necessary to get inline plots on Mac, but not necessary on Windows\n%matplotlib inline",
     "language": "python",
     "metadata": {},
     "outputs": [
      {
       "output_type": "stream",
       "stream": "stderr",
       "text": "ERROR: Line magic function `%matplotlib` not found."
      }
     ],
     "prompt_number": 68
    },
    {
     "cell_type": "code",
     "collapsed": false,
     "input": "# Use \"%load\" to copy-paste from a script file\n#%load /Users/krokfolk/Documents/2 Harald/developer/powergama/powergama/examples/example_9busmod.py",
     "language": "python",
     "metadata": {},
     "outputs": [],
     "prompt_number": 69
    },
    {
     "cell_type": "code",
     "collapsed": false,
     "input": "# Alternative 1: Use example data bundled with the package\nimport os\npathbase=os.path.split(powergama.__path__[0])[0]\ndatapath=str(os.path.join(pathbase,'examples','data','9busmod_'))\n\n# Alternative 2: Soecify explicityly where the data files are (time series and profiles)\n#datapath= \"C:\\Users\\hsven\\Documents\\python\\powergama\\powergama\\examples\\data\\9busmod_\"\n\n# Specity time range for simulation\ntimerange=range(0,24*7*1)",
     "language": "python",
     "metadata": {},
     "outputs": [],
     "prompt_number": 112
    },
    {
     "cell_type": "code",
     "collapsed": false,
     "input": "# Build and solve the problem\n\ndata = powergama.GridData()\n\ndata.readGridData(nodes=datapath+\"nodes.csv\",\n                  ac_branches=datapath+\"branches.csv\",\n                  dc_branches=None,\n                  generators=datapath+\"generators.csv\",\n                  consumers=datapath+\"consumers.csv\")\ndata.readProfileData(inflow=datapath+\"profiles_inflow.csv\",\n            demand=datapath+\"profiles_demand.csv\",\n            storagevalue_filling=datapath+\"profiles_storval_filling.csv\",\n            storagevalue_time=datapath+\"profiles_storval_time.csv\",\n            timerange=timerange, \n            timedelta=1.0)\n\nlp = powergama.LpProblem(data)\nstart_time = time.time()\nres = lp.solve()\nend_time = time.time()\nprint \"Simulation time = %.2f\" % (end_time - start_time), \"seconds\"\n",
     "language": "python",
     "metadata": {},
     "outputs": [
      {
       "output_type": "stream",
       "stream": "stdout",
       "text": "Computing B and DA matrices...\nCreating B.theta and DA.theta expressions\nDefining constraints...\nPower flow equations...\nObjective function...\n  Using fixed load shedding cost of 1000.000000. One per node\nSolving...\n\rProgress: [                    ] 0 (0%)  "
      },
      {
       "output_type": "stream",
       "stream": "stdout",
       "text": "\rProgress: [                    ] 1 (1%)  "
      },
      {
       "output_type": "stream",
       "stream": "stdout",
       "text": "\rProgress: [                    ] 2 (1%)  "
      },
      {
       "output_type": "stream",
       "stream": "stdout",
       "text": "\rProgress: [                    ] 3 (2%)  "
      },
      {
       "output_type": "stream",
       "stream": "stdout",
       "text": "\rProgress: [=                   ] 4 (2%)  "
      },
      {
       "output_type": "stream",
       "stream": "stdout",
       "text": "\rProgress: [=                   ] 5 (3%)  "
      },
      {
       "output_type": "stream",
       "stream": "stdout",
       "text": "\rProgress: [=                   ] 6 (4%)  "
      },
      {
       "output_type": "stream",
       "stream": "stdout",
       "text": "\rProgress: [=                   ] 7 (4%)  "
      },
      {
       "output_type": "stream",
       "stream": "stdout",
       "text": "\rProgress: [=                   ] 8 (5%)  "
      },
      {
       "output_type": "stream",
       "stream": "stdout",
       "text": "\rProgress: [=                   ] 9 (5%)  "
      },
      {
       "output_type": "stream",
       "stream": "stdout",
       "text": "\rProgress: [=                   ] 10 (6%)  "
      },
      {
       "output_type": "stream",
       "stream": "stdout",
       "text": "\rProgress: [=                   ] 11 (7%)  "
      },
      {
       "output_type": "stream",
       "stream": "stdout",
       "text": "\rProgress: [==                  ] 12 (7%)  "
      },
      {
       "output_type": "stream",
       "stream": "stdout",
       "text": "\rProgress: [==                  ] 13 (8%)  "
      },
      {
       "output_type": "stream",
       "stream": "stdout",
       "text": "\rProgress: [==                  ] 14 (8%)  "
      },
      {
       "output_type": "stream",
       "stream": "stdout",
       "text": "\rProgress: [==                  ] 15 (9%)  "
      },
      {
       "output_type": "stream",
       "stream": "stdout",
       "text": "\rProgress: [==                  ] 16 (10%)  "
      },
      {
       "output_type": "stream",
       "stream": "stdout",
       "text": "\rProgress: [==                  ] 17 (10%)  "
      },
      {
       "output_type": "stream",
       "stream": "stdout",
       "text": "\rProgress: [==                  ] 18 (11%)  "
      },
      {
       "output_type": "stream",
       "stream": "stdout",
       "text": "\rProgress: [==                  ] 19 (11%)  "
      },
      {
       "output_type": "stream",
       "stream": "stdout",
       "text": "\rProgress: [===                 ] 20 (12%)  "
      },
      {
       "output_type": "stream",
       "stream": "stdout",
       "text": "\rProgress: [===                 ] 21 (13%)  "
      },
      {
       "output_type": "stream",
       "stream": "stdout",
       "text": "\rProgress: [===                 ] 22 (13%)  "
      },
      {
       "output_type": "stream",
       "stream": "stdout",
       "text": "\rProgress: [===                 ] 23 (14%)  "
      },
      {
       "output_type": "stream",
       "stream": "stdout",
       "text": "\rProgress: [===                 ] 24 (14%)  "
      },
      {
       "output_type": "stream",
       "stream": "stdout",
       "text": "\rProgress: [===                 ] 25 (15%)  "
      },
      {
       "output_type": "stream",
       "stream": "stdout",
       "text": "\rProgress: [===                 ] 26 (16%)  "
      },
      {
       "output_type": "stream",
       "stream": "stdout",
       "text": "\rProgress: [===                 ] 27 (16%)  "
      },
      {
       "output_type": "stream",
       "stream": "stdout",
       "text": "\rProgress: [===                 ] 28 (17%)  "
      },
      {
       "output_type": "stream",
       "stream": "stdout",
       "text": "\rProgress: [====                ] 29 (17%)  "
      },
      {
       "output_type": "stream",
       "stream": "stdout",
       "text": "\rProgress: [====                ] 30 (18%)  "
      },
      {
       "output_type": "stream",
       "stream": "stdout",
       "text": "\rProgress: [====                ] 31 (19%)  "
      },
      {
       "output_type": "stream",
       "stream": "stdout",
       "text": "\rProgress: [====                ] 32 (19%)  "
      },
      {
       "output_type": "stream",
       "stream": "stdout",
       "text": "\rProgress: [====                ] 33 (20%)  "
      },
      {
       "output_type": "stream",
       "stream": "stdout",
       "text": "\rProgress: [====                ] 34 (20%)  "
      },
      {
       "output_type": "stream",
       "stream": "stdout",
       "text": "\rProgress: [====                ] 35 (21%)  "
      },
      {
       "output_type": "stream",
       "stream": "stdout",
       "text": "\rProgress: [====                ] 36 (22%)  "
      },
      {
       "output_type": "stream",
       "stream": "stdout",
       "text": "\rProgress: [=====               ] 37 (22%)  "
      },
      {
       "output_type": "stream",
       "stream": "stdout",
       "text": "\rProgress: [=====               ] 38 (23%)  "
      },
      {
       "output_type": "stream",
       "stream": "stdout",
       "text": "\rProgress: [=====               ] 39 (23%)  "
      },
      {
       "output_type": "stream",
       "stream": "stdout",
       "text": "\rProgress: [=====               ] 40 (24%)  "
      },
      {
       "output_type": "stream",
       "stream": "stdout",
       "text": "\rProgress: [=====               ] 41 (25%)  "
      },
      {
       "output_type": "stream",
       "stream": "stdout",
       "text": "\rProgress: [=====               ] 42 (25%)  "
      },
      {
       "output_type": "stream",
       "stream": "stdout",
       "text": "\rProgress: [=====               ] 43 (26%)  "
      },
      {
       "output_type": "stream",
       "stream": "stdout",
       "text": "\rProgress: [=====               ] 44 (26%)  "
      },
      {
       "output_type": "stream",
       "stream": "stdout",
       "text": "\rProgress: [=====               ] 45 (27%)  "
      },
      {
       "output_type": "stream",
       "stream": "stdout",
       "text": "\rProgress: [======              ] 46 (27%)  "
      },
      {
       "output_type": "stream",
       "stream": "stdout",
       "text": "\rProgress: [======              ] 47 (28%)  "
      },
      {
       "output_type": "stream",
       "stream": "stdout",
       "text": "\rProgress: [======              ] 48 (29%)  "
      },
      {
       "output_type": "stream",
       "stream": "stdout",
       "text": "\rProgress: [======              ] 49 (29%)  "
      },
      {
       "output_type": "stream",
       "stream": "stdout",
       "text": "\rProgress: [======              ] 50 (30%)  "
      },
      {
       "output_type": "stream",
       "stream": "stdout",
       "text": "\rProgress: [======              ] 51 (30%)  "
      },
      {
       "output_type": "stream",
       "stream": "stdout",
       "text": "\rProgress: [======              ] 52 (31%)  "
      },
      {
       "output_type": "stream",
       "stream": "stdout",
       "text": "\rProgress: [======              ] 53 (32%)  "
      },
      {
       "output_type": "stream",
       "stream": "stdout",
       "text": "\rProgress: [=======             ] 54 (32%)  "
      },
      {
       "output_type": "stream",
       "stream": "stdout",
       "text": "\rProgress: [=======             ] 55 (33%)  "
      },
      {
       "output_type": "stream",
       "stream": "stdout",
       "text": "\rProgress: [=======             ] 56 (33%)  "
      },
      {
       "output_type": "stream",
       "stream": "stdout",
       "text": "\rProgress: [=======             ] 57 (34%)  "
      },
      {
       "output_type": "stream",
       "stream": "stdout",
       "text": "\rProgress: [=======             ] 58 (35%)  "
      },
      {
       "output_type": "stream",
       "stream": "stdout",
       "text": "\rProgress: [=======             ] 59 (35%)  "
      },
      {
       "output_type": "stream",
       "stream": "stdout",
       "text": "\rProgress: [=======             ] 60 (36%)  "
      },
      {
       "output_type": "stream",
       "stream": "stdout",
       "text": "\rProgress: [=======             ] 61 (36%)  "
      },
      {
       "output_type": "stream",
       "stream": "stdout",
       "text": "\rProgress: [========            ] 62 (37%)  "
      },
      {
       "output_type": "stream",
       "stream": "stdout",
       "text": "\rProgress: [========            ] 63 (38%)  "
      },
      {
       "output_type": "stream",
       "stream": "stdout",
       "text": "\rProgress: [========            ] 64 (38%)  "
      },
      {
       "output_type": "stream",
       "stream": "stdout",
       "text": "\rProgress: [========            ] 65 (39%)  "
      },
      {
       "output_type": "stream",
       "stream": "stdout",
       "text": "\rProgress: [========            ] 66 (39%)  "
      },
      {
       "output_type": "stream",
       "stream": "stdout",
       "text": "\rProgress: [========            ] 67 (40%)  "
      },
      {
       "output_type": "stream",
       "stream": "stdout",
       "text": "\rProgress: [========            ] 68 (41%)  "
      },
      {
       "output_type": "stream",
       "stream": "stdout",
       "text": "\rProgress: [========            ] 69 (41%)  "
      },
      {
       "output_type": "stream",
       "stream": "stdout",
       "text": "\rProgress: [========            ] 70 (42%)  "
      },
      {
       "output_type": "stream",
       "stream": "stdout",
       "text": "\rProgress: [=========           ] 71 (42%)  "
      },
      {
       "output_type": "stream",
       "stream": "stdout",
       "text": "\rProgress: [=========           ] 72 (43%)  "
      },
      {
       "output_type": "stream",
       "stream": "stdout",
       "text": "\rProgress: [=========           ] 73 (44%)  "
      },
      {
       "output_type": "stream",
       "stream": "stdout",
       "text": "\rProgress: [=========           ] 74 (44%)  "
      },
      {
       "output_type": "stream",
       "stream": "stdout",
       "text": "\rProgress: [=========           ] 75 (45%)  "
      },
      {
       "output_type": "stream",
       "stream": "stdout",
       "text": "\rProgress: [=========           ] 76 (45%)  "
      },
      {
       "output_type": "stream",
       "stream": "stdout",
       "text": "\rProgress: [=========           ] 77 (46%)  "
      },
      {
       "output_type": "stream",
       "stream": "stdout",
       "text": "\rProgress: [=========           ] 78 (47%)  "
      },
      {
       "output_type": "stream",
       "stream": "stdout",
       "text": "\rProgress: [==========          ] 79 (47%)  "
      },
      {
       "output_type": "stream",
       "stream": "stdout",
       "text": "\rProgress: [==========          ] 80 (48%)  "
      },
      {
       "output_type": "stream",
       "stream": "stdout",
       "text": "\rProgress: [==========          ] 81 (48%)  "
      },
      {
       "output_type": "stream",
       "stream": "stdout",
       "text": "\rProgress: [==========          ] 82 (49%)  "
      },
      {
       "output_type": "stream",
       "stream": "stdout",
       "text": "\rProgress: [==========          ] 83 (50%)  "
      },
      {
       "output_type": "stream",
       "stream": "stdout",
       "text": "\rProgress: [==========          ] 84 (50%)  "
      },
      {
       "output_type": "stream",
       "stream": "stdout",
       "text": "\rProgress: [==========          ] 85 (51%)  "
      },
      {
       "output_type": "stream",
       "stream": "stdout",
       "text": "\rProgress: [==========          ] 86 (51%)  "
      },
      {
       "output_type": "stream",
       "stream": "stdout",
       "text": "\rProgress: [==========          ] 87 (52%)  "
      },
      {
       "output_type": "stream",
       "stream": "stdout",
       "text": "\rProgress: [===========         ] 88 (52%)  "
      },
      {
       "output_type": "stream",
       "stream": "stdout",
       "text": "\rProgress: [===========         ] 89 (53%)  "
      },
      {
       "output_type": "stream",
       "stream": "stdout",
       "text": "\rProgress: [===========         ] 90 (54%)  "
      },
      {
       "output_type": "stream",
       "stream": "stdout",
       "text": "\rProgress: [===========         ] 91 (54%)  "
      },
      {
       "output_type": "stream",
       "stream": "stdout",
       "text": "\rProgress: [===========         ] 92 (55%)  "
      },
      {
       "output_type": "stream",
       "stream": "stdout",
       "text": "\rProgress: [===========         ] 93 (55%)  "
      },
      {
       "output_type": "stream",
       "stream": "stdout",
       "text": "\rProgress: [===========         ] 94 (56%)  "
      },
      {
       "output_type": "stream",
       "stream": "stdout",
       "text": "\rProgress: [===========         ] 95 (57%)  "
      },
      {
       "output_type": "stream",
       "stream": "stdout",
       "text": "\rProgress: [============        ] 96 (57%)  "
      },
      {
       "output_type": "stream",
       "stream": "stdout",
       "text": "\rProgress: [============        ] 97 (58%)  "
      },
      {
       "output_type": "stream",
       "stream": "stdout",
       "text": "\rProgress: [============        ] 98 (58%)  "
      },
      {
       "output_type": "stream",
       "stream": "stdout",
       "text": "\rProgress: [============        ] 99 (59%)  "
      },
      {
       "output_type": "stream",
       "stream": "stdout",
       "text": "\rProgress: [============        ] 100 (60%)  "
      },
      {
       "output_type": "stream",
       "stream": "stdout",
       "text": "\rProgress: [============        ] 101 (60%)  "
      },
      {
       "output_type": "stream",
       "stream": "stdout",
       "text": "\rProgress: [============        ] 102 (61%)  "
      },
      {
       "output_type": "stream",
       "stream": "stdout",
       "text": "\rProgress: [============        ] 103 (61%)  "
      },
      {
       "output_type": "stream",
       "stream": "stdout",
       "text": "\rProgress: [=============       ] 104 (62%)  "
      },
      {
       "output_type": "stream",
       "stream": "stdout",
       "text": "\rProgress: [=============       ] 105 (63%)  "
      },
      {
       "output_type": "stream",
       "stream": "stdout",
       "text": "\rProgress: [=============       ] 106 (63%)  "
      },
      {
       "output_type": "stream",
       "stream": "stdout",
       "text": "\rProgress: [=============       ] 107 (64%)  "
      },
      {
       "output_type": "stream",
       "stream": "stdout",
       "text": "\rProgress: [=============       ] 108 (64%)  "
      },
      {
       "output_type": "stream",
       "stream": "stdout",
       "text": "\rProgress: [=============       ] 109 (65%)  "
      },
      {
       "output_type": "stream",
       "stream": "stdout",
       "text": "\rProgress: [=============       ] 110 (66%)  "
      },
      {
       "output_type": "stream",
       "stream": "stdout",
       "text": "\rProgress: [=============       ] 111 (66%)  "
      },
      {
       "output_type": "stream",
       "stream": "stdout",
       "text": "\rProgress: [=============       ] 112 (67%)  "
      },
      {
       "output_type": "stream",
       "stream": "stdout",
       "text": "\rProgress: [==============      ] 113 (67%)  "
      },
      {
       "output_type": "stream",
       "stream": "stdout",
       "text": "\rProgress: [==============      ] 114 (68%)  "
      },
      {
       "output_type": "stream",
       "stream": "stdout",
       "text": "\rProgress: [==============      ] 115 (69%)  "
      },
      {
       "output_type": "stream",
       "stream": "stdout",
       "text": "\rProgress: [==============      ] 116 (69%)  "
      },
      {
       "output_type": "stream",
       "stream": "stdout",
       "text": "\rProgress: [==============      ] 117 (70%)  "
      },
      {
       "output_type": "stream",
       "stream": "stdout",
       "text": "\rProgress: [==============      ] 118 (70%)  "
      },
      {
       "output_type": "stream",
       "stream": "stdout",
       "text": "\rProgress: [==============      ] 119 (71%)  "
      },
      {
       "output_type": "stream",
       "stream": "stdout",
       "text": "\rProgress: [==============      ] 120 (72%)  "
      },
      {
       "output_type": "stream",
       "stream": "stdout",
       "text": "\rProgress: [===============     ] 121 (72%)  "
      },
      {
       "output_type": "stream",
       "stream": "stdout",
       "text": "\rProgress: [===============     ] 122 (73%)  "
      },
      {
       "output_type": "stream",
       "stream": "stdout",
       "text": "\rProgress: [===============     ] 123 (73%)  "
      },
      {
       "output_type": "stream",
       "stream": "stdout",
       "text": "\rProgress: [===============     ] 124 (74%)  "
      },
      {
       "output_type": "stream",
       "stream": "stdout",
       "text": "\rProgress: [===============     ] 125 (75%)  "
      },
      {
       "output_type": "stream",
       "stream": "stdout",
       "text": "\rProgress: [===============     ] 126 (75%)  "
      },
      {
       "output_type": "stream",
       "stream": "stdout",
       "text": "\rProgress: [===============     ] 127 (76%)  "
      },
      {
       "output_type": "stream",
       "stream": "stdout",
       "text": "\rProgress: [===============     ] 128 (76%)  "
      },
      {
       "output_type": "stream",
       "stream": "stdout",
       "text": "\rProgress: [===============     ] 129 (77%)  "
      },
      {
       "output_type": "stream",
       "stream": "stdout",
       "text": "\rProgress: [================    ] 130 (77%)  "
      },
      {
       "output_type": "stream",
       "stream": "stdout",
       "text": "\rProgress: [================    ] 131 (78%)  "
      },
      {
       "output_type": "stream",
       "stream": "stdout",
       "text": "\rProgress: [================    ] 132 (79%)  "
      },
      {
       "output_type": "stream",
       "stream": "stdout",
       "text": "\rProgress: [================    ] 133 (79%)  "
      },
      {
       "output_type": "stream",
       "stream": "stdout",
       "text": "\rProgress: [================    ] 134 (80%)  "
      },
      {
       "output_type": "stream",
       "stream": "stdout",
       "text": "\rProgress: [================    ] 135 (80%)  "
      },
      {
       "output_type": "stream",
       "stream": "stdout",
       "text": "\rProgress: [================    ] 136 (81%)  "
      },
      {
       "output_type": "stream",
       "stream": "stdout",
       "text": "\rProgress: [================    ] 137 (82%)  "
      },
      {
       "output_type": "stream",
       "stream": "stdout",
       "text": "\rProgress: [=================   ] 138 (82%)  "
      },
      {
       "output_type": "stream",
       "stream": "stdout",
       "text": "\rProgress: [=================   ] 139 (83%)  "
      },
      {
       "output_type": "stream",
       "stream": "stdout",
       "text": "\rProgress: [=================   ] 140 (83%)  "
      },
      {
       "output_type": "stream",
       "stream": "stdout",
       "text": "\rProgress: [=================   ] 141 (84%)  "
      },
      {
       "output_type": "stream",
       "stream": "stdout",
       "text": "\rProgress: [=================   ] 142 (85%)  "
      },
      {
       "output_type": "stream",
       "stream": "stdout",
       "text": "\rProgress: [=================   ] 143 (85%)  "
      },
      {
       "output_type": "stream",
       "stream": "stdout",
       "text": "\rProgress: [=================   ] 144 (86%)  "
      },
      {
       "output_type": "stream",
       "stream": "stdout",
       "text": "\rProgress: [=================   ] 145 (86%)  "
      },
      {
       "output_type": "stream",
       "stream": "stdout",
       "text": "\rProgress: [==================  ] 146 (87%)  "
      },
      {
       "output_type": "stream",
       "stream": "stdout",
       "text": "\rProgress: [==================  ] 147 (88%)  "
      },
      {
       "output_type": "stream",
       "stream": "stdout",
       "text": "\rProgress: [==================  ] 148 (88%)  "
      },
      {
       "output_type": "stream",
       "stream": "stdout",
       "text": "\rProgress: [==================  ] 149 (89%)  "
      },
      {
       "output_type": "stream",
       "stream": "stdout",
       "text": "\rProgress: [==================  ] 150 (89%)  "
      },
      {
       "output_type": "stream",
       "stream": "stdout",
       "text": "\rProgress: [==================  ] 151 (90%)  "
      },
      {
       "output_type": "stream",
       "stream": "stdout",
       "text": "\rProgress: [==================  ] 152 (91%)  "
      },
      {
       "output_type": "stream",
       "stream": "stdout",
       "text": "\rProgress: [==================  ] 153 (91%)  "
      },
      {
       "output_type": "stream",
       "stream": "stdout",
       "text": "\rProgress: [==================  ] 154 (92%)  "
      },
      {
       "output_type": "stream",
       "stream": "stdout",
       "text": "\rProgress: [=================== ] 155 (92%)  "
      },
      {
       "output_type": "stream",
       "stream": "stdout",
       "text": "\rProgress: [=================== ] 156 (93%)  "
      },
      {
       "output_type": "stream",
       "stream": "stdout",
       "text": "\rProgress: [=================== ] 157 (94%)  "
      },
      {
       "output_type": "stream",
       "stream": "stdout",
       "text": "\rProgress: [=================== ] 158 (94%)  "
      },
      {
       "output_type": "stream",
       "stream": "stdout",
       "text": "\rProgress: [=================== ] 159 (95%)  "
      },
      {
       "output_type": "stream",
       "stream": "stdout",
       "text": "\rProgress: [=================== ] 160 (95%)  "
      },
      {
       "output_type": "stream",
       "stream": "stdout",
       "text": "\rProgress: [=================== ] 161 (96%)  "
      },
      {
       "output_type": "stream",
       "stream": "stdout",
       "text": "\rProgress: [=================== ] 162 (97%)  "
      },
      {
       "output_type": "stream",
       "stream": "stdout",
       "text": "\rProgress: [====================] 163 (97%)  "
      },
      {
       "output_type": "stream",
       "stream": "stdout",
       "text": "\rProgress: [====================] 164 (98%)  "
      },
      {
       "output_type": "stream",
       "stream": "stdout",
       "text": "\rProgress: [====================] 165 (98%)  "
      },
      {
       "output_type": "stream",
       "stream": "stdout",
       "text": "\rProgress: [====================] 166 (99%)  "
      },
      {
       "output_type": "stream",
       "stream": "stdout",
       "text": "\rProgress: [====================] 167 (100%)  "
      },
      {
       "output_type": "stream",
       "stream": "stdout",
       "text": "Simulation time = 5.02 seconds\n"
      }
     ],
     "prompt_number": 113
    },
    {
     "cell_type": "code",
     "collapsed": false,
     "input": "print res.grid.node.area\nprint res.grid.generator.gentype\nres.plotGenerationPerArea('NA')",
     "language": "python",
     "metadata": {},
     "outputs": [
      {
       "output_type": "stream",
       "stream": "stdout",
       "text": "['NA', 'NA', 'NA', 'NA', 'NA', 'NA', 'NA', 'NA', 'NA']\n['gen1', 'gen2', 'gen3', 'wind', 'csp']\n"
      },
      {
       "output_type": "display_data",
       "png": "[encoded data removed]"
      }
     ],
     "prompt_number": 72
    },
    {
     "cell_type": "code",
     "collapsed": false,
     "input": "res.plotDemandPerArea('NA')",
     "language": "python",
     "metadata": {},
     "outputs": [
      {
       "output_type": "display_data",
       "png": "[encoded data removed]"
      }
     ],
     "prompt_number": 73
    },
    {
     "cell_type": "code",
     "collapsed": false,
     "input": "res.plotMapGrid(nodetype='nodalprice',branchtype='utilisation',show_node_labels=True)",
     "language": "python",
     "metadata": {},
     "outputs": [
      {
       "output_type": "stream",
       "stream": "stdout",
       "text": "Nodal prices: max=32.1374, min=10\nBranch utilisation: max=1, min=0.0523656\n"
      },
      {
       "output_type": "display_data",
       "png": "[encoded data removed]"
      }
     ],
     "prompt_number": 74
    },
    {
     "cell_type": "code",
     "collapsed": false,
     "input": "print \"from=          \",\" \".join(\"%7s\" % item for item in data.branch.node_from)\nprint \"to=            \",\" \".join(\"%7s\" % item for item in data.branch.node_to)\nprint \"reactance=     \",\" \".join(\"%7.2f\" % item for item in data.branch.reactance)\nprint \"capacity       \",\" \".join(\"%7.2f\" % item for item in data.branch.capacity)\nprint \"flow (avg)=    \",\" \".join(\"%7.2f\" % item for item in numpy.mean(res.branchFlow,axis=0))\nprint \"flow (std.dev)=\",\" \".join(\"%7.2f\" % item for item in numpy.std(res.branchFlow,axis=0))\nprint \"\"\nprint \"generator buses=\",data.generator.node\nprint \"output=         \",res.generatorOutput[0]\nprint \"price=          \",data.generator.marginalcost\nprint \"\"\nprint \"load buses=\",data.consumer.node\nprint \"demand=    \",data.consumer.load",
     "language": "python",
     "metadata": {},
     "outputs": [
      {
       "output_type": "stream",
       "stream": "stdout",
       "text": "from=              bus1    bus4    bus5    bus3    bus6    bus7    bus8    bus8    bus9\nto=                bus4    bus5    bus6    bus6    bus7    bus8    bus2    bus9    bus4\nreactance=         0.06    0.09    0.17    0.06    0.10    0.07    0.06    0.16    0.09\ncapacity         250.00  250.00  150.00  300.00  150.00  250.00  250.00  250.00  250.00\nflow (avg)=      163.09   13.09 -136.91  286.91  150.00   50.00  -50.00  100.00 -150.00\nflow (std.dev)=    0.00    0.00    0.00    0.00    0.00    0.00    0.00    0.00    0.00\n\ngenerator buses= ['bus1', 'bus2', 'bus3', 'bus4', 'bus5']\noutput=          [163.09123, 50.0, 286.90785, 0.0, 0.0]\nprice=           [20.0, 5.0, 10.0, 0.0, 0.0]\n\nload buses= ['bus5', 'bus7', 'bus9']\ndemand=     [150.0, 100.0, 250.0]\n"
      }
     ],
     "prompt_number": 75
    },
    {
     "cell_type": "code",
     "collapsed": false,
     "input": "help(powergama.Results.plotMapGrid)",
     "language": "python",
     "metadata": {},
     "outputs": [
      {
       "output_type": "stream",
       "stream": "stdout",
       "text": "Help on method plotMapGrid in module powergama.Results:\n\nplotMapGrid(self, nodetype='', branchtype='', dcbranchtype='', show_node_labels=False, latlon=None) unbound powergama.Results.Results method\n    Plot results to map\n    \n    Parameters\n    ----------\n    nodetype (str) (default = \"\")\n        \"\", \"area\", \"nodalprice\"\n    branchtype (str) (default = \"\")\n        \"\", \"area\", \"utilisation\", \"flow\", \"sensitivity\"\n    dcbranchtype (str) (default = \"\")\n        \"\"\n    show_node_labels (bool) (default=False)\n        show node names (true/false)\n    latlon (list) (default=None)\n        map area [lat_min, lon_min, lat_max, lon_max]\n\n"
      }
     ],
     "prompt_number": 76
    },
    {
     "cell_type": "code",
     "collapsed": false,
     "input": "",
     "language": "python",
     "metadata": {},
     "outputs": []
    }
   ],
   "metadata": {}
  }
 ]
}